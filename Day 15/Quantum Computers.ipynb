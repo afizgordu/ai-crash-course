{
 "cells": [
  {
   "cell_type": "markdown",
   "id": "48093e51",
   "metadata": {},
   "source": [
    "# Quantum Computers"
   ]
  },
  {
   "cell_type": "raw",
   "id": "a2ae62b7",
   "metadata": {
    "vscode": {
     "languageId": "raw"
    }
   },
   "source": [
    "1-Entanglement \n",
    "2-Superposition \n",
    "3-Teleportation \n",
    "4-Quantum Tunneling\n",
    "5-Probability"
   ]
  },
  {
   "cell_type": "code",
   "execution_count": 9,
   "id": "d37f0486",
   "metadata": {},
   "outputs": [],
   "source": [
    "import warnings\n",
    "warnings.filterwarnings('ignore')"
   ]
  },
  {
   "cell_type": "markdown",
   "id": "4c8325e7",
   "metadata": {},
   "source": [
    "### Requirements for installation\n",
    "\n",
    "* Create and activate a new environment in Anaconda\n",
    "* Install the following packages in order:\n",
    "    1. pip\n",
    "    2. qiskit\n",
    "    3. matplotlib\n",
    "    4. qiskit_ibm_runtime\n",
    "    5. pylatexenc\n"
   ]
  },
  {
   "cell_type": "code",
   "execution_count": 10,
   "id": "a5558d38",
   "metadata": {
    "scrolled": true
   },
   "outputs": [],
   "source": [
    "#pip install qiskit "
   ]
  },
  {
   "cell_type": "code",
   "execution_count": 11,
   "id": "1ac2ef47",
   "metadata": {},
   "outputs": [],
   "source": [
    "#pip install matplotlib "
   ]
  },
  {
   "cell_type": "code",
   "execution_count": 12,
   "id": "692bbb6f",
   "metadata": {},
   "outputs": [],
   "source": [
    "#pip install qiskit_ibm_runtime"
   ]
  },
  {
   "cell_type": "code",
   "execution_count": 13,
   "id": "193c1057",
   "metadata": {},
   "outputs": [],
   "source": [
    "#pip install pylatexenc"
   ]
  },
  {
   "cell_type": "code",
   "execution_count": 14,
   "id": "be6d0e14",
   "metadata": {},
   "outputs": [],
   "source": [
    "#pip install qiskit-aer"
   ]
  },
  {
   "cell_type": "code",
   "execution_count": 15,
   "id": "ab69520e",
   "metadata": {},
   "outputs": [],
   "source": [
    "from qiskit_ibm_runtime import QiskitRuntimeService\n",
    "\n",
    "service = QiskitRuntimeService(channel=\"ibm_quantum\",\n",
    "                               token=\"YOUR_IBM_API_TOKEN\")"
   ]
  },
  {
   "cell_type": "code",
   "execution_count": 17,
   "id": "185832c6",
   "metadata": {},
   "outputs": [],
   "source": [
    "# Since the account is registered when this code is run once, an \"already exists\" error may be received when it is run a second time. \n",
    "# There is no need to run this code again after a kernel restart.\n",
    "\n",
    "QiskitRuntimeService.save_account(channel=\"ibm_quantum\",\n",
    "                                  token=\"YOUR_IBM_API_TOKEN\")"
   ]
  },
  {
   "cell_type": "code",
   "execution_count": 18,
   "id": "00f9aecb",
   "metadata": {},
   "outputs": [],
   "source": [
    "backend = service.backend(name=\"ibm_brisbane\")"
   ]
  },
  {
   "cell_type": "code",
   "execution_count": null,
   "id": "c6df6652",
   "metadata": {},
   "outputs": [
    {
     "data": {
      "text/plain": [
       "127"
      ]
     },
     "execution_count": 15,
     "metadata": {},
     "output_type": "execute_result"
    }
   ],
   "source": [
    "backend.num_qubits "
   ]
  },
  {
   "cell_type": "code",
   "execution_count": null,
   "id": "1e625430",
   "metadata": {},
   "outputs": [],
   "source": [
    "from qiskit import *"
   ]
  },
  {
   "cell_type": "code",
   "execution_count": null,
   "id": "35942979",
   "metadata": {},
   "outputs": [],
   "source": [
    "qr=QuantumRegister(2)\n",
    "cr=ClassicalRegister(2)"
   ]
  },
  {
   "cell_type": "code",
   "execution_count": null,
   "id": "23540952",
   "metadata": {},
   "outputs": [],
   "source": [
    "circuit=QuantumCircuit(qr,cr)"
   ]
  },
  {
   "cell_type": "code",
   "execution_count": null,
   "id": "a6a76560",
   "metadata": {},
   "outputs": [],
   "source": [
    "#Hadamart Gate QUantum "
   ]
  },
  {
   "cell_type": "code",
   "execution_count": null,
   "id": "e7fc53f8",
   "metadata": {},
   "outputs": [
    {
     "data": {
      "text/plain": [
       "<qiskit.circuit.instructionset.InstructionSet at 0x124a02fb0>"
      ]
     },
     "execution_count": 20,
     "metadata": {},
     "output_type": "execute_result"
    }
   ],
   "source": [
    "circuit.h(qr[0])"
   ]
  },
  {
   "cell_type": "code",
   "execution_count": null,
   "id": "994f0a3a",
   "metadata": {},
   "outputs": [
    {
     "name": "stderr",
     "output_type": "stream",
     "text": [
      "Matplotlib is building the font cache; this may take a moment.\n"
     ]
    },
    {
     "data": {
      "image/png": "[encoded data removed]",
      "text/plain": [
       "<Figure size 221.712x284.278 with 1 Axes>"
      ]
     },
     "execution_count": 21,
     "metadata": {},
     "output_type": "execute_result"
    }
   ],
   "source": [
    "circuit.draw(output='mpl')"
   ]
  },
  {
   "cell_type": "code",
   "execution_count": null,
   "id": "d175bb0d",
   "metadata": {},
   "outputs": [],
   "source": [
    "#CNOT gate controlled X Gate"
   ]
  },
  {
   "cell_type": "code",
   "execution_count": null,
   "id": "b61e1f83",
   "metadata": {},
   "outputs": [
    {
     "data": {
      "text/plain": [
       "<qiskit.circuit.instructionset.InstructionSet at 0x133f0e140>"
      ]
     },
     "execution_count": 23,
     "metadata": {},
     "output_type": "execute_result"
    }
   ],
   "source": [
    "circuit.cx(qr[0],qr[1])"
   ]
  },
  {
   "cell_type": "code",
   "execution_count": null,
   "id": "5277490b",
   "metadata": {},
   "outputs": [
    {
     "data": {
      "text/plain": [
       "<qiskit.circuit.instructionset.InstructionSet at 0x133e3ceb0>"
      ]
     },
     "execution_count": 24,
     "metadata": {},
     "output_type": "execute_result"
    }
   ],
   "source": [
    "circuit.measure(qr,cr)"
   ]
  },
  {
   "cell_type": "code",
   "execution_count": null,
   "id": "41ebc3e9",
   "metadata": {
    "collapsed": true,
    "jupyter": {
     "outputs_hidden": true
    }
   },
   "outputs": [
    {
     "data": {
      "image/png": "[encoded data removed]",
      "text/plain": [
       "<Figure size 472.545x284.278 with 1 Axes>"
      ]
     },
     "execution_count": 25,
     "metadata": {},
     "output_type": "execute_result"
    }
   ],
   "source": [
    "circuit.draw(output='mpl')"
   ]
  },
  {
   "cell_type": "code",
   "execution_count": null,
   "id": "026b7f81",
   "metadata": {},
   "outputs": [],
   "source": [
    "from qiskit_aer import AerSimulator"
   ]
  },
  {
   "cell_type": "code",
   "execution_count": null,
   "id": "db25448c",
   "metadata": {},
   "outputs": [],
   "source": [
    "#simulator=Aer.get_backend('qasm_simulator')  \n",
    "# In the new version, Aer is no longer used and instead AerSimulator is used.\n",
    "simulator= AerSimulator()"
   ]
  },
  {
   "cell_type": "code",
   "execution_count": null,
   "id": "d0693685",
   "metadata": {},
   "outputs": [],
   "source": [
    "#result=execute(circuit,backend=simulator).result()\n",
    "#  In the new qiskit version, simulator.run is used instead of the execute function\n",
    "result= simulator.run(circuit).result()"
   ]
  },
  {
   "cell_type": "code",
   "execution_count": null,
   "id": "11020cef",
   "metadata": {},
   "outputs": [],
   "source": [
    "#from qiskit.tools.visualization import plot_histogram\n",
    "# In the new version, histogram is made with a different library\n",
    "\n",
    "from qiskit.visualization import plot_histogram"
   ]
  },
  {
   "cell_type": "code",
   "execution_count": null,
   "id": "d55b25d6",
   "metadata": {},
   "outputs": [
    {
     "data": {
      "image/png": "[encoded data removed]",
      "text/plain": [
       "<Figure size 640x480 with 1 Axes>"
      ]
     },
     "execution_count": 37,
     "metadata": {},
     "output_type": "execute_result"
    }
   ],
   "source": [
    "plot_histogram(result.get_counts())"
   ]
  }
 ],
 "metadata": {
  "kernelspec": {
   "display_name": "Python 3 (ipykernel)",
   "language": "python",
   "name": "python3"
  },
  "language_info": {
   "codemirror_mode": {
    "name": "ipython",
    "version": 3
   },
   "file_extension": ".py",
   "mimetype": "text/x-python",
   "name": "python",
   "nbconvert_exporter": "python",
   "pygments_lexer": "ipython3",
   "version": "3.11.9"
  }
 },
 "nbformat": 4,
 "nbformat_minor": 5
}

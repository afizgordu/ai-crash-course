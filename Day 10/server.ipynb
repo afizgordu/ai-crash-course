{
 "cells": [
  {
   "cell_type": "code",
   "execution_count": 1,
   "metadata": {},
   "outputs": [
    {
     "name": "stdout",
     "output_type": "stream",
     "text": [
      "Serving HTTP on :: port 8000 (http://[::]:8000/) ...\n",
      "::1 - - [28/Jul/2024 11:52:08] \"GET / HTTP/1.1\" 200 -\n",
      "::1 - - [28/Jul/2024 11:52:08] code 404, message File not found\n",
      "::1 - - [28/Jul/2024 11:52:08] code 404, message File not found\n",
      "::1 - - [28/Jul/2024 11:52:08] code 404, message File not found\n",
      "::1 - - [28/Jul/2024 11:52:08] \"GET /css/filament/forms/forms.css?v=3.2.96.0 HTTP/1.1\" 404 -\n",
      "::1 - - [28/Jul/2024 11:52:08] \"GET /css/Joaopaulolndev/filament-edit-profile/filament-edit-profile-styles.css?v=3.2.96.0 HTTP/1.1\" 404 -\n",
      "::1 - - [28/Jul/2024 11:52:08] \"GET /css/filament/support/support.css?v=3.2.96.0 HTTP/1.1\" 404 -\n",
      "::1 - - [28/Jul/2024 11:52:08] code 404, message File not found\n",
      "::1 - - [28/Jul/2024 11:52:08] \"GET /css/swisnl/filament-backgrounds/filament-backgrounds-styles.css?v=1.1.4.0 HTTP/1.1\" 404 -\n",
      "::1 - - [28/Jul/2024 11:52:08] code 404, message File not found\n",
      "::1 - - [28/Jul/2024 11:52:08] \"GET /css/filament-daterangepicker-filter/filament-daterangepicker-filter2.8.0.0.css?v=3.2.96.0 HTTP/1.1\" 404 -\n",
      "::1 - - [28/Jul/2024 11:52:09] code 404, message File not found\n",
      "::1 - - [28/Jul/2024 11:52:09] code 404, message File not found\n",
      "::1 - - [28/Jul/2024 11:52:09] code 404, message File not found\n",
      "::1 - - [28/Jul/2024 11:52:09] \"GET /js/filament-daterangepicker-filter/filament-daterangepicker-filter2.8.0.0.js?v=3.2.96.0 HTTP/1.1\" 404 -\n",
      "::1 - - [28/Jul/2024 11:52:09] \"GET /js/filament/support/async-alpine.js?v=3.2.96.0 HTTP/1.1\" 404 -\n",
      "::1 - - [28/Jul/2024 11:52:09] code 404, message File not found\n",
      "::1 - - [28/Jul/2024 11:52:09] \"GET /js/filament/filament/echo.js?v=3.2.96.0 HTTP/1.1\" 404 -\n",
      "::1 - - [28/Jul/2024 11:52:09] \"GET /js/filament/support/support.js?v=3.2.96.0 HTTP/1.1\" 404 -\n",
      "::1 - - [28/Jul/2024 11:52:09] code 404, message File not found\n",
      "::1 - - [28/Jul/2024 11:52:09] \"GET /js/filament/filament/app.js?v=3.2.96.0 HTTP/1.1\" 404 -\n",
      "::1 - - [28/Jul/2024 11:52:09] code 404, message File not found\n",
      "::1 - - [28/Jul/2024 11:52:09] \"GET /js/filament/notifications/notifications.js?v=3.2.96.0 HTTP/1.1\" 404 -\n",
      "::1 - - [28/Jul/2024 11:52:09] code 404, message File not found\n",
      "::1 - - [28/Jul/2024 11:52:09] code 404, message File not found\n",
      "::1 - - [28/Jul/2024 11:52:09] \"GET /style.css HTTP/1.1\" 404 -\n",
      "::1 - - [28/Jul/2024 11:52:09] \"GET /script.js HTTP/1.1\" 404 -\n",
      "::1 - - [28/Jul/2024 11:52:42] \"GET / HTTP/1.1\" 200 -\n",
      "::1 - - [28/Jul/2024 11:52:42] code 404, message File not found\n",
      "::1 - - [28/Jul/2024 11:52:42] \"GET /style.css HTTP/1.1\" 404 -\n",
      "::1 - - [28/Jul/2024 11:52:42] code 404, message File not found\n",
      "::1 - - [28/Jul/2024 11:52:42] \"GET /script.js HTTP/1.1\" 404 -\n",
      "::1 - - [28/Jul/2024 11:54:08] code 400, message Bad request version ('\\\\x00\\\\x04\\\\x03\\\\x00\\\\x01\\\\x02\\\\x00')\n",
      "::1 - - [28/Jul/2024 11:54:08] \"\\x16\\x03\\x01\\x02\\x00\\x01\\x00\\x01ü\\x03\\x03|\\x1e#\\x95\\x8fÓIÐ'±½Î\\x7f*pçMÖ0@®ÀÏ\\x98@Æ÷\\x83¼«\\x16\\x04 ×\\x97x+Ä$vÛ\\x85KþÙêÒç\\x83·\\x9fÕþûÐI1Í?Ï\\x86^\\x13*Ø\\x00$\\x13\\x02\\x13\\x03\\x13\\x01À,À0À+À/Ì©Ì¨À$À(À#À'\\x00\\x9f\\x00\\x9e\\x00k\\x00g\\x00ÿ\\x01\\x00\\x01\\x8f\\x00\\x00\\x00\\x0e\\x00\\x0c\\x00\\x00\\x09localhost\\x00\\x0b\\x00\\x04\\x03\\x00\\x01\\x02\\x00\" 400 -\n",
      "::1 - - [28/Jul/2024 11:54:26] \"GET / HTTP/1.1\" 200 -\n",
      "::1 - - [28/Jul/2024 13:29:24] \"GET / HTTP/1.1\" 200 -\n",
      "::1 - - [28/Jul/2024 13:29:24] code 404, message File not found\n",
      "::1 - - [28/Jul/2024 13:29:24] \"GET /style.css HTTP/1.1\" 404 -\n",
      "::1 - - [28/Jul/2024 13:29:24] code 404, message File not found\n",
      "::1 - - [28/Jul/2024 13:29:24] \"GET /script.js HTTP/1.1\" 404 -\n",
      "^C\n",
      "\n",
      "Keyboard interrupt received, exiting.\n"
     ]
    }
   ],
   "source": [
    "!python -m http.server 8000"
   ]
  }
 ],
 "metadata": {
  "kernelspec": {
   "display_name": "base",
   "language": "python",
   "name": "python3"
  },
  "language_info": {
   "codemirror_mode": {
    "name": "ipython",
    "version": 3
   },
   "file_extension": ".py",
   "mimetype": "text/x-python",
   "name": "python",
   "nbconvert_exporter": "python",
   "pygments_lexer": "ipython3",
   "version": "3.11.7"
  }
 },
 "nbformat": 4,
 "nbformat_minor": 2
}

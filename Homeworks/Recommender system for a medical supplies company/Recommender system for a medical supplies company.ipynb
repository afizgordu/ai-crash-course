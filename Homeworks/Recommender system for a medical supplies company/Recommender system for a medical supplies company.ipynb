{
 "cells": [
  {
   "cell_type": "markdown",
   "metadata": {},
   "source": [
    "# Recommender system for a medical supplies company"
   ]
  },
  {
   "cell_type": "markdown",
   "metadata": {},
   "source": [
    "The goal of the project is to help the company generate incremental sales by\n",
    "implementing a recommender system.\n",
    "+ Data Prep and Modelling\n",
    "+ Missing data\n",
    "+ Calculate find the most popular product using maximum sales by volume and dollar amount\n",
    "+ Company with a maximum purchase\n",
    "+ Build a popularity-based recommender system\n",
    "+ Build a recommender system using matrix factorization\n",
    "+ Cosine similarity for product description"
   ]
  },
  {
   "cell_type": "markdown",
   "metadata": {},
   "source": [
    "### Importing Required Libraries"
   ]
  },
  {
   "cell_type": "code",
   "execution_count": 448,
   "metadata": {},
   "outputs": [],
   "source": [
    "import pandas as pd\n",
    "import numpy as np\n",
    "import matplotlib.pyplot as plt\n",
    "import seaborn as sns\n",
    "import plotly.express as px\n",
    "import warnings\n",
    "warnings.filterwarnings(\"ignore\")\n",
    "pd.set_option(\"display.max_columns\",100)\n",
    "pd.set_option(\"display.max_rows\",100)"
   ]
  },
  {
   "cell_type": "code",
   "execution_count": 449,
   "metadata": {},
   "outputs": [],
   "source": [
    "df = pd.read_csv('PBL 5 recommendation data.csv', encoding='latin-1')    "
   ]
  },
  {
   "cell_type": "markdown",
   "metadata": {},
   "source": [
    "### EDA - Exploratory Data Analysis"
   ]
  },
  {
   "cell_type": "code",
   "execution_count": 450,
   "metadata": {},
   "outputs": [
    {
     "data": {
      "text/html": [
       "<div>\n",
       "<style scoped>\n",
       "    .dataframe tbody tr th:only-of-type {\n",
       "        vertical-align: middle;\n",
       "    }\n",
       "\n",
       "    .dataframe tbody tr th {\n",
       "        vertical-align: top;\n",
       "    }\n",
       "\n",
       "    .dataframe thead th {\n",
       "        text-align: right;\n",
       "    }\n",
       "</style>\n",
       "<table border=\"1\" class=\"dataframe\">\n",
       "  <thead>\n",
       "    <tr style=\"text-align: right;\">\n",
       "      <th></th>\n",
       "      <th>Customers.id</th>\n",
       "      <th>Customers.fname</th>\n",
       "      <th>Customers.lname</th>\n",
       "      <th>Customers.company</th>\n",
       "      <th>Customers.create_date</th>\n",
       "      <th>Customers.status</th>\n",
       "      <th>Customers.mailing</th>\n",
       "      <th>Customers.reminders</th>\n",
       "      <th>Customers.tax_exempt</th>\n",
       "      <th>Customers.account_id</th>\n",
       "      <th>Customers.sales_rep</th>\n",
       "      <th>Customers.rewards</th>\n",
       "      <th>Customers.profile_id</th>\n",
       "      <th>Customers.last_modified</th>\n",
       "      <th>Customers.customer_type</th>\n",
       "      <th>Orders.id</th>\n",
       "      <th>Orders.customer_id</th>\n",
       "      <th>Orders.fname</th>\n",
       "      <th>Orders.lname</th>\n",
       "      <th>Orders.company</th>\n",
       "      <th>Orders.order_number</th>\n",
       "      <th>Orders.reorder_id</th>\n",
       "      <th>Orders.external_source</th>\n",
       "      <th>Orders.external_id</th>\n",
       "      <th>Orders.currency</th>\n",
       "      <th>Orders.sales_rep</th>\n",
       "      <th>Orders.subtotal</th>\n",
       "      <th>Orders.tax</th>\n",
       "      <th>Orders.shipping</th>\n",
       "      <th>Orders.coupon_id</th>\n",
       "      <th>Orders.coupon_amount</th>\n",
       "      <th>Orders.gift_id</th>\n",
       "      <th>Orders.gift_amount</th>\n",
       "      <th>Orders.fee_name</th>\n",
       "      <th>Orders.fee_amount</th>\n",
       "      <th>Orders.discount_name</th>\n",
       "      <th>Orders.discount_amount</th>\n",
       "      <th>Orders.total</th>\n",
       "      <th>Orders.balance_due</th>\n",
       "      <th>Orders.shipping_carrier</th>\n",
       "      <th>Orders.shipping_method</th>\n",
       "      <th>Orders.shipping_trans</th>\n",
       "      <th>Orders.shipping_flags</th>\n",
       "      <th>Orders.weight</th>\n",
       "      <th>Orders.tracking</th>\n",
       "      <th>Orders.payment_status</th>\n",
       "      <th>Orders.payment_date</th>\n",
       "      <th>Orders.payment_user</th>\n",
       "      <th>Orders.payment_type</th>\n",
       "      <th>Orders.payment_method</th>\n",
       "      <th>...</th>\n",
       "      <th>Products.seo_description</th>\n",
       "      <th>Products.seo_keywords</th>\n",
       "      <th>Products.seo_header</th>\n",
       "      <th>Products.seo_footer</th>\n",
       "      <th>Products.seo_url</th>\n",
       "      <th>Products.seo_category</th>\n",
       "      <th>Products.unit</th>\n",
       "      <th>Products.packaging</th>\n",
       "      <th>Products.display_packaging</th>\n",
       "      <th>Products.multiple</th>\n",
       "      <th>Products.length</th>\n",
       "      <th>Products.width</th>\n",
       "      <th>Products.height</th>\n",
       "      <th>Products.rx</th>\n",
       "      <th>Products.latex</th>\n",
       "      <th>Products.upc</th>\n",
       "      <th>Products.msds_link</th>\n",
       "      <th>Products.msds_label</th>\n",
       "      <th>Products.lit_link</th>\n",
       "      <th>Products.lit_label</th>\n",
       "      <th>Products.hcpcs</th>\n",
       "      <th>Products.case_qty</th>\n",
       "      <th>Products.markup</th>\n",
       "      <th>Products.override_markup</th>\n",
       "      <th>Products.notes</th>\n",
       "      <th>Products.import_flags</th>\n",
       "      <th>Products.map_price</th>\n",
       "      <th>Products.features_title</th>\n",
       "      <th>Products.warranty</th>\n",
       "      <th>Products.hygienic</th>\n",
       "      <th>Products.default_quantity</th>\n",
       "      <th>Products.user_size</th>\n",
       "      <th>Products.assembly</th>\n",
       "      <th>Products.installation</th>\n",
       "      <th>Products.shipping_length</th>\n",
       "      <th>Products.shipping_width</th>\n",
       "      <th>Products.shipping_height</th>\n",
       "      <th>Products.shipping_weight</th>\n",
       "      <th>Products.handling_time</th>\n",
       "      <th>Products.rotation_link</th>\n",
       "      <th>Products.google_shopping_label</th>\n",
       "      <th>Products.product_option</th>\n",
       "      <th>Products.size</th>\n",
       "      <th>Products.material</th>\n",
       "      <th>Products.arm_style</th>\n",
       "      <th>Products.leg_style</th>\n",
       "      <th>Products.seat_size</th>\n",
       "      <th>Products.family_id</th>\n",
       "      <th>Products.saved_status</th>\n",
       "      <th>Products.freight_cost</th>\n",
       "    </tr>\n",
       "  </thead>\n",
       "  <tbody>\n",
       "    <tr>\n",
       "      <th>0</th>\n",
       "      <td>b</td>\n",
       "      <td>Christy</td>\n",
       "      <td>Dill</td>\n",
       "      <td>Company0</td>\n",
       "      <td>1426018724</td>\n",
       "      <td>NaN</td>\n",
       "      <td>NaN</td>\n",
       "      <td>NaN</td>\n",
       "      <td>NaN</td>\n",
       "      <td>NaN</td>\n",
       "      <td>NaN</td>\n",
       "      <td>NaN</td>\n",
       "      <td>NaN</td>\n",
       "      <td>1437764306</td>\n",
       "      <td>0.0</td>\n",
       "      <td>3758</td>\n",
       "      <td>797</td>\n",
       "      <td>Christy</td>\n",
       "      <td>Dill</td>\n",
       "      <td>Company0</td>\n",
       "      <td>3758</td>\n",
       "      <td>NaN</td>\n",
       "      <td>NaN</td>\n",
       "      <td>NaN</td>\n",
       "      <td>USD</td>\n",
       "      <td>NaN</td>\n",
       "      <td>57.20</td>\n",
       "      <td>0.0</td>\n",
       "      <td>9.95</td>\n",
       "      <td>13.0</td>\n",
       "      <td>2.86</td>\n",
       "      <td>NaN</td>\n",
       "      <td>NaN</td>\n",
       "      <td>NaN</td>\n",
       "      <td>NaN</td>\n",
       "      <td>NaN</td>\n",
       "      <td>NaN</td>\n",
       "      <td>64.29</td>\n",
       "      <td>NaN</td>\n",
       "      <td>fedex</td>\n",
       "      <td>11|Ground</td>\n",
       "      <td>NaN</td>\n",
       "      <td>NaN</td>\n",
       "      <td>NaN</td>\n",
       "      <td>5.7204E+14</td>\n",
       "      <td>3.0</td>\n",
       "      <td>1.426019e+09</td>\n",
       "      <td>NaN</td>\n",
       "      <td>authorize.net</td>\n",
       "      <td>NaN</td>\n",
       "      <td>...</td>\n",
       "      <td>NaN</td>\n",
       "      <td>NaN</td>\n",
       "      <td>NaN</td>\n",
       "      <td>NaN</td>\n",
       "      <td>Basic-Rollators-For-Adults-With-Seat-Green-6-W...</td>\n",
       "      <td>0.0</td>\n",
       "      <td>EA</td>\n",
       "      <td>1 Each / Each</td>\n",
       "      <td>NaN</td>\n",
       "      <td>1 EA</td>\n",
       "      <td>NaN</td>\n",
       "      <td>NaN</td>\n",
       "      <td>NaN</td>\n",
       "      <td>NaN</td>\n",
       "      <td>NaN</td>\n",
       "      <td>NaN</td>\n",
       "      <td>NaN</td>\n",
       "      <td>NaN</td>\n",
       "      <td>NaN</td>\n",
       "      <td>NaN</td>\n",
       "      <td>E0149 +E0156</td>\n",
       "      <td>1.0</td>\n",
       "      <td>NaN</td>\n",
       "      <td>0.0</td>\n",
       "      <td>NaN</td>\n",
       "      <td>136.0</td>\n",
       "      <td>NaN</td>\n",
       "      <td>NaN</td>\n",
       "      <td>NaN</td>\n",
       "      <td>0.0</td>\n",
       "      <td>NaN</td>\n",
       "      <td>NaN</td>\n",
       "      <td>NaN</td>\n",
       "      <td>NaN</td>\n",
       "      <td>24.80</td>\n",
       "      <td>7.50</td>\n",
       "      <td>30.40</td>\n",
       "      <td>NaN</td>\n",
       "      <td>NaN</td>\n",
       "      <td>NaN</td>\n",
       "      <td>NaN</td>\n",
       "      <td>NaN</td>\n",
       "      <td>NaN</td>\n",
       "      <td>NaN</td>\n",
       "      <td>NaN</td>\n",
       "      <td>NaN</td>\n",
       "      <td>NaN</td>\n",
       "      <td>PF61071</td>\n",
       "      <td>0.0</td>\n",
       "      <td>NaN</td>\n",
       "    </tr>\n",
       "    <tr>\n",
       "      <th>1</th>\n",
       "      <td>3</td>\n",
       "      <td>John</td>\n",
       "      <td>Smith</td>\n",
       "      <td>Company1</td>\n",
       "      <td>1386089139</td>\n",
       "      <td>NaN</td>\n",
       "      <td>NaN</td>\n",
       "      <td>NaN</td>\n",
       "      <td>NaN</td>\n",
       "      <td>NaN</td>\n",
       "      <td>NaN</td>\n",
       "      <td>NaN</td>\n",
       "      <td>NaN</td>\n",
       "      <td>1437764354</td>\n",
       "      <td>0.0</td>\n",
       "      <td>23</td>\n",
       "      <td>3</td>\n",
       "      <td>John</td>\n",
       "      <td>Smith</td>\n",
       "      <td>Company1</td>\n",
       "      <td>23</td>\n",
       "      <td>NaN</td>\n",
       "      <td>NaN</td>\n",
       "      <td>NaN</td>\n",
       "      <td>USD</td>\n",
       "      <td>NaN</td>\n",
       "      <td>20.00</td>\n",
       "      <td>NaN</td>\n",
       "      <td>9.99</td>\n",
       "      <td>NaN</td>\n",
       "      <td>NaN</td>\n",
       "      <td>NaN</td>\n",
       "      <td>NaN</td>\n",
       "      <td>NaN</td>\n",
       "      <td>NaN</td>\n",
       "      <td>NaN</td>\n",
       "      <td>NaN</td>\n",
       "      <td>29.99</td>\n",
       "      <td>NaN</td>\n",
       "      <td>fedex</td>\n",
       "      <td>11|Ground</td>\n",
       "      <td>NaN</td>\n",
       "      <td>NaN</td>\n",
       "      <td>NaN</td>\n",
       "      <td>1.28597E+14</td>\n",
       "      <td>3.0</td>\n",
       "      <td>1.386090e+09</td>\n",
       "      <td>NaN</td>\n",
       "      <td>authorize.net</td>\n",
       "      <td>NaN</td>\n",
       "      <td>...</td>\n",
       "      <td>NaN</td>\n",
       "      <td>NaN</td>\n",
       "      <td>NaN</td>\n",
       "      <td>NaN</td>\n",
       "      <td>Urinary-Drain-Bags0000</td>\n",
       "      <td>0.0</td>\n",
       "      <td>EA</td>\n",
       "      <td>1 Each / Each</td>\n",
       "      <td>NaN</td>\n",
       "      <td>1 EA</td>\n",
       "      <td>NaN</td>\n",
       "      <td>NaN</td>\n",
       "      <td>NaN</td>\n",
       "      <td>Rx</td>\n",
       "      <td>Yes</td>\n",
       "      <td>NaN</td>\n",
       "      <td>NaN</td>\n",
       "      <td>NaN</td>\n",
       "      <td>https://medline360.medline.com:443/irj/servlet...</td>\n",
       "      <td>508f2d75-582e-2e10-2eab-d83980a9b1d0</td>\n",
       "      <td>A4357</td>\n",
       "      <td>1.0</td>\n",
       "      <td>NaN</td>\n",
       "      <td>0.0</td>\n",
       "      <td>OFF sale cause it is an RX item</td>\n",
       "      <td>0.0</td>\n",
       "      <td>NaN</td>\n",
       "      <td>NaN</td>\n",
       "      <td>NaN</td>\n",
       "      <td>0.0</td>\n",
       "      <td>NaN</td>\n",
       "      <td>NaN</td>\n",
       "      <td>NaN</td>\n",
       "      <td>NaN</td>\n",
       "      <td>8.00</td>\n",
       "      <td>7.00</td>\n",
       "      <td>1.50</td>\n",
       "      <td>NaN</td>\n",
       "      <td>NaN</td>\n",
       "      <td>NaN</td>\n",
       "      <td>NaN</td>\n",
       "      <td>NaN</td>\n",
       "      <td>NaN</td>\n",
       "      <td>NaN</td>\n",
       "      <td>NaN</td>\n",
       "      <td>NaN</td>\n",
       "      <td>NaN</td>\n",
       "      <td>PF02132</td>\n",
       "      <td>NaN</td>\n",
       "      <td>NaN</td>\n",
       "    </tr>\n",
       "    <tr>\n",
       "      <th>2</th>\n",
       "      <td>3</td>\n",
       "      <td>John</td>\n",
       "      <td>Smith</td>\n",
       "      <td>Company1</td>\n",
       "      <td>1386089139</td>\n",
       "      <td>NaN</td>\n",
       "      <td>NaN</td>\n",
       "      <td>NaN</td>\n",
       "      <td>NaN</td>\n",
       "      <td>NaN</td>\n",
       "      <td>NaN</td>\n",
       "      <td>NaN</td>\n",
       "      <td>NaN</td>\n",
       "      <td>1437764354</td>\n",
       "      <td>0.0</td>\n",
       "      <td>9531</td>\n",
       "      <td>3</td>\n",
       "      <td>John</td>\n",
       "      <td>Smith</td>\n",
       "      <td>Company1</td>\n",
       "      <td>9531</td>\n",
       "      <td>NaN</td>\n",
       "      <td>NaN</td>\n",
       "      <td>NaN</td>\n",
       "      <td>USD</td>\n",
       "      <td>NaN</td>\n",
       "      <td>68.78</td>\n",
       "      <td>0.0</td>\n",
       "      <td>9.95</td>\n",
       "      <td>NaN</td>\n",
       "      <td>NaN</td>\n",
       "      <td>NaN</td>\n",
       "      <td>NaN</td>\n",
       "      <td>NaN</td>\n",
       "      <td>NaN</td>\n",
       "      <td>NaN</td>\n",
       "      <td>NaN</td>\n",
       "      <td>78.73</td>\n",
       "      <td>NaN</td>\n",
       "      <td>manual</td>\n",
       "      <td>0|Standard Shipping</td>\n",
       "      <td>NaN</td>\n",
       "      <td>NaN</td>\n",
       "      <td>NaN</td>\n",
       "      <td>NaN</td>\n",
       "      <td>3.0</td>\n",
       "      <td>1.449604e+09</td>\n",
       "      <td>genlee166</td>\n",
       "      <td>authorize.net</td>\n",
       "      <td>NaN</td>\n",
       "      <td>...</td>\n",
       "      <td>NaN</td>\n",
       "      <td>NaN</td>\n",
       "      <td>NaN</td>\n",
       "      <td>NaN</td>\n",
       "      <td>SensiCare-Nitrile-Exam-GlovesBlueXX-Large</td>\n",
       "      <td>0.0</td>\n",
       "      <td>CS</td>\n",
       "      <td>800 Each / Case</td>\n",
       "      <td>NaN</td>\n",
       "      <td>1 CS</td>\n",
       "      <td>NaN</td>\n",
       "      <td>NaN</td>\n",
       "      <td>NaN</td>\n",
       "      <td>NaN</td>\n",
       "      <td>NaN</td>\n",
       "      <td>NaN</td>\n",
       "      <td>NaN</td>\n",
       "      <td>NaN</td>\n",
       "      <td>NaN</td>\n",
       "      <td>NaN</td>\n",
       "      <td>NO GOVERNMENT OR SUPPLIER HCPCS CODE VERIFICATION</td>\n",
       "      <td>800.0</td>\n",
       "      <td>NaN</td>\n",
       "      <td>0.0</td>\n",
       "      <td>NaN</td>\n",
       "      <td>NaN</td>\n",
       "      <td>NaN</td>\n",
       "      <td>NaN</td>\n",
       "      <td>NaN</td>\n",
       "      <td>NaN</td>\n",
       "      <td>NaN</td>\n",
       "      <td>NaN</td>\n",
       "      <td>NaN</td>\n",
       "      <td>NaN</td>\n",
       "      <td>13.23</td>\n",
       "      <td>10.04</td>\n",
       "      <td>10.24</td>\n",
       "      <td>NaN</td>\n",
       "      <td>NaN</td>\n",
       "      <td>NaN</td>\n",
       "      <td>NaN</td>\n",
       "      <td>NaN</td>\n",
       "      <td>2 x Extra large</td>\n",
       "      <td>Nitrile</td>\n",
       "      <td>NaN</td>\n",
       "      <td>NaN</td>\n",
       "      <td>NaN</td>\n",
       "      <td>PF00342</td>\n",
       "      <td>0.0</td>\n",
       "      <td>NaN</td>\n",
       "    </tr>\n",
       "    <tr>\n",
       "      <th>3</th>\n",
       "      <td>4</td>\n",
       "      <td>James</td>\n",
       "      <td>Anderson</td>\n",
       "      <td>NaN</td>\n",
       "      <td>1386780263</td>\n",
       "      <td>NaN</td>\n",
       "      <td>NaN</td>\n",
       "      <td>NaN</td>\n",
       "      <td>NaN</td>\n",
       "      <td>NaN</td>\n",
       "      <td>NaN</td>\n",
       "      <td>NaN</td>\n",
       "      <td>NaN</td>\n",
       "      <td>1437762646</td>\n",
       "      <td>0.0</td>\n",
       "      <td>29</td>\n",
       "      <td>4</td>\n",
       "      <td>James</td>\n",
       "      <td>Anderson</td>\n",
       "      <td>NaN</td>\n",
       "      <td>29</td>\n",
       "      <td>NaN</td>\n",
       "      <td>Ebay</td>\n",
       "      <td>NaN</td>\n",
       "      <td>USD</td>\n",
       "      <td>NaN</td>\n",
       "      <td>19.56</td>\n",
       "      <td>0.0</td>\n",
       "      <td>9.95</td>\n",
       "      <td>NaN</td>\n",
       "      <td>NaN</td>\n",
       "      <td>NaN</td>\n",
       "      <td>NaN</td>\n",
       "      <td>NaN</td>\n",
       "      <td>0.04</td>\n",
       "      <td>NaN</td>\n",
       "      <td>NaN</td>\n",
       "      <td>29.55</td>\n",
       "      <td>NaN</td>\n",
       "      <td>NaN</td>\n",
       "      <td>11|Ground</td>\n",
       "      <td>NaN</td>\n",
       "      <td>NaN</td>\n",
       "      <td>NaN</td>\n",
       "      <td>7.96468E+14</td>\n",
       "      <td>3.0</td>\n",
       "      <td>1.386780e+09</td>\n",
       "      <td>NaN</td>\n",
       "      <td>NaN</td>\n",
       "      <td>Credit Card</td>\n",
       "      <td>...</td>\n",
       "      <td>NaN</td>\n",
       "      <td>NaN</td>\n",
       "      <td>NaN</td>\n",
       "      <td>NaN</td>\n",
       "      <td>Basket-for-2-Button-Walkers-2</td>\n",
       "      <td>0.0</td>\n",
       "      <td>EA</td>\n",
       "      <td>1 Each / Each</td>\n",
       "      <td>NaN</td>\n",
       "      <td>1 EA</td>\n",
       "      <td>NaN</td>\n",
       "      <td>NaN</td>\n",
       "      <td>NaN</td>\n",
       "      <td>NaN</td>\n",
       "      <td>Yes</td>\n",
       "      <td>8.019675e+10</td>\n",
       "      <td>NaN</td>\n",
       "      <td>NaN</td>\n",
       "      <td>NaN</td>\n",
       "      <td>NaN</td>\n",
       "      <td>A9270</td>\n",
       "      <td>1.0</td>\n",
       "      <td>NaN</td>\n",
       "      <td>0.0</td>\n",
       "      <td>NaN</td>\n",
       "      <td>NaN</td>\n",
       "      <td>NaN</td>\n",
       "      <td>NaN</td>\n",
       "      <td>NaN</td>\n",
       "      <td>NaN</td>\n",
       "      <td>NaN</td>\n",
       "      <td>NaN</td>\n",
       "      <td>NaN</td>\n",
       "      <td>NaN</td>\n",
       "      <td>10.60</td>\n",
       "      <td>7.80</td>\n",
       "      <td>18.50</td>\n",
       "      <td>NaN</td>\n",
       "      <td>NaN</td>\n",
       "      <td>NaN</td>\n",
       "      <td>NaN</td>\n",
       "      <td>NaN</td>\n",
       "      <td>NaN</td>\n",
       "      <td>NaN</td>\n",
       "      <td>NaN</td>\n",
       "      <td>NaN</td>\n",
       "      <td>NaN</td>\n",
       "      <td>PF04970</td>\n",
       "      <td>NaN</td>\n",
       "      <td>NaN</td>\n",
       "    </tr>\n",
       "    <tr>\n",
       "      <th>4</th>\n",
       "      <td>5</td>\n",
       "      <td>Abraham</td>\n",
       "      <td>Pollak</td>\n",
       "      <td>Company3</td>\n",
       "      <td>1386861599</td>\n",
       "      <td>0.0</td>\n",
       "      <td>0.0</td>\n",
       "      <td>NaN</td>\n",
       "      <td>NaN</td>\n",
       "      <td>NaN</td>\n",
       "      <td>NaN</td>\n",
       "      <td>NaN</td>\n",
       "      <td>NaN</td>\n",
       "      <td>1437764316</td>\n",
       "      <td>0.0</td>\n",
       "      <td>30</td>\n",
       "      <td>5</td>\n",
       "      <td>Abraham</td>\n",
       "      <td>Pollak</td>\n",
       "      <td>Company3</td>\n",
       "      <td>30</td>\n",
       "      <td>NaN</td>\n",
       "      <td>NaN</td>\n",
       "      <td>NaN</td>\n",
       "      <td>USD</td>\n",
       "      <td>NaN</td>\n",
       "      <td>36.05</td>\n",
       "      <td>NaN</td>\n",
       "      <td>9.95</td>\n",
       "      <td>NaN</td>\n",
       "      <td>NaN</td>\n",
       "      <td>NaN</td>\n",
       "      <td>NaN</td>\n",
       "      <td>NaN</td>\n",
       "      <td>NaN</td>\n",
       "      <td>NaN</td>\n",
       "      <td>NaN</td>\n",
       "      <td>46.00</td>\n",
       "      <td>NaN</td>\n",
       "      <td>fedex</td>\n",
       "      <td>11|Ground</td>\n",
       "      <td>NaN</td>\n",
       "      <td>NaN</td>\n",
       "      <td>NaN</td>\n",
       "      <td>6.87398E+14</td>\n",
       "      <td>3.0</td>\n",
       "      <td>1.386862e+09</td>\n",
       "      <td>NaN</td>\n",
       "      <td>NaN</td>\n",
       "      <td>Credit Card</td>\n",
       "      <td>...</td>\n",
       "      <td>NaN</td>\n",
       "      <td>NaN</td>\n",
       "      <td>NaN</td>\n",
       "      <td>NaN</td>\n",
       "      <td>Tens-Units</td>\n",
       "      <td>0.0</td>\n",
       "      <td>EA</td>\n",
       "      <td>1 Each / Each</td>\n",
       "      <td>NaN</td>\n",
       "      <td>1 EA</td>\n",
       "      <td>NaN</td>\n",
       "      <td>NaN</td>\n",
       "      <td>NaN</td>\n",
       "      <td>Rx</td>\n",
       "      <td>NaN</td>\n",
       "      <td>NaN</td>\n",
       "      <td>NaN</td>\n",
       "      <td>NaN</td>\n",
       "      <td>NaN</td>\n",
       "      <td>NaN</td>\n",
       "      <td>E0730</td>\n",
       "      <td>1.0</td>\n",
       "      <td>NaN</td>\n",
       "      <td>0.0</td>\n",
       "      <td>OFF sale cause it is an RX item</td>\n",
       "      <td>NaN</td>\n",
       "      <td>NaN</td>\n",
       "      <td>NaN</td>\n",
       "      <td>NaN</td>\n",
       "      <td>NaN</td>\n",
       "      <td>NaN</td>\n",
       "      <td>NaN</td>\n",
       "      <td>NaN</td>\n",
       "      <td>NaN</td>\n",
       "      <td>8.50</td>\n",
       "      <td>2.75</td>\n",
       "      <td>12.00</td>\n",
       "      <td>NaN</td>\n",
       "      <td>NaN</td>\n",
       "      <td>NaN</td>\n",
       "      <td>NaN</td>\n",
       "      <td>NaN</td>\n",
       "      <td>NaN</td>\n",
       "      <td>NaN</td>\n",
       "      <td>NaN</td>\n",
       "      <td>NaN</td>\n",
       "      <td>NaN</td>\n",
       "      <td>PF03045</td>\n",
       "      <td>NaN</td>\n",
       "      <td>NaN</td>\n",
       "    </tr>\n",
       "  </tbody>\n",
       "</table>\n",
       "<p>5 rows × 181 columns</p>\n",
       "</div>"
      ],
      "text/plain": [
       "  Customers.id Customers.fname Customers.lname Customers.company  \\\n",
       "0            b         Christy            Dill          Company0   \n",
       "1            3            John           Smith          Company1   \n",
       "2            3            John           Smith          Company1   \n",
       "3            4           James        Anderson               NaN   \n",
       "4            5         Abraham          Pollak          Company3   \n",
       "\n",
       "   Customers.create_date  Customers.status  Customers.mailing  \\\n",
       "0             1426018724               NaN                NaN   \n",
       "1             1386089139               NaN                NaN   \n",
       "2             1386089139               NaN                NaN   \n",
       "3             1386780263               NaN                NaN   \n",
       "4             1386861599               0.0                0.0   \n",
       "\n",
       "   Customers.reminders  Customers.tax_exempt  Customers.account_id  \\\n",
       "0                  NaN                   NaN                   NaN   \n",
       "1                  NaN                   NaN                   NaN   \n",
       "2                  NaN                   NaN                   NaN   \n",
       "3                  NaN                   NaN                   NaN   \n",
       "4                  NaN                   NaN                   NaN   \n",
       "\n",
       "   Customers.sales_rep  Customers.rewards  Customers.profile_id  \\\n",
       "0                  NaN                NaN                   NaN   \n",
       "1                  NaN                NaN                   NaN   \n",
       "2                  NaN                NaN                   NaN   \n",
       "3                  NaN                NaN                   NaN   \n",
       "4                  NaN                NaN                   NaN   \n",
       "\n",
       "   Customers.last_modified  Customers.customer_type  Orders.id  \\\n",
       "0               1437764306                      0.0       3758   \n",
       "1               1437764354                      0.0         23   \n",
       "2               1437764354                      0.0       9531   \n",
       "3               1437762646                      0.0         29   \n",
       "4               1437764316                      0.0         30   \n",
       "\n",
       "   Orders.customer_id Orders.fname Orders.lname Orders.company  \\\n",
       "0                 797      Christy         Dill       Company0   \n",
       "1                   3         John        Smith       Company1   \n",
       "2                   3         John        Smith       Company1   \n",
       "3                   4        James     Anderson            NaN   \n",
       "4                   5      Abraham       Pollak       Company3   \n",
       "\n",
       "  Orders.order_number  Orders.reorder_id Orders.external_source  \\\n",
       "0                3758                NaN                    NaN   \n",
       "1                  23                NaN                    NaN   \n",
       "2                9531                NaN                    NaN   \n",
       "3                  29                NaN                   Ebay   \n",
       "4                  30                NaN                    NaN   \n",
       "\n",
       "   Orders.external_id Orders.currency  Orders.sales_rep  Orders.subtotal  \\\n",
       "0                 NaN             USD               NaN            57.20   \n",
       "1                 NaN             USD               NaN            20.00   \n",
       "2                 NaN             USD               NaN            68.78   \n",
       "3                 NaN             USD               NaN            19.56   \n",
       "4                 NaN             USD               NaN            36.05   \n",
       "\n",
       "   Orders.tax  Orders.shipping  Orders.coupon_id  Orders.coupon_amount  \\\n",
       "0         0.0             9.95              13.0                  2.86   \n",
       "1         NaN             9.99               NaN                   NaN   \n",
       "2         0.0             9.95               NaN                   NaN   \n",
       "3         0.0             9.95               NaN                   NaN   \n",
       "4         NaN             9.95               NaN                   NaN   \n",
       "\n",
       "   Orders.gift_id  Orders.gift_amount Orders.fee_name  Orders.fee_amount  \\\n",
       "0             NaN                 NaN             NaN                NaN   \n",
       "1             NaN                 NaN             NaN                NaN   \n",
       "2             NaN                 NaN             NaN                NaN   \n",
       "3             NaN                 NaN             NaN               0.04   \n",
       "4             NaN                 NaN             NaN                NaN   \n",
       "\n",
       "  Orders.discount_name  Orders.discount_amount  Orders.total  \\\n",
       "0                  NaN                     NaN         64.29   \n",
       "1                  NaN                     NaN         29.99   \n",
       "2                  NaN                     NaN         78.73   \n",
       "3                  NaN                     NaN         29.55   \n",
       "4                  NaN                     NaN         46.00   \n",
       "\n",
       "   Orders.balance_due Orders.shipping_carrier Orders.shipping_method  \\\n",
       "0                 NaN                   fedex              11|Ground   \n",
       "1                 NaN                   fedex              11|Ground   \n",
       "2                 NaN                  manual    0|Standard Shipping   \n",
       "3                 NaN                     NaN              11|Ground   \n",
       "4                 NaN                   fedex              11|Ground   \n",
       "\n",
       "   Orders.shipping_trans  Orders.shipping_flags  Orders.weight  \\\n",
       "0                    NaN                    NaN            NaN   \n",
       "1                    NaN                    NaN            NaN   \n",
       "2                    NaN                    NaN            NaN   \n",
       "3                    NaN                    NaN            NaN   \n",
       "4                    NaN                    NaN            NaN   \n",
       "\n",
       "  Orders.tracking  Orders.payment_status  Orders.payment_date  \\\n",
       "0      5.7204E+14                    3.0         1.426019e+09   \n",
       "1     1.28597E+14                    3.0         1.386090e+09   \n",
       "2             NaN                    3.0         1.449604e+09   \n",
       "3     7.96468E+14                    3.0         1.386780e+09   \n",
       "4     6.87398E+14                    3.0         1.386862e+09   \n",
       "\n",
       "  Orders.payment_user Orders.payment_type Orders.payment_method  ...  \\\n",
       "0                 NaN       authorize.net                   NaN  ...   \n",
       "1                 NaN       authorize.net                   NaN  ...   \n",
       "2           genlee166       authorize.net                   NaN  ...   \n",
       "3                 NaN                 NaN           Credit Card  ...   \n",
       "4                 NaN                 NaN           Credit Card  ...   \n",
       "\n",
       "   Products.seo_description  Products.seo_keywords Products.seo_header  \\\n",
       "0                       NaN                    NaN                 NaN   \n",
       "1                       NaN                    NaN                 NaN   \n",
       "2                       NaN                    NaN                 NaN   \n",
       "3                       NaN                    NaN                 NaN   \n",
       "4                       NaN                    NaN                 NaN   \n",
       "\n",
       "  Products.seo_footer                                   Products.seo_url  \\\n",
       "0                 NaN  Basic-Rollators-For-Adults-With-Seat-Green-6-W...   \n",
       "1                 NaN                             Urinary-Drain-Bags0000   \n",
       "2                 NaN          SensiCare-Nitrile-Exam-GlovesBlueXX-Large   \n",
       "3                 NaN                      Basket-for-2-Button-Walkers-2   \n",
       "4                 NaN                                         Tens-Units   \n",
       "\n",
       "   Products.seo_category  Products.unit  Products.packaging  \\\n",
       "0                    0.0             EA       1 Each / Each   \n",
       "1                    0.0             EA       1 Each / Each   \n",
       "2                    0.0             CS     800 Each / Case   \n",
       "3                    0.0             EA       1 Each / Each   \n",
       "4                    0.0             EA       1 Each / Each   \n",
       "\n",
       "   Products.display_packaging Products.multiple Products.length  \\\n",
       "0                         NaN              1 EA             NaN   \n",
       "1                         NaN              1 EA             NaN   \n",
       "2                         NaN              1 CS             NaN   \n",
       "3                         NaN              1 EA             NaN   \n",
       "4                         NaN              1 EA             NaN   \n",
       "\n",
       "   Products.width  Products.height  Products.rx  Products.latex  Products.upc  \\\n",
       "0             NaN              NaN          NaN             NaN           NaN   \n",
       "1             NaN              NaN           Rx             Yes           NaN   \n",
       "2             NaN              NaN          NaN             NaN           NaN   \n",
       "3             NaN              NaN          NaN             Yes  8.019675e+10   \n",
       "4             NaN              NaN           Rx             NaN           NaN   \n",
       "\n",
       "   Products.msds_link  Products.msds_label  \\\n",
       "0                 NaN                  NaN   \n",
       "1                 NaN                  NaN   \n",
       "2                 NaN                  NaN   \n",
       "3                 NaN                  NaN   \n",
       "4                 NaN                  NaN   \n",
       "\n",
       "                                   Products.lit_link  \\\n",
       "0                                                NaN   \n",
       "1  https://medline360.medline.com:443/irj/servlet...   \n",
       "2                                                NaN   \n",
       "3                                                NaN   \n",
       "4                                                NaN   \n",
       "\n",
       "                     Products.lit_label  \\\n",
       "0                                   NaN   \n",
       "1  508f2d75-582e-2e10-2eab-d83980a9b1d0   \n",
       "2                                   NaN   \n",
       "3                                   NaN   \n",
       "4                                   NaN   \n",
       "\n",
       "                                      Products.hcpcs Products.case_qty  \\\n",
       "0                                       E0149 +E0156               1.0   \n",
       "1                                              A4357               1.0   \n",
       "2  NO GOVERNMENT OR SUPPLIER HCPCS CODE VERIFICATION             800.0   \n",
       "3                                              A9270               1.0   \n",
       "4                                              E0730               1.0   \n",
       "\n",
       "   Products.markup Products.override_markup                   Products.notes  \\\n",
       "0              NaN                      0.0                              NaN   \n",
       "1              NaN                      0.0  OFF sale cause it is an RX item   \n",
       "2              NaN                      0.0                              NaN   \n",
       "3              NaN                      0.0                              NaN   \n",
       "4              NaN                      0.0  OFF sale cause it is an RX item   \n",
       "\n",
       "   Products.import_flags  Products.map_price  Products.features_title  \\\n",
       "0                  136.0                 NaN                      NaN   \n",
       "1                    0.0                 NaN                      NaN   \n",
       "2                    NaN                 NaN                      NaN   \n",
       "3                    NaN                 NaN                      NaN   \n",
       "4                    NaN                 NaN                      NaN   \n",
       "\n",
       "   Products.warranty  Products.hygienic  Products.default_quantity  \\\n",
       "0                NaN                0.0                        NaN   \n",
       "1                NaN                0.0                        NaN   \n",
       "2                NaN                NaN                        NaN   \n",
       "3                NaN                NaN                        NaN   \n",
       "4                NaN                NaN                        NaN   \n",
       "\n",
       "   Products.user_size  Products.assembly  Products.installation  \\\n",
       "0                 NaN                NaN                    NaN   \n",
       "1                 NaN                NaN                    NaN   \n",
       "2                 NaN                NaN                    NaN   \n",
       "3                 NaN                NaN                    NaN   \n",
       "4                 NaN                NaN                    NaN   \n",
       "\n",
       "   Products.shipping_length  Products.shipping_width Products.shipping_height  \\\n",
       "0                     24.80                     7.50                    30.40   \n",
       "1                      8.00                     7.00                     1.50   \n",
       "2                     13.23                    10.04                    10.24   \n",
       "3                     10.60                     7.80                    18.50   \n",
       "4                      8.50                     2.75                    12.00   \n",
       "\n",
       "   Products.shipping_weight  Products.handling_time Products.rotation_link  \\\n",
       "0                       NaN                     NaN                    NaN   \n",
       "1                       NaN                     NaN                    NaN   \n",
       "2                       NaN                     NaN                    NaN   \n",
       "3                       NaN                     NaN                    NaN   \n",
       "4                       NaN                     NaN                    NaN   \n",
       "\n",
       "  Products.google_shopping_label  Products.product_option    Products.size  \\\n",
       "0                            NaN                      NaN              NaN   \n",
       "1                            NaN                      NaN              NaN   \n",
       "2                            NaN                      NaN  2 x Extra large   \n",
       "3                            NaN                      NaN              NaN   \n",
       "4                            NaN                      NaN              NaN   \n",
       "\n",
       "   Products.material  Products.arm_style  Products.leg_style  \\\n",
       "0                NaN                 NaN                 NaN   \n",
       "1                NaN                 NaN                 NaN   \n",
       "2            Nitrile                 NaN                 NaN   \n",
       "3                NaN                 NaN                 NaN   \n",
       "4                NaN                 NaN                 NaN   \n",
       "\n",
       "   Products.seat_size  Products.family_id  Products.saved_status  \\\n",
       "0                 NaN             PF61071                    0.0   \n",
       "1                 NaN             PF02132                    NaN   \n",
       "2                 NaN             PF00342                    0.0   \n",
       "3                 NaN             PF04970                    NaN   \n",
       "4                 NaN             PF03045                    NaN   \n",
       "\n",
       "   Products.freight_cost  \n",
       "0                    NaN  \n",
       "1                    NaN  \n",
       "2                    NaN  \n",
       "3                    NaN  \n",
       "4                    NaN  \n",
       "\n",
       "[5 rows x 181 columns]"
      ]
     },
     "execution_count": 450,
     "metadata": {},
     "output_type": "execute_result"
    }
   ],
   "source": [
    "df.head()"
   ]
  },
  {
   "cell_type": "code",
   "execution_count": 451,
   "metadata": {},
   "outputs": [
    {
     "data": {
      "text/plain": [
       "(4194, 181)"
      ]
     },
     "execution_count": 451,
     "metadata": {},
     "output_type": "execute_result"
    }
   ],
   "source": [
    "df.shape"
   ]
  },
  {
   "cell_type": "code",
   "execution_count": 452,
   "metadata": {},
   "outputs": [
    {
     "name": "stdout",
     "output_type": "stream",
     "text": [
      "<class 'pandas.core.frame.DataFrame'>\n",
      "RangeIndex: 4194 entries, 0 to 4193\n",
      "Columns: 181 entries, Customers.id to Products.freight_cost\n",
      "dtypes: float64(98), int64(9), object(74)\n",
      "memory usage: 5.8+ MB\n"
     ]
    }
   ],
   "source": [
    "df.info()"
   ]
  },
  {
   "cell_type": "code",
   "execution_count": 453,
   "metadata": {},
   "outputs": [
    {
     "data": {
      "text/html": [
       "<div>\n",
       "<style scoped>\n",
       "    .dataframe tbody tr th:only-of-type {\n",
       "        vertical-align: middle;\n",
       "    }\n",
       "\n",
       "    .dataframe tbody tr th {\n",
       "        vertical-align: top;\n",
       "    }\n",
       "\n",
       "    .dataframe thead th {\n",
       "        text-align: right;\n",
       "    }\n",
       "</style>\n",
       "<table border=\"1\" class=\"dataframe\">\n",
       "  <thead>\n",
       "    <tr style=\"text-align: right;\">\n",
       "      <th></th>\n",
       "      <th>Customers.create_date</th>\n",
       "      <th>Customers.status</th>\n",
       "      <th>Customers.mailing</th>\n",
       "      <th>Customers.reminders</th>\n",
       "      <th>Customers.tax_exempt</th>\n",
       "      <th>Customers.account_id</th>\n",
       "      <th>Customers.sales_rep</th>\n",
       "      <th>Customers.rewards</th>\n",
       "      <th>Customers.profile_id</th>\n",
       "      <th>Customers.last_modified</th>\n",
       "      <th>Customers.customer_type</th>\n",
       "      <th>Orders.id</th>\n",
       "      <th>Orders.customer_id</th>\n",
       "      <th>Orders.reorder_id</th>\n",
       "      <th>Orders.external_id</th>\n",
       "      <th>Orders.sales_rep</th>\n",
       "      <th>Orders.subtotal</th>\n",
       "      <th>Orders.tax</th>\n",
       "      <th>Orders.shipping</th>\n",
       "      <th>Orders.coupon_id</th>\n",
       "      <th>Orders.coupon_amount</th>\n",
       "      <th>Orders.gift_id</th>\n",
       "      <th>Orders.gift_amount</th>\n",
       "      <th>Orders.fee_amount</th>\n",
       "      <th>Orders.discount_amount</th>\n",
       "      <th>Orders.total</th>\n",
       "      <th>Orders.balance_due</th>\n",
       "      <th>Orders.shipping_trans</th>\n",
       "      <th>Orders.shipping_flags</th>\n",
       "      <th>Orders.weight</th>\n",
       "      <th>Orders.payment_status</th>\n",
       "      <th>Orders.payment_date</th>\n",
       "      <th>Orders.payment_amount</th>\n",
       "      <th>Orders.purchase_order</th>\n",
       "      <th>Orders.payment_ref</th>\n",
       "      <th>Orders.status</th>\n",
       "      <th>Orders.placed_date</th>\n",
       "      <th>Orders.updated_date</th>\n",
       "      <th>Orders.shipped_date</th>\n",
       "      <th>Orders.registry_id</th>\n",
       "      <th>Orders.gift_message</th>\n",
       "      <th>Orders.website</th>\n",
       "      <th>Orders.mailing</th>\n",
       "      <th>Orders.flags</th>\n",
       "      <th>Orders.partial_ship</th>\n",
       "      <th>Orders.customer_type</th>\n",
       "      <th>Order_Items.id</th>\n",
       "      <th>Order_Items.parent</th>\n",
       "      <th>Order_Items.product_id</th>\n",
       "      <th>Order_Items.attributes</th>\n",
       "      <th>...</th>\n",
       "      <th>Order_Items.account_id</th>\n",
       "      <th>Order_Items.flags</th>\n",
       "      <th>Products.id</th>\n",
       "      <th>Products.status</th>\n",
       "      <th>Products.product_type</th>\n",
       "      <th>Products.vendor</th>\n",
       "      <th>Products.import_id</th>\n",
       "      <th>Products.menu_name</th>\n",
       "      <th>Products.list_price</th>\n",
       "      <th>Products.price</th>\n",
       "      <th>Products.sale_price</th>\n",
       "      <th>Products.cost</th>\n",
       "      <th>Products.flags</th>\n",
       "      <th>Products.left_flag</th>\n",
       "      <th>Products.right_flag</th>\n",
       "      <th>Products.last_modified</th>\n",
       "      <th>Products.taxable</th>\n",
       "      <th>Products.shopping_gtin</th>\n",
       "      <th>Products.shopping_flags</th>\n",
       "      <th>Products.amazon_type</th>\n",
       "      <th>Products.amazon_price</th>\n",
       "      <th>Products.google_adwords</th>\n",
       "      <th>Products.shopping_cat</th>\n",
       "      <th>Products.shopzilla_cat</th>\n",
       "      <th>Products.qb_edit_sequence</th>\n",
       "      <th>Products.price_break_type</th>\n",
       "      <th>Products.price_breaks</th>\n",
       "      <th>Products.websites</th>\n",
       "      <th>Products.audio</th>\n",
       "      <th>Products.seo_footer</th>\n",
       "      <th>Products.seo_category</th>\n",
       "      <th>Products.length</th>\n",
       "      <th>Products.width</th>\n",
       "      <th>Products.height</th>\n",
       "      <th>Products.upc</th>\n",
       "      <th>Products.case_qty</th>\n",
       "      <th>Products.markup</th>\n",
       "      <th>Products.override_markup</th>\n",
       "      <th>Products.import_flags</th>\n",
       "      <th>Products.map_price</th>\n",
       "      <th>Products.hygienic</th>\n",
       "      <th>Products.default_quantity</th>\n",
       "      <th>Products.shipping_length</th>\n",
       "      <th>Products.shipping_width</th>\n",
       "      <th>Products.shipping_height</th>\n",
       "      <th>Products.shipping_weight</th>\n",
       "      <th>Products.google_shopping_label</th>\n",
       "      <th>Products.leg_style</th>\n",
       "      <th>Products.saved_status</th>\n",
       "      <th>Products.freight_cost</th>\n",
       "    </tr>\n",
       "  </thead>\n",
       "  <tbody>\n",
       "    <tr>\n",
       "      <th>count</th>\n",
       "      <td>4.194000e+03</td>\n",
       "      <td>101.0</td>\n",
       "      <td>2114.000000</td>\n",
       "      <td>0.0</td>\n",
       "      <td>5.000000</td>\n",
       "      <td>3.000000</td>\n",
       "      <td>0.0</td>\n",
       "      <td>0.0</td>\n",
       "      <td>0.0</td>\n",
       "      <td>4.194000e+03</td>\n",
       "      <td>3771.000000</td>\n",
       "      <td>4194.000000</td>\n",
       "      <td>4194.000000</td>\n",
       "      <td>82.000000</td>\n",
       "      <td>5.000000e+00</td>\n",
       "      <td>0.0</td>\n",
       "      <td>4194.000000</td>\n",
       "      <td>3737.000000</td>\n",
       "      <td>3999.000000</td>\n",
       "      <td>882.000000</td>\n",
       "      <td>882.000000</td>\n",
       "      <td>0.0</td>\n",
       "      <td>0.0</td>\n",
       "      <td>278.000000</td>\n",
       "      <td>364.000000</td>\n",
       "      <td>4194.000000</td>\n",
       "      <td>351.000000</td>\n",
       "      <td>0.0</td>\n",
       "      <td>0.0</td>\n",
       "      <td>3.000000</td>\n",
       "      <td>4189.000000</td>\n",
       "      <td>4.176000e+03</td>\n",
       "      <td>4176.000000</td>\n",
       "      <td>0.0</td>\n",
       "      <td>0.0</td>\n",
       "      <td>4194.000000</td>\n",
       "      <td>4.194000e+03</td>\n",
       "      <td>4.171000e+03</td>\n",
       "      <td>3.848000e+03</td>\n",
       "      <td>0.0</td>\n",
       "      <td>0.0</td>\n",
       "      <td>0.0</td>\n",
       "      <td>0.0</td>\n",
       "      <td>1.0</td>\n",
       "      <td>96.000000</td>\n",
       "      <td>4011.000000</td>\n",
       "      <td>4194.000000</td>\n",
       "      <td>4194.000000</td>\n",
       "      <td>4151.000000</td>\n",
       "      <td>0.0</td>\n",
       "      <td>...</td>\n",
       "      <td>0.0</td>\n",
       "      <td>1008.000000</td>\n",
       "      <td>4037.000000</td>\n",
       "      <td>4037.000000</td>\n",
       "      <td>0.0</td>\n",
       "      <td>4037.000000</td>\n",
       "      <td>4037.000000</td>\n",
       "      <td>0.0</td>\n",
       "      <td>4017.000000</td>\n",
       "      <td>4036.000000</td>\n",
       "      <td>1160.000000</td>\n",
       "      <td>4037.000000</td>\n",
       "      <td>2987.000000</td>\n",
       "      <td>1239.000000</td>\n",
       "      <td>0.0</td>\n",
       "      <td>4.037000e+03</td>\n",
       "      <td>2959.000000</td>\n",
       "      <td>3.130000e+03</td>\n",
       "      <td>3917.000000</td>\n",
       "      <td>0.0</td>\n",
       "      <td>592.000000</td>\n",
       "      <td>0.0</td>\n",
       "      <td>2334.0</td>\n",
       "      <td>2334.0</td>\n",
       "      <td>3.728000e+03</td>\n",
       "      <td>0.0</td>\n",
       "      <td>0.0</td>\n",
       "      <td>0.0</td>\n",
       "      <td>0.0</td>\n",
       "      <td>0.0</td>\n",
       "      <td>2837.0</td>\n",
       "      <td>998.000000</td>\n",
       "      <td>996.000000</td>\n",
       "      <td>996.000000</td>\n",
       "      <td>2.127000e+03</td>\n",
       "      <td>2638.000000</td>\n",
       "      <td>0.0</td>\n",
       "      <td>2920.000000</td>\n",
       "      <td>2786.000000</td>\n",
       "      <td>122.000000</td>\n",
       "      <td>2080.000000</td>\n",
       "      <td>0.0</td>\n",
       "      <td>3998.000000</td>\n",
       "      <td>3998.000000</td>\n",
       "      <td>3998.000000</td>\n",
       "      <td>659.000000</td>\n",
       "      <td>387.000000</td>\n",
       "      <td>0.0</td>\n",
       "      <td>3930.000000</td>\n",
       "      <td>0.0</td>\n",
       "    </tr>\n",
       "    <tr>\n",
       "      <th>mean</th>\n",
       "      <td>1.440971e+09</td>\n",
       "      <td>0.0</td>\n",
       "      <td>0.979659</td>\n",
       "      <td>NaN</td>\n",
       "      <td>0.200000</td>\n",
       "      <td>7.333333</td>\n",
       "      <td>NaN</td>\n",
       "      <td>NaN</td>\n",
       "      <td>NaN</td>\n",
       "      <td>1.450401e+09</td>\n",
       "      <td>0.137364</td>\n",
       "      <td>9142.984025</td>\n",
       "      <td>1796.518121</td>\n",
       "      <td>7389.158537</td>\n",
       "      <td>6.018061e+08</td>\n",
       "      <td>NaN</td>\n",
       "      <td>131.925196</td>\n",
       "      <td>0.800838</td>\n",
       "      <td>7.141263</td>\n",
       "      <td>20.403628</td>\n",
       "      <td>9.972676</td>\n",
       "      <td>NaN</td>\n",
       "      <td>NaN</td>\n",
       "      <td>14.752590</td>\n",
       "      <td>13.086676</td>\n",
       "      <td>137.192818</td>\n",
       "      <td>47.981396</td>\n",
       "      <td>NaN</td>\n",
       "      <td>NaN</td>\n",
       "      <td>18.000000</td>\n",
       "      <td>2.958940</td>\n",
       "      <td>1.443104e+09</td>\n",
       "      <td>134.842263</td>\n",
       "      <td>NaN</td>\n",
       "      <td>NaN</td>\n",
       "      <td>1.326180</td>\n",
       "      <td>1.443054e+09</td>\n",
       "      <td>1.449607e+09</td>\n",
       "      <td>1.442167e+09</td>\n",
       "      <td>NaN</td>\n",
       "      <td>NaN</td>\n",
       "      <td>NaN</td>\n",
       "      <td>NaN</td>\n",
       "      <td>1.0</td>\n",
       "      <td>0.010417</td>\n",
       "      <td>0.124159</td>\n",
       "      <td>11156.068670</td>\n",
       "      <td>9142.984025</td>\n",
       "      <td>4451.426162</td>\n",
       "      <td>NaN</td>\n",
       "      <td>...</td>\n",
       "      <td>NaN</td>\n",
       "      <td>1.916667</td>\n",
       "      <td>4518.398068</td>\n",
       "      <td>0.987119</td>\n",
       "      <td>NaN</td>\n",
       "      <td>1.629676</td>\n",
       "      <td>3.400297</td>\n",
       "      <td>NaN</td>\n",
       "      <td>121.683321</td>\n",
       "      <td>74.266043</td>\n",
       "      <td>70.754095</td>\n",
       "      <td>52.318192</td>\n",
       "      <td>9549.464680</td>\n",
       "      <td>5.811138</td>\n",
       "      <td>NaN</td>\n",
       "      <td>1.462428e+09</td>\n",
       "      <td>0.940858</td>\n",
       "      <td>2.865179e+13</td>\n",
       "      <td>61.543528</td>\n",
       "      <td>NaN</td>\n",
       "      <td>89.727855</td>\n",
       "      <td>NaN</td>\n",
       "      <td>199.0</td>\n",
       "      <td>22005.0</td>\n",
       "      <td>1.450329e+09</td>\n",
       "      <td>NaN</td>\n",
       "      <td>NaN</td>\n",
       "      <td>NaN</td>\n",
       "      <td>NaN</td>\n",
       "      <td>NaN</td>\n",
       "      <td>0.0</td>\n",
       "      <td>21.292014</td>\n",
       "      <td>19.191185</td>\n",
       "      <td>13.587992</td>\n",
       "      <td>5.504591e+11</td>\n",
       "      <td>162.885140</td>\n",
       "      <td>NaN</td>\n",
       "      <td>0.166438</td>\n",
       "      <td>65.059943</td>\n",
       "      <td>181.696967</td>\n",
       "      <td>0.064423</td>\n",
       "      <td>NaN</td>\n",
       "      <td>17.208216</td>\n",
       "      <td>10.872750</td>\n",
       "      <td>11.592447</td>\n",
       "      <td>15.487041</td>\n",
       "      <td>3.863049</td>\n",
       "      <td>NaN</td>\n",
       "      <td>0.876336</td>\n",
       "      <td>NaN</td>\n",
       "    </tr>\n",
       "    <tr>\n",
       "      <th>std</th>\n",
       "      <td>1.887681e+07</td>\n",
       "      <td>0.0</td>\n",
       "      <td>0.141196</td>\n",
       "      <td>NaN</td>\n",
       "      <td>0.447214</td>\n",
       "      <td>0.577350</td>\n",
       "      <td>NaN</td>\n",
       "      <td>NaN</td>\n",
       "      <td>NaN</td>\n",
       "      <td>1.021334e+07</td>\n",
       "      <td>0.391842</td>\n",
       "      <td>5276.541078</td>\n",
       "      <td>1065.679090</td>\n",
       "      <td>3818.085460</td>\n",
       "      <td>1.342831e+09</td>\n",
       "      <td>NaN</td>\n",
       "      <td>231.156869</td>\n",
       "      <td>4.859280</td>\n",
       "      <td>4.531500</td>\n",
       "      <td>11.850291</td>\n",
       "      <td>14.617203</td>\n",
       "      <td>NaN</td>\n",
       "      <td>NaN</td>\n",
       "      <td>32.755244</td>\n",
       "      <td>51.296654</td>\n",
       "      <td>222.898475</td>\n",
       "      <td>209.843126</td>\n",
       "      <td>NaN</td>\n",
       "      <td>NaN</td>\n",
       "      <td>6.928203</td>\n",
       "      <td>0.312482</td>\n",
       "      <td>1.809258e+07</td>\n",
       "      <td>213.804804</td>\n",
       "      <td>NaN</td>\n",
       "      <td>NaN</td>\n",
       "      <td>1.508683</td>\n",
       "      <td>1.814291e+07</td>\n",
       "      <td>9.118822e+06</td>\n",
       "      <td>1.793374e+07</td>\n",
       "      <td>NaN</td>\n",
       "      <td>NaN</td>\n",
       "      <td>NaN</td>\n",
       "      <td>NaN</td>\n",
       "      <td>NaN</td>\n",
       "      <td>0.102062</td>\n",
       "      <td>0.375087</td>\n",
       "      <td>5802.466202</td>\n",
       "      <td>5276.541078</td>\n",
       "      <td>5577.392427</td>\n",
       "      <td>NaN</td>\n",
       "      <td>...</td>\n",
       "      <td>NaN</td>\n",
       "      <td>0.399851</td>\n",
       "      <td>5614.454744</td>\n",
       "      <td>1.386196</td>\n",
       "      <td>NaN</td>\n",
       "      <td>1.420626</td>\n",
       "      <td>2.248065</td>\n",
       "      <td>NaN</td>\n",
       "      <td>245.856090</td>\n",
       "      <td>98.829781</td>\n",
       "      <td>72.405928</td>\n",
       "      <td>74.691642</td>\n",
       "      <td>16246.897822</td>\n",
       "      <td>1.236169</td>\n",
       "      <td>NaN</td>\n",
       "      <td>1.586206e+06</td>\n",
       "      <td>0.235929</td>\n",
       "      <td>1.794757e+13</td>\n",
       "      <td>5.086931</td>\n",
       "      <td>NaN</td>\n",
       "      <td>85.097197</td>\n",
       "      <td>NaN</td>\n",
       "      <td>0.0</td>\n",
       "      <td>0.0</td>\n",
       "      <td>4.029036e+05</td>\n",
       "      <td>NaN</td>\n",
       "      <td>NaN</td>\n",
       "      <td>NaN</td>\n",
       "      <td>NaN</td>\n",
       "      <td>NaN</td>\n",
       "      <td>0.0</td>\n",
       "      <td>19.334049</td>\n",
       "      <td>51.129537</td>\n",
       "      <td>14.010066</td>\n",
       "      <td>3.583533e+11</td>\n",
       "      <td>508.461157</td>\n",
       "      <td>NaN</td>\n",
       "      <td>0.372537</td>\n",
       "      <td>94.714484</td>\n",
       "      <td>312.357568</td>\n",
       "      <td>0.245564</td>\n",
       "      <td>NaN</td>\n",
       "      <td>10.508782</td>\n",
       "      <td>6.781847</td>\n",
       "      <td>10.250909</td>\n",
       "      <td>22.256617</td>\n",
       "      <td>2.098446</td>\n",
       "      <td>NaN</td>\n",
       "      <td>1.364374</td>\n",
       "      <td>NaN</td>\n",
       "    </tr>\n",
       "    <tr>\n",
       "      <th>min</th>\n",
       "      <td>1.386089e+09</td>\n",
       "      <td>0.0</td>\n",
       "      <td>0.000000</td>\n",
       "      <td>NaN</td>\n",
       "      <td>0.000000</td>\n",
       "      <td>7.000000</td>\n",
       "      <td>NaN</td>\n",
       "      <td>NaN</td>\n",
       "      <td>NaN</td>\n",
       "      <td>1.437559e+09</td>\n",
       "      <td>0.000000</td>\n",
       "      <td>23.000000</td>\n",
       "      <td>3.000000</td>\n",
       "      <td>30.000000</td>\n",
       "      <td>6.638000e+01</td>\n",
       "      <td>NaN</td>\n",
       "      <td>2.890000</td>\n",
       "      <td>0.000000</td>\n",
       "      <td>0.000000</td>\n",
       "      <td>4.000000</td>\n",
       "      <td>0.000000</td>\n",
       "      <td>NaN</td>\n",
       "      <td>NaN</td>\n",
       "      <td>0.010000</td>\n",
       "      <td>0.020000</td>\n",
       "      <td>2.890000</td>\n",
       "      <td>0.000000</td>\n",
       "      <td>NaN</td>\n",
       "      <td>NaN</td>\n",
       "      <td>10.000000</td>\n",
       "      <td>0.000000</td>\n",
       "      <td>1.386090e+09</td>\n",
       "      <td>2.890000</td>\n",
       "      <td>NaN</td>\n",
       "      <td>NaN</td>\n",
       "      <td>0.000000</td>\n",
       "      <td>1.386090e+09</td>\n",
       "      <td>1.438868e+09</td>\n",
       "      <td>1.386103e+09</td>\n",
       "      <td>NaN</td>\n",
       "      <td>NaN</td>\n",
       "      <td>NaN</td>\n",
       "      <td>NaN</td>\n",
       "      <td>1.0</td>\n",
       "      <td>0.000000</td>\n",
       "      <td>0.000000</td>\n",
       "      <td>31.000000</td>\n",
       "      <td>23.000000</td>\n",
       "      <td>1.000000</td>\n",
       "      <td>NaN</td>\n",
       "      <td>...</td>\n",
       "      <td>NaN</td>\n",
       "      <td>0.000000</td>\n",
       "      <td>1.000000</td>\n",
       "      <td>0.000000</td>\n",
       "      <td>NaN</td>\n",
       "      <td>1.000000</td>\n",
       "      <td>1.000000</td>\n",
       "      <td>NaN</td>\n",
       "      <td>1.020000</td>\n",
       "      <td>1.540000</td>\n",
       "      <td>2.890000</td>\n",
       "      <td>0.280000</td>\n",
       "      <td>0.000000</td>\n",
       "      <td>0.000000</td>\n",
       "      <td>NaN</td>\n",
       "      <td>1.452269e+09</td>\n",
       "      <td>0.000000</td>\n",
       "      <td>1.542161e+10</td>\n",
       "      <td>0.000000</td>\n",
       "      <td>NaN</td>\n",
       "      <td>2.990000</td>\n",
       "      <td>NaN</td>\n",
       "      <td>199.0</td>\n",
       "      <td>22005.0</td>\n",
       "      <td>1.442503e+09</td>\n",
       "      <td>NaN</td>\n",
       "      <td>NaN</td>\n",
       "      <td>NaN</td>\n",
       "      <td>NaN</td>\n",
       "      <td>NaN</td>\n",
       "      <td>0.0</td>\n",
       "      <td>0.500000</td>\n",
       "      <td>0.250000</td>\n",
       "      <td>0.100000</td>\n",
       "      <td>8.019674e+09</td>\n",
       "      <td>1.000000</td>\n",
       "      <td>NaN</td>\n",
       "      <td>0.000000</td>\n",
       "      <td>0.000000</td>\n",
       "      <td>8.190000</td>\n",
       "      <td>0.000000</td>\n",
       "      <td>NaN</td>\n",
       "      <td>0.000000</td>\n",
       "      <td>0.000000</td>\n",
       "      <td>0.000000</td>\n",
       "      <td>0.020000</td>\n",
       "      <td>0.000000</td>\n",
       "      <td>NaN</td>\n",
       "      <td>0.000000</td>\n",
       "      <td>NaN</td>\n",
       "    </tr>\n",
       "    <tr>\n",
       "      <th>25%</th>\n",
       "      <td>1.427323e+09</td>\n",
       "      <td>0.0</td>\n",
       "      <td>1.000000</td>\n",
       "      <td>NaN</td>\n",
       "      <td>0.000000</td>\n",
       "      <td>7.000000</td>\n",
       "      <td>NaN</td>\n",
       "      <td>NaN</td>\n",
       "      <td>NaN</td>\n",
       "      <td>1.437763e+09</td>\n",
       "      <td>0.000000</td>\n",
       "      <td>4258.000000</td>\n",
       "      <td>865.250000</td>\n",
       "      <td>4537.250000</td>\n",
       "      <td>1.698485e+06</td>\n",
       "      <td>NaN</td>\n",
       "      <td>36.750000</td>\n",
       "      <td>0.000000</td>\n",
       "      <td>0.000000</td>\n",
       "      <td>11.000000</td>\n",
       "      <td>0.680000</td>\n",
       "      <td>NaN</td>\n",
       "      <td>NaN</td>\n",
       "      <td>1.765000</td>\n",
       "      <td>3.430000</td>\n",
       "      <td>44.110000</td>\n",
       "      <td>0.000000</td>\n",
       "      <td>NaN</td>\n",
       "      <td>NaN</td>\n",
       "      <td>16.000000</td>\n",
       "      <td>3.000000</td>\n",
       "      <td>1.431858e+09</td>\n",
       "      <td>44.015000</td>\n",
       "      <td>NaN</td>\n",
       "      <td>NaN</td>\n",
       "      <td>1.000000</td>\n",
       "      <td>1.431802e+09</td>\n",
       "      <td>1.440529e+09</td>\n",
       "      <td>1.430999e+09</td>\n",
       "      <td>NaN</td>\n",
       "      <td>NaN</td>\n",
       "      <td>NaN</td>\n",
       "      <td>NaN</td>\n",
       "      <td>1.0</td>\n",
       "      <td>0.000000</td>\n",
       "      <td>0.000000</td>\n",
       "      <td>5847.250000</td>\n",
       "      <td>4258.000000</td>\n",
       "      <td>1009.000000</td>\n",
       "      <td>NaN</td>\n",
       "      <td>...</td>\n",
       "      <td>NaN</td>\n",
       "      <td>2.000000</td>\n",
       "      <td>1012.000000</td>\n",
       "      <td>0.000000</td>\n",
       "      <td>NaN</td>\n",
       "      <td>1.000000</td>\n",
       "      <td>3.000000</td>\n",
       "      <td>NaN</td>\n",
       "      <td>33.110000</td>\n",
       "      <td>24.400000</td>\n",
       "      <td>32.660000</td>\n",
       "      <td>15.500000</td>\n",
       "      <td>0.000000</td>\n",
       "      <td>6.000000</td>\n",
       "      <td>NaN</td>\n",
       "      <td>1.462370e+09</td>\n",
       "      <td>1.000000</td>\n",
       "      <td>1.008020e+13</td>\n",
       "      <td>62.000000</td>\n",
       "      <td>NaN</td>\n",
       "      <td>40.820000</td>\n",
       "      <td>NaN</td>\n",
       "      <td>199.0</td>\n",
       "      <td>22005.0</td>\n",
       "      <td>1.450323e+09</td>\n",
       "      <td>NaN</td>\n",
       "      <td>NaN</td>\n",
       "      <td>NaN</td>\n",
       "      <td>NaN</td>\n",
       "      <td>NaN</td>\n",
       "      <td>0.0</td>\n",
       "      <td>9.000000</td>\n",
       "      <td>4.750000</td>\n",
       "      <td>2.000000</td>\n",
       "      <td>8.019673e+10</td>\n",
       "      <td>1.000000</td>\n",
       "      <td>NaN</td>\n",
       "      <td>0.000000</td>\n",
       "      <td>0.000000</td>\n",
       "      <td>65.000000</td>\n",
       "      <td>0.000000</td>\n",
       "      <td>NaN</td>\n",
       "      <td>9.000000</td>\n",
       "      <td>5.700000</td>\n",
       "      <td>4.000000</td>\n",
       "      <td>2.775000</td>\n",
       "      <td>5.000000</td>\n",
       "      <td>NaN</td>\n",
       "      <td>0.000000</td>\n",
       "      <td>NaN</td>\n",
       "    </tr>\n",
       "    <tr>\n",
       "      <th>50%</th>\n",
       "      <td>1.446412e+09</td>\n",
       "      <td>0.0</td>\n",
       "      <td>1.000000</td>\n",
       "      <td>NaN</td>\n",
       "      <td>0.000000</td>\n",
       "      <td>7.000000</td>\n",
       "      <td>NaN</td>\n",
       "      <td>NaN</td>\n",
       "      <td>NaN</td>\n",
       "      <td>1.456954e+09</td>\n",
       "      <td>0.000000</td>\n",
       "      <td>9641.000000</td>\n",
       "      <td>1747.500000</td>\n",
       "      <td>6887.000000</td>\n",
       "      <td>1.698485e+06</td>\n",
       "      <td>NaN</td>\n",
       "      <td>74.740000</td>\n",
       "      <td>0.000000</td>\n",
       "      <td>9.950000</td>\n",
       "      <td>26.000000</td>\n",
       "      <td>5.000000</td>\n",
       "      <td>NaN</td>\n",
       "      <td>NaN</td>\n",
       "      <td>9.705000</td>\n",
       "      <td>6.710000</td>\n",
       "      <td>80.510000</td>\n",
       "      <td>0.000000</td>\n",
       "      <td>NaN</td>\n",
       "      <td>NaN</td>\n",
       "      <td>22.000000</td>\n",
       "      <td>3.000000</td>\n",
       "      <td>1.449678e+09</td>\n",
       "      <td>79.990000</td>\n",
       "      <td>NaN</td>\n",
       "      <td>NaN</td>\n",
       "      <td>1.000000</td>\n",
       "      <td>1.449675e+09</td>\n",
       "      <td>1.450214e+09</td>\n",
       "      <td>1.448039e+09</td>\n",
       "      <td>NaN</td>\n",
       "      <td>NaN</td>\n",
       "      <td>NaN</td>\n",
       "      <td>NaN</td>\n",
       "      <td>1.0</td>\n",
       "      <td>0.000000</td>\n",
       "      <td>0.000000</td>\n",
       "      <td>11770.000000</td>\n",
       "      <td>9641.000000</td>\n",
       "      <td>1867.000000</td>\n",
       "      <td>NaN</td>\n",
       "      <td>...</td>\n",
       "      <td>NaN</td>\n",
       "      <td>2.000000</td>\n",
       "      <td>1867.000000</td>\n",
       "      <td>0.000000</td>\n",
       "      <td>NaN</td>\n",
       "      <td>1.000000</td>\n",
       "      <td>3.000000</td>\n",
       "      <td>NaN</td>\n",
       "      <td>72.330000</td>\n",
       "      <td>48.245000</td>\n",
       "      <td>54.100000</td>\n",
       "      <td>31.750000</td>\n",
       "      <td>0.000000</td>\n",
       "      <td>6.000000</td>\n",
       "      <td>NaN</td>\n",
       "      <td>1.463163e+09</td>\n",
       "      <td>1.000000</td>\n",
       "      <td>4.008020e+13</td>\n",
       "      <td>62.000000</td>\n",
       "      <td>NaN</td>\n",
       "      <td>69.990000</td>\n",
       "      <td>NaN</td>\n",
       "      <td>199.0</td>\n",
       "      <td>22005.0</td>\n",
       "      <td>1.450324e+09</td>\n",
       "      <td>NaN</td>\n",
       "      <td>NaN</td>\n",
       "      <td>NaN</td>\n",
       "      <td>NaN</td>\n",
       "      <td>NaN</td>\n",
       "      <td>0.0</td>\n",
       "      <td>16.000000</td>\n",
       "      <td>15.630000</td>\n",
       "      <td>6.000000</td>\n",
       "      <td>7.797090e+11</td>\n",
       "      <td>5.000000</td>\n",
       "      <td>NaN</td>\n",
       "      <td>0.000000</td>\n",
       "      <td>0.000000</td>\n",
       "      <td>104.995000</td>\n",
       "      <td>0.000000</td>\n",
       "      <td>NaN</td>\n",
       "      <td>15.500000</td>\n",
       "      <td>10.000000</td>\n",
       "      <td>8.645000</td>\n",
       "      <td>8.900000</td>\n",
       "      <td>5.000000</td>\n",
       "      <td>NaN</td>\n",
       "      <td>0.000000</td>\n",
       "      <td>NaN</td>\n",
       "    </tr>\n",
       "    <tr>\n",
       "      <th>75%</th>\n",
       "      <td>1.456955e+09</td>\n",
       "      <td>0.0</td>\n",
       "      <td>1.000000</td>\n",
       "      <td>NaN</td>\n",
       "      <td>0.000000</td>\n",
       "      <td>7.500000</td>\n",
       "      <td>NaN</td>\n",
       "      <td>NaN</td>\n",
       "      <td>NaN</td>\n",
       "      <td>1.456956e+09</td>\n",
       "      <td>0.000000</td>\n",
       "      <td>14011.750000</td>\n",
       "      <td>2698.750000</td>\n",
       "      <td>10832.000000</td>\n",
       "      <td>1.698485e+06</td>\n",
       "      <td>NaN</td>\n",
       "      <td>139.960000</td>\n",
       "      <td>0.000000</td>\n",
       "      <td>9.950000</td>\n",
       "      <td>32.000000</td>\n",
       "      <td>12.245000</td>\n",
       "      <td>NaN</td>\n",
       "      <td>NaN</td>\n",
       "      <td>11.250000</td>\n",
       "      <td>9.950000</td>\n",
       "      <td>143.855000</td>\n",
       "      <td>8.250000</td>\n",
       "      <td>NaN</td>\n",
       "      <td>NaN</td>\n",
       "      <td>22.000000</td>\n",
       "      <td>3.000000</td>\n",
       "      <td>1.457913e+09</td>\n",
       "      <td>142.810000</td>\n",
       "      <td>NaN</td>\n",
       "      <td>NaN</td>\n",
       "      <td>1.000000</td>\n",
       "      <td>1.457727e+09</td>\n",
       "      <td>1.457976e+09</td>\n",
       "      <td>1.456894e+09</td>\n",
       "      <td>NaN</td>\n",
       "      <td>NaN</td>\n",
       "      <td>NaN</td>\n",
       "      <td>NaN</td>\n",
       "      <td>1.0</td>\n",
       "      <td>0.000000</td>\n",
       "      <td>0.000000</td>\n",
       "      <td>16482.750000</td>\n",
       "      <td>14011.750000</td>\n",
       "      <td>4345.500000</td>\n",
       "      <td>NaN</td>\n",
       "      <td>...</td>\n",
       "      <td>NaN</td>\n",
       "      <td>2.000000</td>\n",
       "      <td>4371.000000</td>\n",
       "      <td>3.000000</td>\n",
       "      <td>NaN</td>\n",
       "      <td>2.000000</td>\n",
       "      <td>3.000000</td>\n",
       "      <td>NaN</td>\n",
       "      <td>134.390000</td>\n",
       "      <td>83.360000</td>\n",
       "      <td>119.990000</td>\n",
       "      <td>59.990000</td>\n",
       "      <td>32896.000000</td>\n",
       "      <td>6.000000</td>\n",
       "      <td>NaN</td>\n",
       "      <td>1.463163e+09</td>\n",
       "      <td>1.000000</td>\n",
       "      <td>4.088440e+13</td>\n",
       "      <td>62.000000</td>\n",
       "      <td>NaN</td>\n",
       "      <td>124.740000</td>\n",
       "      <td>NaN</td>\n",
       "      <td>199.0</td>\n",
       "      <td>22005.0</td>\n",
       "      <td>1.450337e+09</td>\n",
       "      <td>NaN</td>\n",
       "      <td>NaN</td>\n",
       "      <td>NaN</td>\n",
       "      <td>NaN</td>\n",
       "      <td>NaN</td>\n",
       "      <td>0.0</td>\n",
       "      <td>27.500000</td>\n",
       "      <td>24.000000</td>\n",
       "      <td>28.000000</td>\n",
       "      <td>8.223840e+11</td>\n",
       "      <td>64.000000</td>\n",
       "      <td>NaN</td>\n",
       "      <td>0.000000</td>\n",
       "      <td>128.000000</td>\n",
       "      <td>155.000000</td>\n",
       "      <td>0.000000</td>\n",
       "      <td>NaN</td>\n",
       "      <td>23.500000</td>\n",
       "      <td>15.000000</td>\n",
       "      <td>15.000000</td>\n",
       "      <td>21.000000</td>\n",
       "      <td>5.000000</td>\n",
       "      <td>NaN</td>\n",
       "      <td>3.000000</td>\n",
       "      <td>NaN</td>\n",
       "    </tr>\n",
       "    <tr>\n",
       "      <th>max</th>\n",
       "      <td>1.463418e+09</td>\n",
       "      <td>0.0</td>\n",
       "      <td>1.000000</td>\n",
       "      <td>NaN</td>\n",
       "      <td>1.000000</td>\n",
       "      <td>8.000000</td>\n",
       "      <td>NaN</td>\n",
       "      <td>NaN</td>\n",
       "      <td>NaN</td>\n",
       "      <td>1.463418e+09</td>\n",
       "      <td>2.000000</td>\n",
       "      <td>17437.000000</td>\n",
       "      <td>3736.000000</td>\n",
       "      <td>16201.000000</td>\n",
       "      <td>3.003935e+09</td>\n",
       "      <td>NaN</td>\n",
       "      <td>5163.040000</td>\n",
       "      <td>132.930000</td>\n",
       "      <td>32.810000</td>\n",
       "      <td>48.000000</td>\n",
       "      <td>109.900000</td>\n",
       "      <td>NaN</td>\n",
       "      <td>NaN</td>\n",
       "      <td>449.000000</td>\n",
       "      <td>588.040000</td>\n",
       "      <td>4627.950000</td>\n",
       "      <td>2017.920000</td>\n",
       "      <td>NaN</td>\n",
       "      <td>NaN</td>\n",
       "      <td>22.000000</td>\n",
       "      <td>3.000000</td>\n",
       "      <td>1.463419e+09</td>\n",
       "      <td>4627.950000</td>\n",
       "      <td>NaN</td>\n",
       "      <td>NaN</td>\n",
       "      <td>15.000000</td>\n",
       "      <td>1.463419e+09</td>\n",
       "      <td>1.463422e+09</td>\n",
       "      <td>1.463422e+09</td>\n",
       "      <td>NaN</td>\n",
       "      <td>NaN</td>\n",
       "      <td>NaN</td>\n",
       "      <td>NaN</td>\n",
       "      <td>1.0</td>\n",
       "      <td>1.000000</td>\n",
       "      <td>2.000000</td>\n",
       "      <td>20202.000000</td>\n",
       "      <td>17437.000000</td>\n",
       "      <td>26175.000000</td>\n",
       "      <td>NaN</td>\n",
       "      <td>...</td>\n",
       "      <td>NaN</td>\n",
       "      <td>2.000000</td>\n",
       "      <td>26175.000000</td>\n",
       "      <td>5.000000</td>\n",
       "      <td>NaN</td>\n",
       "      <td>11.000000</td>\n",
       "      <td>21.000000</td>\n",
       "      <td>NaN</td>\n",
       "      <td>8439.000000</td>\n",
       "      <td>1899.000000</td>\n",
       "      <td>659.990000</td>\n",
       "      <td>1350.000000</td>\n",
       "      <td>98433.000000</td>\n",
       "      <td>9.000000</td>\n",
       "      <td>NaN</td>\n",
       "      <td>1.463420e+09</td>\n",
       "      <td>1.000000</td>\n",
       "      <td>5.089010e+13</td>\n",
       "      <td>63.000000</td>\n",
       "      <td>NaN</td>\n",
       "      <td>736.250000</td>\n",
       "      <td>NaN</td>\n",
       "      <td>199.0</td>\n",
       "      <td>22005.0</td>\n",
       "      <td>1.450712e+09</td>\n",
       "      <td>NaN</td>\n",
       "      <td>NaN</td>\n",
       "      <td>NaN</td>\n",
       "      <td>NaN</td>\n",
       "      <td>NaN</td>\n",
       "      <td>0.0</td>\n",
       "      <td>123.000000</td>\n",
       "      <td>900.000000</td>\n",
       "      <td>76.000000</td>\n",
       "      <td>8.931690e+11</td>\n",
       "      <td>5000.000000</td>\n",
       "      <td>NaN</td>\n",
       "      <td>1.000000</td>\n",
       "      <td>418.000000</td>\n",
       "      <td>1899.000000</td>\n",
       "      <td>1.000000</td>\n",
       "      <td>NaN</td>\n",
       "      <td>90.000000</td>\n",
       "      <td>80.000000</td>\n",
       "      <td>58.000000</td>\n",
       "      <td>175.000000</td>\n",
       "      <td>5.000000</td>\n",
       "      <td>NaN</td>\n",
       "      <td>3.000000</td>\n",
       "      <td>NaN</td>\n",
       "    </tr>\n",
       "  </tbody>\n",
       "</table>\n",
       "<p>8 rows × 107 columns</p>\n",
       "</div>"
      ],
      "text/plain": [
       "       Customers.create_date  Customers.status  Customers.mailing  \\\n",
       "count           4.194000e+03             101.0        2114.000000   \n",
       "mean            1.440971e+09               0.0           0.979659   \n",
       "std             1.887681e+07               0.0           0.141196   \n",
       "min             1.386089e+09               0.0           0.000000   \n",
       "25%             1.427323e+09               0.0           1.000000   \n",
       "50%             1.446412e+09               0.0           1.000000   \n",
       "75%             1.456955e+09               0.0           1.000000   \n",
       "max             1.463418e+09               0.0           1.000000   \n",
       "\n",
       "       Customers.reminders  Customers.tax_exempt  Customers.account_id  \\\n",
       "count                  0.0              5.000000              3.000000   \n",
       "mean                   NaN              0.200000              7.333333   \n",
       "std                    NaN              0.447214              0.577350   \n",
       "min                    NaN              0.000000              7.000000   \n",
       "25%                    NaN              0.000000              7.000000   \n",
       "50%                    NaN              0.000000              7.000000   \n",
       "75%                    NaN              0.000000              7.500000   \n",
       "max                    NaN              1.000000              8.000000   \n",
       "\n",
       "       Customers.sales_rep  Customers.rewards  Customers.profile_id  \\\n",
       "count                  0.0                0.0                   0.0   \n",
       "mean                   NaN                NaN                   NaN   \n",
       "std                    NaN                NaN                   NaN   \n",
       "min                    NaN                NaN                   NaN   \n",
       "25%                    NaN                NaN                   NaN   \n",
       "50%                    NaN                NaN                   NaN   \n",
       "75%                    NaN                NaN                   NaN   \n",
       "max                    NaN                NaN                   NaN   \n",
       "\n",
       "       Customers.last_modified  Customers.customer_type     Orders.id  \\\n",
       "count             4.194000e+03              3771.000000   4194.000000   \n",
       "mean              1.450401e+09                 0.137364   9142.984025   \n",
       "std               1.021334e+07                 0.391842   5276.541078   \n",
       "min               1.437559e+09                 0.000000     23.000000   \n",
       "25%               1.437763e+09                 0.000000   4258.000000   \n",
       "50%               1.456954e+09                 0.000000   9641.000000   \n",
       "75%               1.456956e+09                 0.000000  14011.750000   \n",
       "max               1.463418e+09                 2.000000  17437.000000   \n",
       "\n",
       "       Orders.customer_id  Orders.reorder_id  Orders.external_id  \\\n",
       "count         4194.000000          82.000000        5.000000e+00   \n",
       "mean          1796.518121        7389.158537        6.018061e+08   \n",
       "std           1065.679090        3818.085460        1.342831e+09   \n",
       "min              3.000000          30.000000        6.638000e+01   \n",
       "25%            865.250000        4537.250000        1.698485e+06   \n",
       "50%           1747.500000        6887.000000        1.698485e+06   \n",
       "75%           2698.750000       10832.000000        1.698485e+06   \n",
       "max           3736.000000       16201.000000        3.003935e+09   \n",
       "\n",
       "       Orders.sales_rep  Orders.subtotal   Orders.tax  Orders.shipping  \\\n",
       "count               0.0      4194.000000  3737.000000      3999.000000   \n",
       "mean                NaN       131.925196     0.800838         7.141263   \n",
       "std                 NaN       231.156869     4.859280         4.531500   \n",
       "min                 NaN         2.890000     0.000000         0.000000   \n",
       "25%                 NaN        36.750000     0.000000         0.000000   \n",
       "50%                 NaN        74.740000     0.000000         9.950000   \n",
       "75%                 NaN       139.960000     0.000000         9.950000   \n",
       "max                 NaN      5163.040000   132.930000        32.810000   \n",
       "\n",
       "       Orders.coupon_id  Orders.coupon_amount  Orders.gift_id  \\\n",
       "count        882.000000            882.000000             0.0   \n",
       "mean          20.403628              9.972676             NaN   \n",
       "std           11.850291             14.617203             NaN   \n",
       "min            4.000000              0.000000             NaN   \n",
       "25%           11.000000              0.680000             NaN   \n",
       "50%           26.000000              5.000000             NaN   \n",
       "75%           32.000000             12.245000             NaN   \n",
       "max           48.000000            109.900000             NaN   \n",
       "\n",
       "       Orders.gift_amount  Orders.fee_amount  Orders.discount_amount  \\\n",
       "count                 0.0         278.000000              364.000000   \n",
       "mean                  NaN          14.752590               13.086676   \n",
       "std                   NaN          32.755244               51.296654   \n",
       "min                   NaN           0.010000                0.020000   \n",
       "25%                   NaN           1.765000                3.430000   \n",
       "50%                   NaN           9.705000                6.710000   \n",
       "75%                   NaN          11.250000                9.950000   \n",
       "max                   NaN         449.000000              588.040000   \n",
       "\n",
       "       Orders.total  Orders.balance_due  Orders.shipping_trans  \\\n",
       "count   4194.000000          351.000000                    0.0   \n",
       "mean     137.192818           47.981396                    NaN   \n",
       "std      222.898475          209.843126                    NaN   \n",
       "min        2.890000            0.000000                    NaN   \n",
       "25%       44.110000            0.000000                    NaN   \n",
       "50%       80.510000            0.000000                    NaN   \n",
       "75%      143.855000            8.250000                    NaN   \n",
       "max     4627.950000         2017.920000                    NaN   \n",
       "\n",
       "       Orders.shipping_flags  Orders.weight  Orders.payment_status  \\\n",
       "count                    0.0       3.000000            4189.000000   \n",
       "mean                     NaN      18.000000               2.958940   \n",
       "std                      NaN       6.928203               0.312482   \n",
       "min                      NaN      10.000000               0.000000   \n",
       "25%                      NaN      16.000000               3.000000   \n",
       "50%                      NaN      22.000000               3.000000   \n",
       "75%                      NaN      22.000000               3.000000   \n",
       "max                      NaN      22.000000               3.000000   \n",
       "\n",
       "       Orders.payment_date  Orders.payment_amount  Orders.purchase_order  \\\n",
       "count         4.176000e+03            4176.000000                    0.0   \n",
       "mean          1.443104e+09             134.842263                    NaN   \n",
       "std           1.809258e+07             213.804804                    NaN   \n",
       "min           1.386090e+09               2.890000                    NaN   \n",
       "25%           1.431858e+09              44.015000                    NaN   \n",
       "50%           1.449678e+09              79.990000                    NaN   \n",
       "75%           1.457913e+09             142.810000                    NaN   \n",
       "max           1.463419e+09            4627.950000                    NaN   \n",
       "\n",
       "       Orders.payment_ref  Orders.status  Orders.placed_date  \\\n",
       "count                 0.0    4194.000000        4.194000e+03   \n",
       "mean                  NaN       1.326180        1.443054e+09   \n",
       "std                   NaN       1.508683        1.814291e+07   \n",
       "min                   NaN       0.000000        1.386090e+09   \n",
       "25%                   NaN       1.000000        1.431802e+09   \n",
       "50%                   NaN       1.000000        1.449675e+09   \n",
       "75%                   NaN       1.000000        1.457727e+09   \n",
       "max                   NaN      15.000000        1.463419e+09   \n",
       "\n",
       "       Orders.updated_date  Orders.shipped_date  Orders.registry_id  \\\n",
       "count         4.171000e+03         3.848000e+03                 0.0   \n",
       "mean          1.449607e+09         1.442167e+09                 NaN   \n",
       "std           9.118822e+06         1.793374e+07                 NaN   \n",
       "min           1.438868e+09         1.386103e+09                 NaN   \n",
       "25%           1.440529e+09         1.430999e+09                 NaN   \n",
       "50%           1.450214e+09         1.448039e+09                 NaN   \n",
       "75%           1.457976e+09         1.456894e+09                 NaN   \n",
       "max           1.463422e+09         1.463422e+09                 NaN   \n",
       "\n",
       "       Orders.gift_message  Orders.website  Orders.mailing  Orders.flags  \\\n",
       "count                  0.0             0.0             0.0           1.0   \n",
       "mean                   NaN             NaN             NaN           1.0   \n",
       "std                    NaN             NaN             NaN           NaN   \n",
       "min                    NaN             NaN             NaN           1.0   \n",
       "25%                    NaN             NaN             NaN           1.0   \n",
       "50%                    NaN             NaN             NaN           1.0   \n",
       "75%                    NaN             NaN             NaN           1.0   \n",
       "max                    NaN             NaN             NaN           1.0   \n",
       "\n",
       "       Orders.partial_ship  Orders.customer_type  Order_Items.id  \\\n",
       "count            96.000000           4011.000000     4194.000000   \n",
       "mean              0.010417              0.124159    11156.068670   \n",
       "std               0.102062              0.375087     5802.466202   \n",
       "min               0.000000              0.000000       31.000000   \n",
       "25%               0.000000              0.000000     5847.250000   \n",
       "50%               0.000000              0.000000    11770.000000   \n",
       "75%               0.000000              0.000000    16482.750000   \n",
       "max               1.000000              2.000000    20202.000000   \n",
       "\n",
       "       Order_Items.parent  Order_Items.product_id  Order_Items.attributes  \\\n",
       "count         4194.000000             4151.000000                     0.0   \n",
       "mean          9142.984025             4451.426162                     NaN   \n",
       "std           5276.541078             5577.392427                     NaN   \n",
       "min             23.000000                1.000000                     NaN   \n",
       "25%           4258.000000             1009.000000                     NaN   \n",
       "50%           9641.000000             1867.000000                     NaN   \n",
       "75%          14011.750000             4345.500000                     NaN   \n",
       "max          17437.000000            26175.000000                     NaN   \n",
       "\n",
       "       ...  Order_Items.account_id  Order_Items.flags   Products.id  \\\n",
       "count  ...                     0.0        1008.000000   4037.000000   \n",
       "mean   ...                     NaN           1.916667   4518.398068   \n",
       "std    ...                     NaN           0.399851   5614.454744   \n",
       "min    ...                     NaN           0.000000      1.000000   \n",
       "25%    ...                     NaN           2.000000   1012.000000   \n",
       "50%    ...                     NaN           2.000000   1867.000000   \n",
       "75%    ...                     NaN           2.000000   4371.000000   \n",
       "max    ...                     NaN           2.000000  26175.000000   \n",
       "\n",
       "       Products.status  Products.product_type  Products.vendor  \\\n",
       "count      4037.000000                    0.0      4037.000000   \n",
       "mean          0.987119                    NaN         1.629676   \n",
       "std           1.386196                    NaN         1.420626   \n",
       "min           0.000000                    NaN         1.000000   \n",
       "25%           0.000000                    NaN         1.000000   \n",
       "50%           0.000000                    NaN         1.000000   \n",
       "75%           3.000000                    NaN         2.000000   \n",
       "max           5.000000                    NaN        11.000000   \n",
       "\n",
       "       Products.import_id  Products.menu_name  Products.list_price  \\\n",
       "count         4037.000000                 0.0          4017.000000   \n",
       "mean             3.400297                 NaN           121.683321   \n",
       "std              2.248065                 NaN           245.856090   \n",
       "min              1.000000                 NaN             1.020000   \n",
       "25%              3.000000                 NaN            33.110000   \n",
       "50%              3.000000                 NaN            72.330000   \n",
       "75%              3.000000                 NaN           134.390000   \n",
       "max             21.000000                 NaN          8439.000000   \n",
       "\n",
       "       Products.price  Products.sale_price  Products.cost  Products.flags  \\\n",
       "count     4036.000000          1160.000000    4037.000000     2987.000000   \n",
       "mean        74.266043            70.754095      52.318192     9549.464680   \n",
       "std         98.829781            72.405928      74.691642    16246.897822   \n",
       "min          1.540000             2.890000       0.280000        0.000000   \n",
       "25%         24.400000            32.660000      15.500000        0.000000   \n",
       "50%         48.245000            54.100000      31.750000        0.000000   \n",
       "75%         83.360000           119.990000      59.990000    32896.000000   \n",
       "max       1899.000000           659.990000    1350.000000    98433.000000   \n",
       "\n",
       "       Products.left_flag  Products.right_flag  Products.last_modified  \\\n",
       "count         1239.000000                  0.0            4.037000e+03   \n",
       "mean             5.811138                  NaN            1.462428e+09   \n",
       "std              1.236169                  NaN            1.586206e+06   \n",
       "min              0.000000                  NaN            1.452269e+09   \n",
       "25%              6.000000                  NaN            1.462370e+09   \n",
       "50%              6.000000                  NaN            1.463163e+09   \n",
       "75%              6.000000                  NaN            1.463163e+09   \n",
       "max              9.000000                  NaN            1.463420e+09   \n",
       "\n",
       "       Products.taxable  Products.shopping_gtin  Products.shopping_flags  \\\n",
       "count       2959.000000            3.130000e+03              3917.000000   \n",
       "mean           0.940858            2.865179e+13                61.543528   \n",
       "std            0.235929            1.794757e+13                 5.086931   \n",
       "min            0.000000            1.542161e+10                 0.000000   \n",
       "25%            1.000000            1.008020e+13                62.000000   \n",
       "50%            1.000000            4.008020e+13                62.000000   \n",
       "75%            1.000000            4.088440e+13                62.000000   \n",
       "max            1.000000            5.089010e+13                63.000000   \n",
       "\n",
       "       Products.amazon_type  Products.amazon_price  Products.google_adwords  \\\n",
       "count                   0.0             592.000000                      0.0   \n",
       "mean                    NaN              89.727855                      NaN   \n",
       "std                     NaN              85.097197                      NaN   \n",
       "min                     NaN               2.990000                      NaN   \n",
       "25%                     NaN              40.820000                      NaN   \n",
       "50%                     NaN              69.990000                      NaN   \n",
       "75%                     NaN             124.740000                      NaN   \n",
       "max                     NaN             736.250000                      NaN   \n",
       "\n",
       "       Products.shopping_cat  Products.shopzilla_cat  \\\n",
       "count                 2334.0                  2334.0   \n",
       "mean                   199.0                 22005.0   \n",
       "std                      0.0                     0.0   \n",
       "min                    199.0                 22005.0   \n",
       "25%                    199.0                 22005.0   \n",
       "50%                    199.0                 22005.0   \n",
       "75%                    199.0                 22005.0   \n",
       "max                    199.0                 22005.0   \n",
       "\n",
       "       Products.qb_edit_sequence  Products.price_break_type  \\\n",
       "count               3.728000e+03                        0.0   \n",
       "mean                1.450329e+09                        NaN   \n",
       "std                 4.029036e+05                        NaN   \n",
       "min                 1.442503e+09                        NaN   \n",
       "25%                 1.450323e+09                        NaN   \n",
       "50%                 1.450324e+09                        NaN   \n",
       "75%                 1.450337e+09                        NaN   \n",
       "max                 1.450712e+09                        NaN   \n",
       "\n",
       "       Products.price_breaks  Products.websites  Products.audio  \\\n",
       "count                    0.0                0.0             0.0   \n",
       "mean                     NaN                NaN             NaN   \n",
       "std                      NaN                NaN             NaN   \n",
       "min                      NaN                NaN             NaN   \n",
       "25%                      NaN                NaN             NaN   \n",
       "50%                      NaN                NaN             NaN   \n",
       "75%                      NaN                NaN             NaN   \n",
       "max                      NaN                NaN             NaN   \n",
       "\n",
       "       Products.seo_footer  Products.seo_category  Products.length  \\\n",
       "count                  0.0                 2837.0       998.000000   \n",
       "mean                   NaN                    0.0        21.292014   \n",
       "std                    NaN                    0.0        19.334049   \n",
       "min                    NaN                    0.0         0.500000   \n",
       "25%                    NaN                    0.0         9.000000   \n",
       "50%                    NaN                    0.0        16.000000   \n",
       "75%                    NaN                    0.0        27.500000   \n",
       "max                    NaN                    0.0       123.000000   \n",
       "\n",
       "       Products.width  Products.height  Products.upc  Products.case_qty  \\\n",
       "count      996.000000       996.000000  2.127000e+03        2638.000000   \n",
       "mean        19.191185        13.587992  5.504591e+11         162.885140   \n",
       "std         51.129537        14.010066  3.583533e+11         508.461157   \n",
       "min          0.250000         0.100000  8.019674e+09           1.000000   \n",
       "25%          4.750000         2.000000  8.019673e+10           1.000000   \n",
       "50%         15.630000         6.000000  7.797090e+11           5.000000   \n",
       "75%         24.000000        28.000000  8.223840e+11          64.000000   \n",
       "max        900.000000        76.000000  8.931690e+11        5000.000000   \n",
       "\n",
       "       Products.markup  Products.override_markup  Products.import_flags  \\\n",
       "count              0.0               2920.000000            2786.000000   \n",
       "mean               NaN                  0.166438              65.059943   \n",
       "std                NaN                  0.372537              94.714484   \n",
       "min                NaN                  0.000000               0.000000   \n",
       "25%                NaN                  0.000000               0.000000   \n",
       "50%                NaN                  0.000000               0.000000   \n",
       "75%                NaN                  0.000000             128.000000   \n",
       "max                NaN                  1.000000             418.000000   \n",
       "\n",
       "       Products.map_price  Products.hygienic  Products.default_quantity  \\\n",
       "count          122.000000        2080.000000                        0.0   \n",
       "mean           181.696967           0.064423                        NaN   \n",
       "std            312.357568           0.245564                        NaN   \n",
       "min              8.190000           0.000000                        NaN   \n",
       "25%             65.000000           0.000000                        NaN   \n",
       "50%            104.995000           0.000000                        NaN   \n",
       "75%            155.000000           0.000000                        NaN   \n",
       "max           1899.000000           1.000000                        NaN   \n",
       "\n",
       "       Products.shipping_length  Products.shipping_width  \\\n",
       "count               3998.000000              3998.000000   \n",
       "mean                  17.208216                10.872750   \n",
       "std                   10.508782                 6.781847   \n",
       "min                    0.000000                 0.000000   \n",
       "25%                    9.000000                 5.700000   \n",
       "50%                   15.500000                10.000000   \n",
       "75%                   23.500000                15.000000   \n",
       "max                   90.000000                80.000000   \n",
       "\n",
       "       Products.shipping_height  Products.shipping_weight  \\\n",
       "count               3998.000000                659.000000   \n",
       "mean                  11.592447                 15.487041   \n",
       "std                   10.250909                 22.256617   \n",
       "min                    0.000000                  0.020000   \n",
       "25%                    4.000000                  2.775000   \n",
       "50%                    8.645000                  8.900000   \n",
       "75%                   15.000000                 21.000000   \n",
       "max                   58.000000                175.000000   \n",
       "\n",
       "       Products.google_shopping_label  Products.leg_style  \\\n",
       "count                      387.000000                 0.0   \n",
       "mean                         3.863049                 NaN   \n",
       "std                          2.098446                 NaN   \n",
       "min                          0.000000                 NaN   \n",
       "25%                          5.000000                 NaN   \n",
       "50%                          5.000000                 NaN   \n",
       "75%                          5.000000                 NaN   \n",
       "max                          5.000000                 NaN   \n",
       "\n",
       "       Products.saved_status  Products.freight_cost  \n",
       "count            3930.000000                    0.0  \n",
       "mean                0.876336                    NaN  \n",
       "std                 1.364374                    NaN  \n",
       "min                 0.000000                    NaN  \n",
       "25%                 0.000000                    NaN  \n",
       "50%                 0.000000                    NaN  \n",
       "75%                 3.000000                    NaN  \n",
       "max                 3.000000                    NaN  \n",
       "\n",
       "[8 rows x 107 columns]"
      ]
     },
     "execution_count": 453,
     "metadata": {},
     "output_type": "execute_result"
    }
   ],
   "source": [
    "df.describe()"
   ]
  },
  {
   "cell_type": "code",
   "execution_count": 454,
   "metadata": {},
   "outputs": [
    {
     "data": {
      "text/plain": [
       "Customers.id                0\n",
       "Customers.fname             0\n",
       "Customers.lname             0\n",
       "Customers.company        3467\n",
       "Customers.create_date       0\n",
       "                         ... \n",
       "Products.leg_style       4194\n",
       "Products.seat_size       4032\n",
       "Products.family_id        325\n",
       "Products.saved_status     264\n",
       "Products.freight_cost    4194\n",
       "Length: 181, dtype: int64"
      ]
     },
     "execution_count": 454,
     "metadata": {},
     "output_type": "execute_result"
    }
   ],
   "source": [
    "df.isnull().sum()   "
   ]
  },
  {
   "cell_type": "markdown",
   "metadata": {},
   "source": [
    "#### Creating 4 separate dataframes from the main DataFrame by 'Customers' , 'Orders', 'Order Items' and'Products'"
   ]
  },
  {
   "cell_type": "code",
   "execution_count": 455,
   "metadata": {},
   "outputs": [],
   "source": [
    "customers_df = df.filter(regex='^Customers\\.')\n",
    "orders_df = df.filter(regex='^Orders\\.')\n",
    "products_df = df.filter(regex='^Products\\.')\n",
    "order_items_df = df.filter(regex='^Order_Items\\.')   \n",
    "\n",
    "customers_df.columns = customers_df.columns.str.replace('Customers\\.', '', regex=True)\n",
    "orders_df.columns = orders_df.columns.str.replace('Orders\\.', '', regex=True)\n",
    "products_df.columns = products_df.columns.str.replace('Products\\.', '', regex=True)\n",
    "order_items_df.columns = order_items_df.columns.str.replace('Order_Items\\.', '', regex=True)"
   ]
  },
  {
   "cell_type": "code",
   "execution_count": 456,
   "metadata": {},
   "outputs": [
    {
     "data": {
      "text/html": [
       "<div>\n",
       "<style scoped>\n",
       "    .dataframe tbody tr th:only-of-type {\n",
       "        vertical-align: middle;\n",
       "    }\n",
       "\n",
       "    .dataframe tbody tr th {\n",
       "        vertical-align: top;\n",
       "    }\n",
       "\n",
       "    .dataframe thead th {\n",
       "        text-align: right;\n",
       "    }\n",
       "</style>\n",
       "<table border=\"1\" class=\"dataframe\">\n",
       "  <thead>\n",
       "    <tr style=\"text-align: right;\">\n",
       "      <th></th>\n",
       "      <th>id</th>\n",
       "      <th>fname</th>\n",
       "      <th>lname</th>\n",
       "      <th>company</th>\n",
       "      <th>create_date</th>\n",
       "      <th>status</th>\n",
       "      <th>mailing</th>\n",
       "      <th>reminders</th>\n",
       "      <th>tax_exempt</th>\n",
       "      <th>account_id</th>\n",
       "      <th>sales_rep</th>\n",
       "      <th>rewards</th>\n",
       "      <th>profile_id</th>\n",
       "      <th>last_modified</th>\n",
       "      <th>customer_type</th>\n",
       "    </tr>\n",
       "  </thead>\n",
       "  <tbody>\n",
       "    <tr>\n",
       "      <th>0</th>\n",
       "      <td>b</td>\n",
       "      <td>Christy</td>\n",
       "      <td>Dill</td>\n",
       "      <td>Company0</td>\n",
       "      <td>1426018724</td>\n",
       "      <td>NaN</td>\n",
       "      <td>NaN</td>\n",
       "      <td>NaN</td>\n",
       "      <td>NaN</td>\n",
       "      <td>NaN</td>\n",
       "      <td>NaN</td>\n",
       "      <td>NaN</td>\n",
       "      <td>NaN</td>\n",
       "      <td>1437764306</td>\n",
       "      <td>0.0</td>\n",
       "    </tr>\n",
       "    <tr>\n",
       "      <th>1</th>\n",
       "      <td>3</td>\n",
       "      <td>John</td>\n",
       "      <td>Smith</td>\n",
       "      <td>Company1</td>\n",
       "      <td>1386089139</td>\n",
       "      <td>NaN</td>\n",
       "      <td>NaN</td>\n",
       "      <td>NaN</td>\n",
       "      <td>NaN</td>\n",
       "      <td>NaN</td>\n",
       "      <td>NaN</td>\n",
       "      <td>NaN</td>\n",
       "      <td>NaN</td>\n",
       "      <td>1437764354</td>\n",
       "      <td>0.0</td>\n",
       "    </tr>\n",
       "    <tr>\n",
       "      <th>2</th>\n",
       "      <td>3</td>\n",
       "      <td>John</td>\n",
       "      <td>Smith</td>\n",
       "      <td>Company1</td>\n",
       "      <td>1386089139</td>\n",
       "      <td>NaN</td>\n",
       "      <td>NaN</td>\n",
       "      <td>NaN</td>\n",
       "      <td>NaN</td>\n",
       "      <td>NaN</td>\n",
       "      <td>NaN</td>\n",
       "      <td>NaN</td>\n",
       "      <td>NaN</td>\n",
       "      <td>1437764354</td>\n",
       "      <td>0.0</td>\n",
       "    </tr>\n",
       "    <tr>\n",
       "      <th>3</th>\n",
       "      <td>4</td>\n",
       "      <td>James</td>\n",
       "      <td>Anderson</td>\n",
       "      <td>NaN</td>\n",
       "      <td>1386780263</td>\n",
       "      <td>NaN</td>\n",
       "      <td>NaN</td>\n",
       "      <td>NaN</td>\n",
       "      <td>NaN</td>\n",
       "      <td>NaN</td>\n",
       "      <td>NaN</td>\n",
       "      <td>NaN</td>\n",
       "      <td>NaN</td>\n",
       "      <td>1437762646</td>\n",
       "      <td>0.0</td>\n",
       "    </tr>\n",
       "    <tr>\n",
       "      <th>4</th>\n",
       "      <td>5</td>\n",
       "      <td>Abraham</td>\n",
       "      <td>Pollak</td>\n",
       "      <td>Company3</td>\n",
       "      <td>1386861599</td>\n",
       "      <td>0.0</td>\n",
       "      <td>0.0</td>\n",
       "      <td>NaN</td>\n",
       "      <td>NaN</td>\n",
       "      <td>NaN</td>\n",
       "      <td>NaN</td>\n",
       "      <td>NaN</td>\n",
       "      <td>NaN</td>\n",
       "      <td>1437764316</td>\n",
       "      <td>0.0</td>\n",
       "    </tr>\n",
       "  </tbody>\n",
       "</table>\n",
       "</div>"
      ],
      "text/plain": [
       "  id    fname     lname   company  create_date  status  mailing  reminders  \\\n",
       "0  b  Christy      Dill  Company0   1426018724     NaN      NaN        NaN   \n",
       "1  3     John     Smith  Company1   1386089139     NaN      NaN        NaN   \n",
       "2  3     John     Smith  Company1   1386089139     NaN      NaN        NaN   \n",
       "3  4    James  Anderson       NaN   1386780263     NaN      NaN        NaN   \n",
       "4  5  Abraham    Pollak  Company3   1386861599     0.0      0.0        NaN   \n",
       "\n",
       "   tax_exempt  account_id  sales_rep  rewards  profile_id  last_modified  \\\n",
       "0         NaN         NaN        NaN      NaN         NaN     1437764306   \n",
       "1         NaN         NaN        NaN      NaN         NaN     1437764354   \n",
       "2         NaN         NaN        NaN      NaN         NaN     1437764354   \n",
       "3         NaN         NaN        NaN      NaN         NaN     1437762646   \n",
       "4         NaN         NaN        NaN      NaN         NaN     1437764316   \n",
       "\n",
       "   customer_type  \n",
       "0            0.0  \n",
       "1            0.0  \n",
       "2            0.0  \n",
       "3            0.0  \n",
       "4            0.0  "
      ]
     },
     "execution_count": 456,
     "metadata": {},
     "output_type": "execute_result"
    }
   ],
   "source": [
    "customers_df.head()"
   ]
  },
  {
   "cell_type": "code",
   "execution_count": 457,
   "metadata": {},
   "outputs": [],
   "source": [
    "customers_df = customers_df[['id', 'fname', 'lname', 'company']]"
   ]
  },
  {
   "cell_type": "code",
   "execution_count": 458,
   "metadata": {},
   "outputs": [
    {
     "data": {
      "text/html": [
       "<div>\n",
       "<style scoped>\n",
       "    .dataframe tbody tr th:only-of-type {\n",
       "        vertical-align: middle;\n",
       "    }\n",
       "\n",
       "    .dataframe tbody tr th {\n",
       "        vertical-align: top;\n",
       "    }\n",
       "\n",
       "    .dataframe thead th {\n",
       "        text-align: right;\n",
       "    }\n",
       "</style>\n",
       "<table border=\"1\" class=\"dataframe\">\n",
       "  <thead>\n",
       "    <tr style=\"text-align: right;\">\n",
       "      <th></th>\n",
       "      <th>id</th>\n",
       "      <th>fname</th>\n",
       "      <th>lname</th>\n",
       "      <th>company</th>\n",
       "    </tr>\n",
       "  </thead>\n",
       "  <tbody>\n",
       "    <tr>\n",
       "      <th>0</th>\n",
       "      <td>b</td>\n",
       "      <td>Christy</td>\n",
       "      <td>Dill</td>\n",
       "      <td>Company0</td>\n",
       "    </tr>\n",
       "    <tr>\n",
       "      <th>1</th>\n",
       "      <td>3</td>\n",
       "      <td>John</td>\n",
       "      <td>Smith</td>\n",
       "      <td>Company1</td>\n",
       "    </tr>\n",
       "    <tr>\n",
       "      <th>2</th>\n",
       "      <td>3</td>\n",
       "      <td>John</td>\n",
       "      <td>Smith</td>\n",
       "      <td>Company1</td>\n",
       "    </tr>\n",
       "    <tr>\n",
       "      <th>3</th>\n",
       "      <td>4</td>\n",
       "      <td>James</td>\n",
       "      <td>Anderson</td>\n",
       "      <td>NaN</td>\n",
       "    </tr>\n",
       "    <tr>\n",
       "      <th>4</th>\n",
       "      <td>5</td>\n",
       "      <td>Abraham</td>\n",
       "      <td>Pollak</td>\n",
       "      <td>Company3</td>\n",
       "    </tr>\n",
       "  </tbody>\n",
       "</table>\n",
       "</div>"
      ],
      "text/plain": [
       "  id    fname     lname   company\n",
       "0  b  Christy      Dill  Company0\n",
       "1  3     John     Smith  Company1\n",
       "2  3     John     Smith  Company1\n",
       "3  4    James  Anderson       NaN\n",
       "4  5  Abraham    Pollak  Company3"
      ]
     },
     "execution_count": 458,
     "metadata": {},
     "output_type": "execute_result"
    }
   ],
   "source": [
    "customers_df.head()"
   ]
  },
  {
   "cell_type": "code",
   "execution_count": 459,
   "metadata": {},
   "outputs": [
    {
     "data": {
      "text/html": [
       "<div>\n",
       "<style scoped>\n",
       "    .dataframe tbody tr th:only-of-type {\n",
       "        vertical-align: middle;\n",
       "    }\n",
       "\n",
       "    .dataframe tbody tr th {\n",
       "        vertical-align: top;\n",
       "    }\n",
       "\n",
       "    .dataframe thead th {\n",
       "        text-align: right;\n",
       "    }\n",
       "</style>\n",
       "<table border=\"1\" class=\"dataframe\">\n",
       "  <thead>\n",
       "    <tr style=\"text-align: right;\">\n",
       "      <th></th>\n",
       "      <th>id</th>\n",
       "      <th>customer_id</th>\n",
       "      <th>fname</th>\n",
       "      <th>lname</th>\n",
       "      <th>company</th>\n",
       "      <th>order_number</th>\n",
       "      <th>reorder_id</th>\n",
       "      <th>external_source</th>\n",
       "      <th>external_id</th>\n",
       "      <th>currency</th>\n",
       "      <th>sales_rep</th>\n",
       "      <th>subtotal</th>\n",
       "      <th>tax</th>\n",
       "      <th>shipping</th>\n",
       "      <th>coupon_id</th>\n",
       "      <th>coupon_amount</th>\n",
       "      <th>gift_id</th>\n",
       "      <th>gift_amount</th>\n",
       "      <th>fee_name</th>\n",
       "      <th>fee_amount</th>\n",
       "      <th>discount_name</th>\n",
       "      <th>discount_amount</th>\n",
       "      <th>total</th>\n",
       "      <th>balance_due</th>\n",
       "      <th>shipping_carrier</th>\n",
       "      <th>shipping_method</th>\n",
       "      <th>shipping_trans</th>\n",
       "      <th>shipping_flags</th>\n",
       "      <th>weight</th>\n",
       "      <th>tracking</th>\n",
       "      <th>payment_status</th>\n",
       "      <th>payment_date</th>\n",
       "      <th>payment_user</th>\n",
       "      <th>payment_type</th>\n",
       "      <th>payment_method</th>\n",
       "      <th>payment_amount</th>\n",
       "      <th>purchase_order</th>\n",
       "      <th>payment_id</th>\n",
       "      <th>payment_code</th>\n",
       "      <th>payment_ref</th>\n",
       "      <th>status</th>\n",
       "      <th>placed_date</th>\n",
       "      <th>updated_date</th>\n",
       "      <th>shipped_date</th>\n",
       "      <th>comments</th>\n",
       "      <th>notes</th>\n",
       "      <th>registry_id</th>\n",
       "      <th>gift_message</th>\n",
       "      <th>website</th>\n",
       "      <th>mailing</th>\n",
       "      <th>flags</th>\n",
       "      <th>partial_ship</th>\n",
       "      <th>customer_type</th>\n",
       "    </tr>\n",
       "  </thead>\n",
       "  <tbody>\n",
       "    <tr>\n",
       "      <th>0</th>\n",
       "      <td>3758</td>\n",
       "      <td>797</td>\n",
       "      <td>Christy</td>\n",
       "      <td>Dill</td>\n",
       "      <td>Company0</td>\n",
       "      <td>3758</td>\n",
       "      <td>NaN</td>\n",
       "      <td>NaN</td>\n",
       "      <td>NaN</td>\n",
       "      <td>USD</td>\n",
       "      <td>NaN</td>\n",
       "      <td>57.20</td>\n",
       "      <td>0.0</td>\n",
       "      <td>9.95</td>\n",
       "      <td>13.0</td>\n",
       "      <td>2.86</td>\n",
       "      <td>NaN</td>\n",
       "      <td>NaN</td>\n",
       "      <td>NaN</td>\n",
       "      <td>NaN</td>\n",
       "      <td>NaN</td>\n",
       "      <td>NaN</td>\n",
       "      <td>64.29</td>\n",
       "      <td>NaN</td>\n",
       "      <td>fedex</td>\n",
       "      <td>11|Ground</td>\n",
       "      <td>NaN</td>\n",
       "      <td>NaN</td>\n",
       "      <td>NaN</td>\n",
       "      <td>5.7204E+14</td>\n",
       "      <td>3.0</td>\n",
       "      <td>1.426019e+09</td>\n",
       "      <td>NaN</td>\n",
       "      <td>authorize.net</td>\n",
       "      <td>NaN</td>\n",
       "      <td>64.29</td>\n",
       "      <td>NaN</td>\n",
       "      <td>6993607863</td>\n",
       "      <td>510142</td>\n",
       "      <td>NaN</td>\n",
       "      <td>1</td>\n",
       "      <td>1426019099</td>\n",
       "      <td>1.438868e+09</td>\n",
       "      <td>1.426101e+09</td>\n",
       "      <td>NaN</td>\n",
       "      <td>Insured By Eye4Fraud</td>\n",
       "      <td>NaN</td>\n",
       "      <td>NaN</td>\n",
       "      <td>NaN</td>\n",
       "      <td>NaN</td>\n",
       "      <td>NaN</td>\n",
       "      <td>NaN</td>\n",
       "      <td>0.0</td>\n",
       "    </tr>\n",
       "    <tr>\n",
       "      <th>1</th>\n",
       "      <td>23</td>\n",
       "      <td>3</td>\n",
       "      <td>John</td>\n",
       "      <td>Smith</td>\n",
       "      <td>Company1</td>\n",
       "      <td>23</td>\n",
       "      <td>NaN</td>\n",
       "      <td>NaN</td>\n",
       "      <td>NaN</td>\n",
       "      <td>USD</td>\n",
       "      <td>NaN</td>\n",
       "      <td>20.00</td>\n",
       "      <td>NaN</td>\n",
       "      <td>9.99</td>\n",
       "      <td>NaN</td>\n",
       "      <td>NaN</td>\n",
       "      <td>NaN</td>\n",
       "      <td>NaN</td>\n",
       "      <td>NaN</td>\n",
       "      <td>NaN</td>\n",
       "      <td>NaN</td>\n",
       "      <td>NaN</td>\n",
       "      <td>29.99</td>\n",
       "      <td>NaN</td>\n",
       "      <td>fedex</td>\n",
       "      <td>11|Ground</td>\n",
       "      <td>NaN</td>\n",
       "      <td>NaN</td>\n",
       "      <td>NaN</td>\n",
       "      <td>1.28597E+14</td>\n",
       "      <td>3.0</td>\n",
       "      <td>1.386090e+09</td>\n",
       "      <td>NaN</td>\n",
       "      <td>authorize.net</td>\n",
       "      <td>NaN</td>\n",
       "      <td>29.99</td>\n",
       "      <td>NaN</td>\n",
       "      <td>0</td>\n",
       "      <td>0</td>\n",
       "      <td>NaN</td>\n",
       "      <td>1</td>\n",
       "      <td>1386090455</td>\n",
       "      <td>1.440529e+09</td>\n",
       "      <td>1.386103e+09</td>\n",
       "      <td>NaN</td>\n",
       "      <td>NaN</td>\n",
       "      <td>NaN</td>\n",
       "      <td>NaN</td>\n",
       "      <td>NaN</td>\n",
       "      <td>NaN</td>\n",
       "      <td>NaN</td>\n",
       "      <td>NaN</td>\n",
       "      <td>0.0</td>\n",
       "    </tr>\n",
       "    <tr>\n",
       "      <th>2</th>\n",
       "      <td>9531</td>\n",
       "      <td>3</td>\n",
       "      <td>John</td>\n",
       "      <td>Smith</td>\n",
       "      <td>Company1</td>\n",
       "      <td>9531</td>\n",
       "      <td>NaN</td>\n",
       "      <td>NaN</td>\n",
       "      <td>NaN</td>\n",
       "      <td>USD</td>\n",
       "      <td>NaN</td>\n",
       "      <td>68.78</td>\n",
       "      <td>0.0</td>\n",
       "      <td>9.95</td>\n",
       "      <td>NaN</td>\n",
       "      <td>NaN</td>\n",
       "      <td>NaN</td>\n",
       "      <td>NaN</td>\n",
       "      <td>NaN</td>\n",
       "      <td>NaN</td>\n",
       "      <td>NaN</td>\n",
       "      <td>NaN</td>\n",
       "      <td>78.73</td>\n",
       "      <td>NaN</td>\n",
       "      <td>manual</td>\n",
       "      <td>0|Standard Shipping</td>\n",
       "      <td>NaN</td>\n",
       "      <td>NaN</td>\n",
       "      <td>NaN</td>\n",
       "      <td>NaN</td>\n",
       "      <td>3.0</td>\n",
       "      <td>1.449604e+09</td>\n",
       "      <td>genlee166</td>\n",
       "      <td>authorize.net</td>\n",
       "      <td>NaN</td>\n",
       "      <td>78.73</td>\n",
       "      <td>NaN</td>\n",
       "      <td>0</td>\n",
       "      <td>0</td>\n",
       "      <td>NaN</td>\n",
       "      <td>3</td>\n",
       "      <td>1449603652</td>\n",
       "      <td>1.450213e+09</td>\n",
       "      <td>NaN</td>\n",
       "      <td>test order</td>\n",
       "      <td>Test</td>\n",
       "      <td>NaN</td>\n",
       "      <td>NaN</td>\n",
       "      <td>NaN</td>\n",
       "      <td>NaN</td>\n",
       "      <td>NaN</td>\n",
       "      <td>NaN</td>\n",
       "      <td>0.0</td>\n",
       "    </tr>\n",
       "    <tr>\n",
       "      <th>3</th>\n",
       "      <td>29</td>\n",
       "      <td>4</td>\n",
       "      <td>James</td>\n",
       "      <td>Anderson</td>\n",
       "      <td>NaN</td>\n",
       "      <td>29</td>\n",
       "      <td>NaN</td>\n",
       "      <td>Ebay</td>\n",
       "      <td>NaN</td>\n",
       "      <td>USD</td>\n",
       "      <td>NaN</td>\n",
       "      <td>19.56</td>\n",
       "      <td>0.0</td>\n",
       "      <td>9.95</td>\n",
       "      <td>NaN</td>\n",
       "      <td>NaN</td>\n",
       "      <td>NaN</td>\n",
       "      <td>NaN</td>\n",
       "      <td>NaN</td>\n",
       "      <td>0.04</td>\n",
       "      <td>NaN</td>\n",
       "      <td>NaN</td>\n",
       "      <td>29.55</td>\n",
       "      <td>NaN</td>\n",
       "      <td>NaN</td>\n",
       "      <td>11|Ground</td>\n",
       "      <td>NaN</td>\n",
       "      <td>NaN</td>\n",
       "      <td>NaN</td>\n",
       "      <td>7.96468E+14</td>\n",
       "      <td>3.0</td>\n",
       "      <td>1.386780e+09</td>\n",
       "      <td>NaN</td>\n",
       "      <td>NaN</td>\n",
       "      <td>Credit Card</td>\n",
       "      <td>29.55</td>\n",
       "      <td>NaN</td>\n",
       "      <td>NaN</td>\n",
       "      <td>NaN</td>\n",
       "      <td>NaN</td>\n",
       "      <td>1</td>\n",
       "      <td>1386780263</td>\n",
       "      <td>1.440529e+09</td>\n",
       "      <td>1.386800e+09</td>\n",
       "      <td>ebay order\\r\\npaid by pay pal</td>\n",
       "      <td>NaN</td>\n",
       "      <td>NaN</td>\n",
       "      <td>NaN</td>\n",
       "      <td>NaN</td>\n",
       "      <td>NaN</td>\n",
       "      <td>NaN</td>\n",
       "      <td>NaN</td>\n",
       "      <td>0.0</td>\n",
       "    </tr>\n",
       "    <tr>\n",
       "      <th>4</th>\n",
       "      <td>30</td>\n",
       "      <td>5</td>\n",
       "      <td>Abraham</td>\n",
       "      <td>Pollak</td>\n",
       "      <td>Company3</td>\n",
       "      <td>30</td>\n",
       "      <td>NaN</td>\n",
       "      <td>NaN</td>\n",
       "      <td>NaN</td>\n",
       "      <td>USD</td>\n",
       "      <td>NaN</td>\n",
       "      <td>36.05</td>\n",
       "      <td>NaN</td>\n",
       "      <td>9.95</td>\n",
       "      <td>NaN</td>\n",
       "      <td>NaN</td>\n",
       "      <td>NaN</td>\n",
       "      <td>NaN</td>\n",
       "      <td>NaN</td>\n",
       "      <td>NaN</td>\n",
       "      <td>NaN</td>\n",
       "      <td>NaN</td>\n",
       "      <td>46.00</td>\n",
       "      <td>NaN</td>\n",
       "      <td>fedex</td>\n",
       "      <td>11|Ground</td>\n",
       "      <td>NaN</td>\n",
       "      <td>NaN</td>\n",
       "      <td>NaN</td>\n",
       "      <td>6.87398E+14</td>\n",
       "      <td>3.0</td>\n",
       "      <td>1.386862e+09</td>\n",
       "      <td>NaN</td>\n",
       "      <td>NaN</td>\n",
       "      <td>Credit Card</td>\n",
       "      <td>46.00</td>\n",
       "      <td>NaN</td>\n",
       "      <td>NaN</td>\n",
       "      <td>NaN</td>\n",
       "      <td>NaN</td>\n",
       "      <td>1</td>\n",
       "      <td>1386861599</td>\n",
       "      <td>1.440529e+09</td>\n",
       "      <td>1.386876e+09</td>\n",
       "      <td>NaN</td>\n",
       "      <td>NaN</td>\n",
       "      <td>NaN</td>\n",
       "      <td>NaN</td>\n",
       "      <td>NaN</td>\n",
       "      <td>NaN</td>\n",
       "      <td>NaN</td>\n",
       "      <td>NaN</td>\n",
       "      <td>0.0</td>\n",
       "    </tr>\n",
       "  </tbody>\n",
       "</table>\n",
       "</div>"
      ],
      "text/plain": [
       "     id  customer_id    fname     lname   company order_number  reorder_id  \\\n",
       "0  3758          797  Christy      Dill  Company0         3758         NaN   \n",
       "1    23            3     John     Smith  Company1           23         NaN   \n",
       "2  9531            3     John     Smith  Company1         9531         NaN   \n",
       "3    29            4    James  Anderson       NaN           29         NaN   \n",
       "4    30            5  Abraham    Pollak  Company3           30         NaN   \n",
       "\n",
       "  external_source  external_id currency  sales_rep  subtotal  tax  shipping  \\\n",
       "0             NaN          NaN      USD        NaN     57.20  0.0      9.95   \n",
       "1             NaN          NaN      USD        NaN     20.00  NaN      9.99   \n",
       "2             NaN          NaN      USD        NaN     68.78  0.0      9.95   \n",
       "3            Ebay          NaN      USD        NaN     19.56  0.0      9.95   \n",
       "4             NaN          NaN      USD        NaN     36.05  NaN      9.95   \n",
       "\n",
       "   coupon_id  coupon_amount  gift_id  gift_amount fee_name  fee_amount  \\\n",
       "0       13.0           2.86      NaN          NaN      NaN         NaN   \n",
       "1        NaN            NaN      NaN          NaN      NaN         NaN   \n",
       "2        NaN            NaN      NaN          NaN      NaN         NaN   \n",
       "3        NaN            NaN      NaN          NaN      NaN        0.04   \n",
       "4        NaN            NaN      NaN          NaN      NaN         NaN   \n",
       "\n",
       "  discount_name  discount_amount  total  balance_due shipping_carrier  \\\n",
       "0           NaN              NaN  64.29          NaN            fedex   \n",
       "1           NaN              NaN  29.99          NaN            fedex   \n",
       "2           NaN              NaN  78.73          NaN           manual   \n",
       "3           NaN              NaN  29.55          NaN              NaN   \n",
       "4           NaN              NaN  46.00          NaN            fedex   \n",
       "\n",
       "       shipping_method  shipping_trans  shipping_flags  weight     tracking  \\\n",
       "0            11|Ground             NaN             NaN     NaN   5.7204E+14   \n",
       "1            11|Ground             NaN             NaN     NaN  1.28597E+14   \n",
       "2  0|Standard Shipping             NaN             NaN     NaN          NaN   \n",
       "3            11|Ground             NaN             NaN     NaN  7.96468E+14   \n",
       "4            11|Ground             NaN             NaN     NaN  6.87398E+14   \n",
       "\n",
       "   payment_status  payment_date payment_user   payment_type payment_method  \\\n",
       "0             3.0  1.426019e+09          NaN  authorize.net            NaN   \n",
       "1             3.0  1.386090e+09          NaN  authorize.net            NaN   \n",
       "2             3.0  1.449604e+09    genlee166  authorize.net            NaN   \n",
       "3             3.0  1.386780e+09          NaN            NaN    Credit Card   \n",
       "4             3.0  1.386862e+09          NaN            NaN    Credit Card   \n",
       "\n",
       "   payment_amount  purchase_order  payment_id payment_code  payment_ref  \\\n",
       "0           64.29             NaN  6993607863       510142          NaN   \n",
       "1           29.99             NaN           0            0          NaN   \n",
       "2           78.73             NaN           0            0          NaN   \n",
       "3           29.55             NaN         NaN          NaN          NaN   \n",
       "4           46.00             NaN         NaN          NaN          NaN   \n",
       "\n",
       "   status  placed_date  updated_date  shipped_date  \\\n",
       "0       1   1426019099  1.438868e+09  1.426101e+09   \n",
       "1       1   1386090455  1.440529e+09  1.386103e+09   \n",
       "2       3   1449603652  1.450213e+09           NaN   \n",
       "3       1   1386780263  1.440529e+09  1.386800e+09   \n",
       "4       1   1386861599  1.440529e+09  1.386876e+09   \n",
       "\n",
       "                        comments                 notes  registry_id  \\\n",
       "0                            NaN  Insured By Eye4Fraud          NaN   \n",
       "1                            NaN                   NaN          NaN   \n",
       "2                     test order                  Test          NaN   \n",
       "3  ebay order\\r\\npaid by pay pal                   NaN          NaN   \n",
       "4                            NaN                   NaN          NaN   \n",
       "\n",
       "   gift_message  website  mailing  flags  partial_ship  customer_type  \n",
       "0           NaN      NaN      NaN    NaN           NaN            0.0  \n",
       "1           NaN      NaN      NaN    NaN           NaN            0.0  \n",
       "2           NaN      NaN      NaN    NaN           NaN            0.0  \n",
       "3           NaN      NaN      NaN    NaN           NaN            0.0  \n",
       "4           NaN      NaN      NaN    NaN           NaN            0.0  "
      ]
     },
     "execution_count": 459,
     "metadata": {},
     "output_type": "execute_result"
    }
   ],
   "source": [
    "orders_df.head()"
   ]
  },
  {
   "cell_type": "code",
   "execution_count": 460,
   "metadata": {},
   "outputs": [],
   "source": [
    "orders_df = orders_df[['id', 'customer_id', 'currency', 'subtotal']]"
   ]
  },
  {
   "cell_type": "code",
   "execution_count": 461,
   "metadata": {},
   "outputs": [
    {
     "data": {
      "text/html": [
       "<div>\n",
       "<style scoped>\n",
       "    .dataframe tbody tr th:only-of-type {\n",
       "        vertical-align: middle;\n",
       "    }\n",
       "\n",
       "    .dataframe tbody tr th {\n",
       "        vertical-align: top;\n",
       "    }\n",
       "\n",
       "    .dataframe thead th {\n",
       "        text-align: right;\n",
       "    }\n",
       "</style>\n",
       "<table border=\"1\" class=\"dataframe\">\n",
       "  <thead>\n",
       "    <tr style=\"text-align: right;\">\n",
       "      <th></th>\n",
       "      <th>id</th>\n",
       "      <th>customer_id</th>\n",
       "      <th>currency</th>\n",
       "      <th>subtotal</th>\n",
       "    </tr>\n",
       "  </thead>\n",
       "  <tbody>\n",
       "    <tr>\n",
       "      <th>0</th>\n",
       "      <td>3758</td>\n",
       "      <td>797</td>\n",
       "      <td>USD</td>\n",
       "      <td>57.20</td>\n",
       "    </tr>\n",
       "    <tr>\n",
       "      <th>1</th>\n",
       "      <td>23</td>\n",
       "      <td>3</td>\n",
       "      <td>USD</td>\n",
       "      <td>20.00</td>\n",
       "    </tr>\n",
       "    <tr>\n",
       "      <th>2</th>\n",
       "      <td>9531</td>\n",
       "      <td>3</td>\n",
       "      <td>USD</td>\n",
       "      <td>68.78</td>\n",
       "    </tr>\n",
       "    <tr>\n",
       "      <th>3</th>\n",
       "      <td>29</td>\n",
       "      <td>4</td>\n",
       "      <td>USD</td>\n",
       "      <td>19.56</td>\n",
       "    </tr>\n",
       "    <tr>\n",
       "      <th>4</th>\n",
       "      <td>30</td>\n",
       "      <td>5</td>\n",
       "      <td>USD</td>\n",
       "      <td>36.05</td>\n",
       "    </tr>\n",
       "  </tbody>\n",
       "</table>\n",
       "</div>"
      ],
      "text/plain": [
       "     id  customer_id currency  subtotal\n",
       "0  3758          797      USD     57.20\n",
       "1    23            3      USD     20.00\n",
       "2  9531            3      USD     68.78\n",
       "3    29            4      USD     19.56\n",
       "4    30            5      USD     36.05"
      ]
     },
     "execution_count": 461,
     "metadata": {},
     "output_type": "execute_result"
    }
   ],
   "source": [
    "orders_df.head()"
   ]
  },
  {
   "cell_type": "code",
   "execution_count": 462,
   "metadata": {},
   "outputs": [
    {
     "data": {
      "text/html": [
       "<div>\n",
       "<style scoped>\n",
       "    .dataframe tbody tr th:only-of-type {\n",
       "        vertical-align: middle;\n",
       "    }\n",
       "\n",
       "    .dataframe tbody tr th {\n",
       "        vertical-align: top;\n",
       "    }\n",
       "\n",
       "    .dataframe thead th {\n",
       "        text-align: right;\n",
       "    }\n",
       "</style>\n",
       "<table border=\"1\" class=\"dataframe\">\n",
       "  <thead>\n",
       "    <tr style=\"text-align: right;\">\n",
       "      <th></th>\n",
       "      <th>id</th>\n",
       "      <th>parent</th>\n",
       "      <th>product_id</th>\n",
       "      <th>product_name</th>\n",
       "      <th>attributes</th>\n",
       "      <th>attribute_names</th>\n",
       "      <th>attribute_prices</th>\n",
       "      <th>qty</th>\n",
       "      <th>price</th>\n",
       "      <th>cost</th>\n",
       "      <th>registry_item</th>\n",
       "      <th>related_id</th>\n",
       "      <th>reorder_frequency</th>\n",
       "      <th>account_id</th>\n",
       "      <th>flags</th>\n",
       "    </tr>\n",
       "  </thead>\n",
       "  <tbody>\n",
       "    <tr>\n",
       "      <th>0</th>\n",
       "      <td>5284</td>\n",
       "      <td>3758</td>\n",
       "      <td>2310.0</td>\n",
       "      <td>Basic Rollators, Green</td>\n",
       "      <td>NaN</td>\n",
       "      <td>NaN</td>\n",
       "      <td>NaN</td>\n",
       "      <td>1</td>\n",
       "      <td>57.20</td>\n",
       "      <td>44.00</td>\n",
       "      <td>NaN</td>\n",
       "      <td>NaN</td>\n",
       "      <td>NaN</td>\n",
       "      <td>NaN</td>\n",
       "      <td>NaN</td>\n",
       "    </tr>\n",
       "    <tr>\n",
       "      <th>1</th>\n",
       "      <td>31</td>\n",
       "      <td>23</td>\n",
       "      <td>177.0</td>\n",
       "      <td>Urinary Drain Bags,0.000</td>\n",
       "      <td>NaN</td>\n",
       "      <td>NaN</td>\n",
       "      <td>NaN</td>\n",
       "      <td>4</td>\n",
       "      <td>5.00</td>\n",
       "      <td>1.87</td>\n",
       "      <td>NaN</td>\n",
       "      <td>NaN</td>\n",
       "      <td>NaN</td>\n",
       "      <td>NaN</td>\n",
       "      <td>2.0</td>\n",
       "    </tr>\n",
       "    <tr>\n",
       "      <th>2</th>\n",
       "      <td>11655</td>\n",
       "      <td>9531</td>\n",
       "      <td>1.0</td>\n",
       "      <td>SensiCare Nitrile Exam Gloves, Blue, XX-Large</td>\n",
       "      <td>NaN</td>\n",
       "      <td>NaN</td>\n",
       "      <td>NaN</td>\n",
       "      <td>1</td>\n",
       "      <td>68.78</td>\n",
       "      <td>52.50</td>\n",
       "      <td>NaN</td>\n",
       "      <td>NaN</td>\n",
       "      <td>NaN</td>\n",
       "      <td>NaN</td>\n",
       "      <td>NaN</td>\n",
       "    </tr>\n",
       "    <tr>\n",
       "      <th>3</th>\n",
       "      <td>1816</td>\n",
       "      <td>29</td>\n",
       "      <td>983.0</td>\n",
       "      <td>Basket for 2-Button Walkers</td>\n",
       "      <td>NaN</td>\n",
       "      <td>NaN</td>\n",
       "      <td>NaN</td>\n",
       "      <td>1</td>\n",
       "      <td>19.56</td>\n",
       "      <td>12.62</td>\n",
       "      <td>NaN</td>\n",
       "      <td>NaN</td>\n",
       "      <td>NaN</td>\n",
       "      <td>NaN</td>\n",
       "      <td>NaN</td>\n",
       "    </tr>\n",
       "    <tr>\n",
       "      <th>4</th>\n",
       "      <td>40</td>\n",
       "      <td>30</td>\n",
       "      <td>991.0</td>\n",
       "      <td>Tens Units</td>\n",
       "      <td>NaN</td>\n",
       "      <td>NaN</td>\n",
       "      <td>NaN</td>\n",
       "      <td>1</td>\n",
       "      <td>36.05</td>\n",
       "      <td>25.75</td>\n",
       "      <td>NaN</td>\n",
       "      <td>NaN</td>\n",
       "      <td>NaN</td>\n",
       "      <td>NaN</td>\n",
       "      <td>NaN</td>\n",
       "    </tr>\n",
       "  </tbody>\n",
       "</table>\n",
       "</div>"
      ],
      "text/plain": [
       "      id  parent  product_id                                   product_name  \\\n",
       "0   5284    3758      2310.0                         Basic Rollators, Green   \n",
       "1     31      23       177.0                       Urinary Drain Bags,0.000   \n",
       "2  11655    9531         1.0  SensiCare Nitrile Exam Gloves, Blue, XX-Large   \n",
       "3   1816      29       983.0                    Basket for 2-Button Walkers   \n",
       "4     40      30       991.0                                     Tens Units   \n",
       "\n",
       "   attributes attribute_names  attribute_prices  qty  price   cost  \\\n",
       "0         NaN             NaN               NaN    1  57.20  44.00   \n",
       "1         NaN             NaN               NaN    4   5.00   1.87   \n",
       "2         NaN             NaN               NaN    1  68.78  52.50   \n",
       "3         NaN             NaN               NaN    1  19.56  12.62   \n",
       "4         NaN             NaN               NaN    1  36.05  25.75   \n",
       "\n",
       "   registry_item  related_id  reorder_frequency  account_id  flags  \n",
       "0            NaN         NaN                NaN         NaN    NaN  \n",
       "1            NaN         NaN                NaN         NaN    2.0  \n",
       "2            NaN         NaN                NaN         NaN    NaN  \n",
       "3            NaN         NaN                NaN         NaN    NaN  \n",
       "4            NaN         NaN                NaN         NaN    NaN  "
      ]
     },
     "execution_count": 462,
     "metadata": {},
     "output_type": "execute_result"
    }
   ],
   "source": [
    "order_items_df.head()"
   ]
  },
  {
   "cell_type": "code",
   "execution_count": 463,
   "metadata": {},
   "outputs": [],
   "source": [
    "order_items_df = order_items_df[['id', 'parent', 'product_id', 'qty','price','product_name']]    "
   ]
  },
  {
   "cell_type": "code",
   "execution_count": 464,
   "metadata": {},
   "outputs": [
    {
     "data": {
      "text/html": [
       "<div>\n",
       "<style scoped>\n",
       "    .dataframe tbody tr th:only-of-type {\n",
       "        vertical-align: middle;\n",
       "    }\n",
       "\n",
       "    .dataframe tbody tr th {\n",
       "        vertical-align: top;\n",
       "    }\n",
       "\n",
       "    .dataframe thead th {\n",
       "        text-align: right;\n",
       "    }\n",
       "</style>\n",
       "<table border=\"1\" class=\"dataframe\">\n",
       "  <thead>\n",
       "    <tr style=\"text-align: right;\">\n",
       "      <th></th>\n",
       "      <th>id</th>\n",
       "      <th>parent</th>\n",
       "      <th>product_id</th>\n",
       "      <th>qty</th>\n",
       "      <th>price</th>\n",
       "      <th>product_name</th>\n",
       "    </tr>\n",
       "  </thead>\n",
       "  <tbody>\n",
       "    <tr>\n",
       "      <th>0</th>\n",
       "      <td>5284</td>\n",
       "      <td>3758</td>\n",
       "      <td>2310.0</td>\n",
       "      <td>1</td>\n",
       "      <td>57.20</td>\n",
       "      <td>Basic Rollators, Green</td>\n",
       "    </tr>\n",
       "    <tr>\n",
       "      <th>1</th>\n",
       "      <td>31</td>\n",
       "      <td>23</td>\n",
       "      <td>177.0</td>\n",
       "      <td>4</td>\n",
       "      <td>5.00</td>\n",
       "      <td>Urinary Drain Bags,0.000</td>\n",
       "    </tr>\n",
       "    <tr>\n",
       "      <th>2</th>\n",
       "      <td>11655</td>\n",
       "      <td>9531</td>\n",
       "      <td>1.0</td>\n",
       "      <td>1</td>\n",
       "      <td>68.78</td>\n",
       "      <td>SensiCare Nitrile Exam Gloves, Blue, XX-Large</td>\n",
       "    </tr>\n",
       "    <tr>\n",
       "      <th>3</th>\n",
       "      <td>1816</td>\n",
       "      <td>29</td>\n",
       "      <td>983.0</td>\n",
       "      <td>1</td>\n",
       "      <td>19.56</td>\n",
       "      <td>Basket for 2-Button Walkers</td>\n",
       "    </tr>\n",
       "    <tr>\n",
       "      <th>4</th>\n",
       "      <td>40</td>\n",
       "      <td>30</td>\n",
       "      <td>991.0</td>\n",
       "      <td>1</td>\n",
       "      <td>36.05</td>\n",
       "      <td>Tens Units</td>\n",
       "    </tr>\n",
       "  </tbody>\n",
       "</table>\n",
       "</div>"
      ],
      "text/plain": [
       "      id  parent  product_id  qty  price  \\\n",
       "0   5284    3758      2310.0    1  57.20   \n",
       "1     31      23       177.0    4   5.00   \n",
       "2  11655    9531         1.0    1  68.78   \n",
       "3   1816      29       983.0    1  19.56   \n",
       "4     40      30       991.0    1  36.05   \n",
       "\n",
       "                                    product_name  \n",
       "0                         Basic Rollators, Green  \n",
       "1                       Urinary Drain Bags,0.000  \n",
       "2  SensiCare Nitrile Exam Gloves, Blue, XX-Large  \n",
       "3                    Basket for 2-Button Walkers  \n",
       "4                                     Tens Units  "
      ]
     },
     "execution_count": 464,
     "metadata": {},
     "output_type": "execute_result"
    }
   ],
   "source": [
    "order_items_df.head()"
   ]
  },
  {
   "cell_type": "code",
   "execution_count": 465,
   "metadata": {},
   "outputs": [
    {
     "data": {
      "text/html": [
       "<div>\n",
       "<style scoped>\n",
       "    .dataframe tbody tr th:only-of-type {\n",
       "        vertical-align: middle;\n",
       "    }\n",
       "\n",
       "    .dataframe tbody tr th {\n",
       "        vertical-align: top;\n",
       "    }\n",
       "\n",
       "    .dataframe thead th {\n",
       "        text-align: right;\n",
       "    }\n",
       "</style>\n",
       "<table border=\"1\" class=\"dataframe\">\n",
       "  <thead>\n",
       "    <tr style=\"text-align: right;\">\n",
       "      <th></th>\n",
       "      <th>id</th>\n",
       "      <th>status</th>\n",
       "      <th>product_type</th>\n",
       "      <th>template</th>\n",
       "      <th>vendor</th>\n",
       "      <th>import_id</th>\n",
       "      <th>name</th>\n",
       "      <th>display_name</th>\n",
       "      <th>menu_name</th>\n",
       "      <th>list_price</th>\n",
       "      <th>price</th>\n",
       "      <th>sale_price</th>\n",
       "      <th>cost</th>\n",
       "      <th>flags</th>\n",
       "      <th>left_flag</th>\n",
       "      <th>right_flag</th>\n",
       "      <th>last_modified</th>\n",
       "      <th>taxable</th>\n",
       "      <th>shopping_gtin</th>\n",
       "      <th>shopping_brand</th>\n",
       "      <th>shopping_mpn</th>\n",
       "      <th>shopping_gender</th>\n",
       "      <th>shopping_color</th>\n",
       "      <th>shopping_age</th>\n",
       "      <th>shopping_flags</th>\n",
       "      <th>amazon_asin</th>\n",
       "      <th>amazon_type</th>\n",
       "      <th>amazon_item_type</th>\n",
       "      <th>amazon_price</th>\n",
       "      <th>google_shopping_id</th>\n",
       "      <th>google_shopping_type</th>\n",
       "      <th>google_shopping_cat</th>\n",
       "      <th>google_adwords</th>\n",
       "      <th>shopping_cat</th>\n",
       "      <th>shopping_type</th>\n",
       "      <th>pricegrabber_cat</th>\n",
       "      <th>shopzilla_cat</th>\n",
       "      <th>thefind_cat</th>\n",
       "      <th>quickbooks_id</th>\n",
       "      <th>qb_edit_sequence</th>\n",
       "      <th>price_break_type</th>\n",
       "      <th>price_breaks</th>\n",
       "      <th>short_description</th>\n",
       "      <th>long_description</th>\n",
       "      <th>websites</th>\n",
       "      <th>video</th>\n",
       "      <th>audio</th>\n",
       "      <th>seo_title</th>\n",
       "      <th>seo_description</th>\n",
       "      <th>seo_keywords</th>\n",
       "      <th>seo_header</th>\n",
       "      <th>seo_footer</th>\n",
       "      <th>seo_url</th>\n",
       "      <th>seo_category</th>\n",
       "      <th>unit</th>\n",
       "      <th>packaging</th>\n",
       "      <th>display_packaging</th>\n",
       "      <th>multiple</th>\n",
       "      <th>length</th>\n",
       "      <th>width</th>\n",
       "      <th>height</th>\n",
       "      <th>rx</th>\n",
       "      <th>latex</th>\n",
       "      <th>upc</th>\n",
       "      <th>msds_link</th>\n",
       "      <th>msds_label</th>\n",
       "      <th>lit_link</th>\n",
       "      <th>lit_label</th>\n",
       "      <th>hcpcs</th>\n",
       "      <th>case_qty</th>\n",
       "      <th>markup</th>\n",
       "      <th>override_markup</th>\n",
       "      <th>notes</th>\n",
       "      <th>import_flags</th>\n",
       "      <th>map_price</th>\n",
       "      <th>features_title</th>\n",
       "      <th>warranty</th>\n",
       "      <th>hygienic</th>\n",
       "      <th>default_quantity</th>\n",
       "      <th>user_size</th>\n",
       "      <th>assembly</th>\n",
       "      <th>installation</th>\n",
       "      <th>shipping_length</th>\n",
       "      <th>shipping_width</th>\n",
       "      <th>shipping_height</th>\n",
       "      <th>shipping_weight</th>\n",
       "      <th>handling_time</th>\n",
       "      <th>rotation_link</th>\n",
       "      <th>google_shopping_label</th>\n",
       "      <th>product_option</th>\n",
       "      <th>size</th>\n",
       "      <th>material</th>\n",
       "      <th>arm_style</th>\n",
       "      <th>leg_style</th>\n",
       "      <th>seat_size</th>\n",
       "      <th>family_id</th>\n",
       "      <th>saved_status</th>\n",
       "      <th>freight_cost</th>\n",
       "    </tr>\n",
       "  </thead>\n",
       "  <tbody>\n",
       "    <tr>\n",
       "      <th>0</th>\n",
       "      <td>2310.0</td>\n",
       "      <td>0.0</td>\n",
       "      <td>NaN</td>\n",
       "      <td>sub-product-detail.html</td>\n",
       "      <td>1.0</td>\n",
       "      <td>3.0</td>\n",
       "      <td>Basic Steel Rollators,Green</td>\n",
       "      <td>Basic Lightweight Rollators For Adults, With S...</td>\n",
       "      <td>NaN</td>\n",
       "      <td>80.70</td>\n",
       "      <td>57.64</td>\n",
       "      <td>NaN</td>\n",
       "      <td>44.00</td>\n",
       "      <td>0.0</td>\n",
       "      <td>NaN</td>\n",
       "      <td>NaN</td>\n",
       "      <td>1.463163e+09</td>\n",
       "      <td>1.0</td>\n",
       "      <td>1.088440e+13</td>\n",
       "      <td>MEDLINE</td>\n",
       "      <td>MDS86850EGS</td>\n",
       "      <td>NaN</td>\n",
       "      <td>Green</td>\n",
       "      <td>NaN</td>\n",
       "      <td>62.0</td>\n",
       "      <td>B00I6GQE0A</td>\n",
       "      <td>NaN</td>\n",
       "      <td>health-care-products</td>\n",
       "      <td>NaN</td>\n",
       "      <td>generic/online%3Aen%3AUS%3A2310</td>\n",
       "      <td>Walking Aids &gt; Rollators, &amp; Walkers &gt; Rollators</td>\n",
       "      <td>Health &amp; Beauty &gt; Health Care</td>\n",
       "      <td>NaN</td>\n",
       "      <td>NaN</td>\n",
       "      <td>NaN</td>\n",
       "      <td>NaN</td>\n",
       "      <td>NaN</td>\n",
       "      <td>NaN</td>\n",
       "      <td>8000064C-1434298761</td>\n",
       "      <td>1.450325e+09</td>\n",
       "      <td>NaN</td>\n",
       "      <td>NaN</td>\n",
       "      <td>ROLLATOR,BASIC,STEEL,6\",GREEN</td>\n",
       "      <td>&lt;ul&gt;&lt;li&gt;  Classically designed, value priced&lt;/...</td>\n",
       "      <td>NaN</td>\n",
       "      <td>NaN</td>\n",
       "      <td>NaN</td>\n",
       "      <td>Basic Lightweight Rollators For Adults, With S...</td>\n",
       "      <td>NaN</td>\n",
       "      <td>NaN</td>\n",
       "      <td>NaN</td>\n",
       "      <td>NaN</td>\n",
       "      <td>Basic-Rollators-For-Adults-With-Seat-Green-6-W...</td>\n",
       "      <td>0.0</td>\n",
       "      <td>EA</td>\n",
       "      <td>1 Each / Each</td>\n",
       "      <td>NaN</td>\n",
       "      <td>1 EA</td>\n",
       "      <td>NaN</td>\n",
       "      <td>NaN</td>\n",
       "      <td>NaN</td>\n",
       "      <td>NaN</td>\n",
       "      <td>NaN</td>\n",
       "      <td>NaN</td>\n",
       "      <td>NaN</td>\n",
       "      <td>NaN</td>\n",
       "      <td>NaN</td>\n",
       "      <td>NaN</td>\n",
       "      <td>E0149 +E0156</td>\n",
       "      <td>1.0</td>\n",
       "      <td>NaN</td>\n",
       "      <td>0.0</td>\n",
       "      <td>NaN</td>\n",
       "      <td>136.0</td>\n",
       "      <td>NaN</td>\n",
       "      <td>NaN</td>\n",
       "      <td>NaN</td>\n",
       "      <td>0.0</td>\n",
       "      <td>NaN</td>\n",
       "      <td>NaN</td>\n",
       "      <td>NaN</td>\n",
       "      <td>NaN</td>\n",
       "      <td>24.80</td>\n",
       "      <td>7.50</td>\n",
       "      <td>30.40</td>\n",
       "      <td>NaN</td>\n",
       "      <td>NaN</td>\n",
       "      <td>NaN</td>\n",
       "      <td>NaN</td>\n",
       "      <td>NaN</td>\n",
       "      <td>NaN</td>\n",
       "      <td>NaN</td>\n",
       "      <td>NaN</td>\n",
       "      <td>NaN</td>\n",
       "      <td>NaN</td>\n",
       "      <td>PF61071</td>\n",
       "      <td>0.0</td>\n",
       "      <td>NaN</td>\n",
       "    </tr>\n",
       "    <tr>\n",
       "      <th>1</th>\n",
       "      <td>177.0</td>\n",
       "      <td>1.0</td>\n",
       "      <td>NaN</td>\n",
       "      <td>sub-product-detail.html</td>\n",
       "      <td>1.0</td>\n",
       "      <td>3.0</td>\n",
       "      <td>Urinary Drain Bags</td>\n",
       "      <td>Urinary Drain Bags</td>\n",
       "      <td>NaN</td>\n",
       "      <td>14.41</td>\n",
       "      <td>10.29</td>\n",
       "      <td>5.0</td>\n",
       "      <td>1.87</td>\n",
       "      <td>65.0</td>\n",
       "      <td>NaN</td>\n",
       "      <td>NaN</td>\n",
       "      <td>1.462370e+09</td>\n",
       "      <td>1.0</td>\n",
       "      <td>1.008020e+13</td>\n",
       "      <td>MEDLINE</td>\n",
       "      <td>DYNC1674H</td>\n",
       "      <td>NaN</td>\n",
       "      <td>NaN</td>\n",
       "      <td>NaN</td>\n",
       "      <td>62.0</td>\n",
       "      <td>B000QF7Y76</td>\n",
       "      <td>NaN</td>\n",
       "      <td>health-care-products</td>\n",
       "      <td>NaN</td>\n",
       "      <td>NaN</td>\n",
       "      <td>Incontinence, Urology &amp; Ostomy &gt; Urology &gt; Dra...</td>\n",
       "      <td>Health &amp; Beauty &gt; Health Care</td>\n",
       "      <td>NaN</td>\n",
       "      <td>199.0</td>\n",
       "      <td>Miscellaneous</td>\n",
       "      <td>Health &amp; Beauty &gt; Medical Supplies &gt; Medical Aids</td>\n",
       "      <td>22005.0</td>\n",
       "      <td>Health &amp; Beauty &gt; Medical Supplies &gt; Medical Aids</td>\n",
       "      <td>80008C35-1438901283</td>\n",
       "      <td>1.450322e+09</td>\n",
       "      <td>NaN</td>\n",
       "      <td>NaN</td>\n",
       "      <td>BAG,DRAINAGE,UROLOGY,2000ML,ANTI REFLUX</td>\n",
       "      <td>&lt;ul&gt;&lt;li&gt;  Only Medline drain bags have a slide...</td>\n",
       "      <td>NaN</td>\n",
       "      <td>NaN</td>\n",
       "      <td>NaN</td>\n",
       "      <td>Urinary Drain Bags | MEDLINE - DYNC1674H</td>\n",
       "      <td>NaN</td>\n",
       "      <td>NaN</td>\n",
       "      <td>NaN</td>\n",
       "      <td>NaN</td>\n",
       "      <td>Urinary-Drain-Bags0000</td>\n",
       "      <td>0.0</td>\n",
       "      <td>EA</td>\n",
       "      <td>1 Each / Each</td>\n",
       "      <td>NaN</td>\n",
       "      <td>1 EA</td>\n",
       "      <td>NaN</td>\n",
       "      <td>NaN</td>\n",
       "      <td>NaN</td>\n",
       "      <td>Rx</td>\n",
       "      <td>Yes</td>\n",
       "      <td>NaN</td>\n",
       "      <td>NaN</td>\n",
       "      <td>NaN</td>\n",
       "      <td>https://medline360.medline.com:443/irj/servlet...</td>\n",
       "      <td>508f2d75-582e-2e10-2eab-d83980a9b1d0</td>\n",
       "      <td>A4357</td>\n",
       "      <td>1.0</td>\n",
       "      <td>NaN</td>\n",
       "      <td>0.0</td>\n",
       "      <td>OFF sale cause it is an RX item</td>\n",
       "      <td>0.0</td>\n",
       "      <td>NaN</td>\n",
       "      <td>NaN</td>\n",
       "      <td>NaN</td>\n",
       "      <td>0.0</td>\n",
       "      <td>NaN</td>\n",
       "      <td>NaN</td>\n",
       "      <td>NaN</td>\n",
       "      <td>NaN</td>\n",
       "      <td>8.00</td>\n",
       "      <td>7.00</td>\n",
       "      <td>1.50</td>\n",
       "      <td>NaN</td>\n",
       "      <td>NaN</td>\n",
       "      <td>NaN</td>\n",
       "      <td>NaN</td>\n",
       "      <td>NaN</td>\n",
       "      <td>NaN</td>\n",
       "      <td>NaN</td>\n",
       "      <td>NaN</td>\n",
       "      <td>NaN</td>\n",
       "      <td>NaN</td>\n",
       "      <td>PF02132</td>\n",
       "      <td>NaN</td>\n",
       "      <td>NaN</td>\n",
       "    </tr>\n",
       "    <tr>\n",
       "      <th>2</th>\n",
       "      <td>1.0</td>\n",
       "      <td>0.0</td>\n",
       "      <td>NaN</td>\n",
       "      <td>sub-product-detail.html</td>\n",
       "      <td>1.0</td>\n",
       "      <td>3.0</td>\n",
       "      <td>SensiCare Nitrile Exam Gloves,Blue,XX-Large</td>\n",
       "      <td>SensiCare Nitrile Exam Gloves, Blue, XX-Large</td>\n",
       "      <td>NaN</td>\n",
       "      <td>96.29</td>\n",
       "      <td>68.78</td>\n",
       "      <td>NaN</td>\n",
       "      <td>52.50</td>\n",
       "      <td>32896.0</td>\n",
       "      <td>NaN</td>\n",
       "      <td>NaN</td>\n",
       "      <td>1.463163e+09</td>\n",
       "      <td>1.0</td>\n",
       "      <td>4.008020e+13</td>\n",
       "      <td>MEDLINE</td>\n",
       "      <td>484805</td>\n",
       "      <td>NaN</td>\n",
       "      <td>Blue</td>\n",
       "      <td>NaN</td>\n",
       "      <td>62.0</td>\n",
       "      <td>B002209AOI</td>\n",
       "      <td>NaN</td>\n",
       "      <td>health-care-products</td>\n",
       "      <td>NaN</td>\n",
       "      <td>generic/online%3Aen%3AUS%3A1</td>\n",
       "      <td>Apparel &gt; Gloves &gt; Nonsterile PF LF Synthetic ...</td>\n",
       "      <td>Health &amp; Beauty &gt; Health Care</td>\n",
       "      <td>NaN</td>\n",
       "      <td>199.0</td>\n",
       "      <td>Miscellaneous</td>\n",
       "      <td>Health &amp; Beauty &gt; Medical Supplies &gt; Medical Aids</td>\n",
       "      <td>22005.0</td>\n",
       "      <td>Health &amp; Beauty &gt; Medical Supplies &gt; Medical Aids</td>\n",
       "      <td>800087BB-1438898332</td>\n",
       "      <td>1.450321e+09</td>\n",
       "      <td>NaN</td>\n",
       "      <td>NaN</td>\n",
       "      <td>GLOVE,EXAM,NITRILE,BLUE,FINGRTIP,TXT,XXL</td>\n",
       "      <td>&lt;ul&gt;&lt;li&gt; SensiCare&amp;reg; nitrile exam gloves fe...</td>\n",
       "      <td>NaN</td>\n",
       "      <td>NaN</td>\n",
       "      <td>NaN</td>\n",
       "      <td>Nitrile Exam Gloves, Blue, XX-Large | MEDLINE ...</td>\n",
       "      <td>NaN</td>\n",
       "      <td>NaN</td>\n",
       "      <td>NaN</td>\n",
       "      <td>NaN</td>\n",
       "      <td>SensiCare-Nitrile-Exam-GlovesBlueXX-Large</td>\n",
       "      <td>0.0</td>\n",
       "      <td>CS</td>\n",
       "      <td>800 Each / Case</td>\n",
       "      <td>NaN</td>\n",
       "      <td>1 CS</td>\n",
       "      <td>NaN</td>\n",
       "      <td>NaN</td>\n",
       "      <td>NaN</td>\n",
       "      <td>NaN</td>\n",
       "      <td>NaN</td>\n",
       "      <td>NaN</td>\n",
       "      <td>NaN</td>\n",
       "      <td>NaN</td>\n",
       "      <td>NaN</td>\n",
       "      <td>NaN</td>\n",
       "      <td>NO GOVERNMENT OR SUPPLIER HCPCS CODE VERIFICATION</td>\n",
       "      <td>800.0</td>\n",
       "      <td>NaN</td>\n",
       "      <td>0.0</td>\n",
       "      <td>NaN</td>\n",
       "      <td>NaN</td>\n",
       "      <td>NaN</td>\n",
       "      <td>NaN</td>\n",
       "      <td>NaN</td>\n",
       "      <td>NaN</td>\n",
       "      <td>NaN</td>\n",
       "      <td>NaN</td>\n",
       "      <td>NaN</td>\n",
       "      <td>NaN</td>\n",
       "      <td>13.23</td>\n",
       "      <td>10.04</td>\n",
       "      <td>10.24</td>\n",
       "      <td>NaN</td>\n",
       "      <td>NaN</td>\n",
       "      <td>NaN</td>\n",
       "      <td>NaN</td>\n",
       "      <td>NaN</td>\n",
       "      <td>2 x Extra large</td>\n",
       "      <td>Nitrile</td>\n",
       "      <td>NaN</td>\n",
       "      <td>NaN</td>\n",
       "      <td>NaN</td>\n",
       "      <td>PF00342</td>\n",
       "      <td>0.0</td>\n",
       "      <td>NaN</td>\n",
       "    </tr>\n",
       "    <tr>\n",
       "      <th>3</th>\n",
       "      <td>983.0</td>\n",
       "      <td>0.0</td>\n",
       "      <td>NaN</td>\n",
       "      <td>sub-product-detail.html</td>\n",
       "      <td>1.0</td>\n",
       "      <td>3.0</td>\n",
       "      <td>Basket for 2-Button Walkers</td>\n",
       "      <td>Basket for 2-Button Walkers</td>\n",
       "      <td>NaN</td>\n",
       "      <td>27.38</td>\n",
       "      <td>19.56</td>\n",
       "      <td>NaN</td>\n",
       "      <td>12.62</td>\n",
       "      <td>0.0</td>\n",
       "      <td>NaN</td>\n",
       "      <td>NaN</td>\n",
       "      <td>1.462595e+09</td>\n",
       "      <td>1.0</td>\n",
       "      <td>NaN</td>\n",
       "      <td>MEDLINE</td>\n",
       "      <td>MDS86615KH</td>\n",
       "      <td>NaN</td>\n",
       "      <td>NaN</td>\n",
       "      <td>NaN</td>\n",
       "      <td>62.0</td>\n",
       "      <td>B00083DG00</td>\n",
       "      <td>NaN</td>\n",
       "      <td>health-care-products</td>\n",
       "      <td>NaN</td>\n",
       "      <td>NaN</td>\n",
       "      <td>Walking Aids &gt; Rollators, &amp; Walkers &gt; Walkers ...</td>\n",
       "      <td>Health &amp; Beauty &gt; Health Care</td>\n",
       "      <td>NaN</td>\n",
       "      <td>199.0</td>\n",
       "      <td>Miscellaneous</td>\n",
       "      <td>Health &amp; Beauty &gt; Medical Supplies &gt; Medical Aids</td>\n",
       "      <td>22005.0</td>\n",
       "      <td>Health &amp; Beauty &gt; Medical Supplies &gt; Medical Aids</td>\n",
       "      <td>8000065E-1434298780</td>\n",
       "      <td>1.450323e+09</td>\n",
       "      <td>NaN</td>\n",
       "      <td>NaN</td>\n",
       "      <td>BASKET,WALKER,FOR 2 BUTTON WALK</td>\n",
       "      <td>&lt;ul&gt;&lt;li&gt; This wire basket attaches to almost a...</td>\n",
       "      <td>NaN</td>\n",
       "      <td>NaN</td>\n",
       "      <td>NaN</td>\n",
       "      <td>Basket for 2-Button Walkers | MEDLINE - MDS866...</td>\n",
       "      <td>NaN</td>\n",
       "      <td>NaN</td>\n",
       "      <td>NaN</td>\n",
       "      <td>NaN</td>\n",
       "      <td>Basket-for-2-Button-Walkers-2</td>\n",
       "      <td>0.0</td>\n",
       "      <td>EA</td>\n",
       "      <td>1 Each / Each</td>\n",
       "      <td>NaN</td>\n",
       "      <td>1 EA</td>\n",
       "      <td>NaN</td>\n",
       "      <td>NaN</td>\n",
       "      <td>NaN</td>\n",
       "      <td>NaN</td>\n",
       "      <td>Yes</td>\n",
       "      <td>8.019675e+10</td>\n",
       "      <td>NaN</td>\n",
       "      <td>NaN</td>\n",
       "      <td>NaN</td>\n",
       "      <td>NaN</td>\n",
       "      <td>A9270</td>\n",
       "      <td>1.0</td>\n",
       "      <td>NaN</td>\n",
       "      <td>0.0</td>\n",
       "      <td>NaN</td>\n",
       "      <td>NaN</td>\n",
       "      <td>NaN</td>\n",
       "      <td>NaN</td>\n",
       "      <td>NaN</td>\n",
       "      <td>NaN</td>\n",
       "      <td>NaN</td>\n",
       "      <td>NaN</td>\n",
       "      <td>NaN</td>\n",
       "      <td>NaN</td>\n",
       "      <td>10.60</td>\n",
       "      <td>7.80</td>\n",
       "      <td>18.50</td>\n",
       "      <td>NaN</td>\n",
       "      <td>NaN</td>\n",
       "      <td>NaN</td>\n",
       "      <td>NaN</td>\n",
       "      <td>NaN</td>\n",
       "      <td>NaN</td>\n",
       "      <td>NaN</td>\n",
       "      <td>NaN</td>\n",
       "      <td>NaN</td>\n",
       "      <td>NaN</td>\n",
       "      <td>PF04970</td>\n",
       "      <td>NaN</td>\n",
       "      <td>NaN</td>\n",
       "    </tr>\n",
       "    <tr>\n",
       "      <th>4</th>\n",
       "      <td>991.0</td>\n",
       "      <td>1.0</td>\n",
       "      <td>NaN</td>\n",
       "      <td>sub-product-detail.html</td>\n",
       "      <td>1.0</td>\n",
       "      <td>3.0</td>\n",
       "      <td>TENS 3000 Analog Unit</td>\n",
       "      <td>TENS 3000 Analog Unit</td>\n",
       "      <td>NaN</td>\n",
       "      <td>50.47</td>\n",
       "      <td>36.05</td>\n",
       "      <td>NaN</td>\n",
       "      <td>25.75</td>\n",
       "      <td>0.0</td>\n",
       "      <td>NaN</td>\n",
       "      <td>NaN</td>\n",
       "      <td>1.462370e+09</td>\n",
       "      <td>1.0</td>\n",
       "      <td>NaN</td>\n",
       "      <td>ROSCOE MEDICAL INC</td>\n",
       "      <td>MDS86710</td>\n",
       "      <td>NaN</td>\n",
       "      <td>NaN</td>\n",
       "      <td>NaN</td>\n",
       "      <td>62.0</td>\n",
       "      <td>NaN</td>\n",
       "      <td>NaN</td>\n",
       "      <td>health-care-products</td>\n",
       "      <td>NaN</td>\n",
       "      <td>NaN</td>\n",
       "      <td>Physical Therapy &gt; Electronic Muscle Stimulation</td>\n",
       "      <td>Health &amp; Beauty &gt; Health Care</td>\n",
       "      <td>NaN</td>\n",
       "      <td>199.0</td>\n",
       "      <td>Miscellaneous</td>\n",
       "      <td>Health &amp; Beauty &gt; Medical Supplies &gt; Medical Aids</td>\n",
       "      <td>22005.0</td>\n",
       "      <td>Health &amp; Beauty &gt; Medical Supplies &gt; Medical Aids</td>\n",
       "      <td>80008B12-1438900627</td>\n",
       "      <td>1.450323e+09</td>\n",
       "      <td>NaN</td>\n",
       "      <td>NaN</td>\n",
       "      <td>DEVICE,TENS UNIT,TENS 1000,DUAL CH</td>\n",
       "      <td>&lt;ul&gt;&lt;li&gt; The TENS 3000&lt;sup&gt;TM&lt;/sup&gt; analog uni...</td>\n",
       "      <td>NaN</td>\n",
       "      <td>NaN</td>\n",
       "      <td>NaN</td>\n",
       "      <td>TENS 3000 Analog Unit | ROSCOE MEDICAL INC - M...</td>\n",
       "      <td>NaN</td>\n",
       "      <td>NaN</td>\n",
       "      <td>NaN</td>\n",
       "      <td>NaN</td>\n",
       "      <td>Tens-Units</td>\n",
       "      <td>0.0</td>\n",
       "      <td>EA</td>\n",
       "      <td>1 Each / Each</td>\n",
       "      <td>NaN</td>\n",
       "      <td>1 EA</td>\n",
       "      <td>NaN</td>\n",
       "      <td>NaN</td>\n",
       "      <td>NaN</td>\n",
       "      <td>Rx</td>\n",
       "      <td>NaN</td>\n",
       "      <td>NaN</td>\n",
       "      <td>NaN</td>\n",
       "      <td>NaN</td>\n",
       "      <td>NaN</td>\n",
       "      <td>NaN</td>\n",
       "      <td>E0730</td>\n",
       "      <td>1.0</td>\n",
       "      <td>NaN</td>\n",
       "      <td>0.0</td>\n",
       "      <td>OFF sale cause it is an RX item</td>\n",
       "      <td>NaN</td>\n",
       "      <td>NaN</td>\n",
       "      <td>NaN</td>\n",
       "      <td>NaN</td>\n",
       "      <td>NaN</td>\n",
       "      <td>NaN</td>\n",
       "      <td>NaN</td>\n",
       "      <td>NaN</td>\n",
       "      <td>NaN</td>\n",
       "      <td>8.50</td>\n",
       "      <td>2.75</td>\n",
       "      <td>12.00</td>\n",
       "      <td>NaN</td>\n",
       "      <td>NaN</td>\n",
       "      <td>NaN</td>\n",
       "      <td>NaN</td>\n",
       "      <td>NaN</td>\n",
       "      <td>NaN</td>\n",
       "      <td>NaN</td>\n",
       "      <td>NaN</td>\n",
       "      <td>NaN</td>\n",
       "      <td>NaN</td>\n",
       "      <td>PF03045</td>\n",
       "      <td>NaN</td>\n",
       "      <td>NaN</td>\n",
       "    </tr>\n",
       "  </tbody>\n",
       "</table>\n",
       "</div>"
      ],
      "text/plain": [
       "       id  status  product_type                 template  vendor  import_id  \\\n",
       "0  2310.0     0.0           NaN  sub-product-detail.html     1.0        3.0   \n",
       "1   177.0     1.0           NaN  sub-product-detail.html     1.0        3.0   \n",
       "2     1.0     0.0           NaN  sub-product-detail.html     1.0        3.0   \n",
       "3   983.0     0.0           NaN  sub-product-detail.html     1.0        3.0   \n",
       "4   991.0     1.0           NaN  sub-product-detail.html     1.0        3.0   \n",
       "\n",
       "                                          name  \\\n",
       "0                  Basic Steel Rollators,Green   \n",
       "1                           Urinary Drain Bags   \n",
       "2  SensiCare Nitrile Exam Gloves,Blue,XX-Large   \n",
       "3                  Basket for 2-Button Walkers   \n",
       "4                        TENS 3000 Analog Unit   \n",
       "\n",
       "                                        display_name  menu_name  list_price  \\\n",
       "0  Basic Lightweight Rollators For Adults, With S...        NaN       80.70   \n",
       "1                                 Urinary Drain Bags        NaN       14.41   \n",
       "2      SensiCare Nitrile Exam Gloves, Blue, XX-Large        NaN       96.29   \n",
       "3                        Basket for 2-Button Walkers        NaN       27.38   \n",
       "4                              TENS 3000 Analog Unit        NaN       50.47   \n",
       "\n",
       "   price  sale_price   cost    flags  left_flag  right_flag  last_modified  \\\n",
       "0  57.64         NaN  44.00      0.0        NaN         NaN   1.463163e+09   \n",
       "1  10.29         5.0   1.87     65.0        NaN         NaN   1.462370e+09   \n",
       "2  68.78         NaN  52.50  32896.0        NaN         NaN   1.463163e+09   \n",
       "3  19.56         NaN  12.62      0.0        NaN         NaN   1.462595e+09   \n",
       "4  36.05         NaN  25.75      0.0        NaN         NaN   1.462370e+09   \n",
       "\n",
       "   taxable  shopping_gtin      shopping_brand shopping_mpn shopping_gender  \\\n",
       "0      1.0   1.088440e+13             MEDLINE  MDS86850EGS             NaN   \n",
       "1      1.0   1.008020e+13             MEDLINE    DYNC1674H             NaN   \n",
       "2      1.0   4.008020e+13             MEDLINE       484805             NaN   \n",
       "3      1.0            NaN             MEDLINE   MDS86615KH             NaN   \n",
       "4      1.0            NaN  ROSCOE MEDICAL INC     MDS86710             NaN   \n",
       "\n",
       "  shopping_color shopping_age  shopping_flags amazon_asin  amazon_type  \\\n",
       "0          Green          NaN            62.0  B00I6GQE0A          NaN   \n",
       "1            NaN          NaN            62.0  B000QF7Y76          NaN   \n",
       "2           Blue          NaN            62.0  B002209AOI          NaN   \n",
       "3            NaN          NaN            62.0  B00083DG00          NaN   \n",
       "4            NaN          NaN            62.0         NaN          NaN   \n",
       "\n",
       "       amazon_item_type  amazon_price               google_shopping_id  \\\n",
       "0  health-care-products           NaN  generic/online%3Aen%3AUS%3A2310   \n",
       "1  health-care-products           NaN                              NaN   \n",
       "2  health-care-products           NaN     generic/online%3Aen%3AUS%3A1   \n",
       "3  health-care-products           NaN                              NaN   \n",
       "4  health-care-products           NaN                              NaN   \n",
       "\n",
       "                                google_shopping_type  \\\n",
       "0    Walking Aids > Rollators, & Walkers > Rollators   \n",
       "1  Incontinence, Urology & Ostomy > Urology > Dra...   \n",
       "2  Apparel > Gloves > Nonsterile PF LF Synthetic ...   \n",
       "3  Walking Aids > Rollators, & Walkers > Walkers ...   \n",
       "4   Physical Therapy > Electronic Muscle Stimulation   \n",
       "\n",
       "             google_shopping_cat  google_adwords  shopping_cat  shopping_type  \\\n",
       "0  Health & Beauty > Health Care             NaN           NaN            NaN   \n",
       "1  Health & Beauty > Health Care             NaN         199.0  Miscellaneous   \n",
       "2  Health & Beauty > Health Care             NaN         199.0  Miscellaneous   \n",
       "3  Health & Beauty > Health Care             NaN         199.0  Miscellaneous   \n",
       "4  Health & Beauty > Health Care             NaN         199.0  Miscellaneous   \n",
       "\n",
       "                                    pricegrabber_cat  shopzilla_cat  \\\n",
       "0                                                NaN            NaN   \n",
       "1  Health & Beauty > Medical Supplies > Medical Aids        22005.0   \n",
       "2  Health & Beauty > Medical Supplies > Medical Aids        22005.0   \n",
       "3  Health & Beauty > Medical Supplies > Medical Aids        22005.0   \n",
       "4  Health & Beauty > Medical Supplies > Medical Aids        22005.0   \n",
       "\n",
       "                                         thefind_cat        quickbooks_id  \\\n",
       "0                                                NaN  8000064C-1434298761   \n",
       "1  Health & Beauty > Medical Supplies > Medical Aids  80008C35-1438901283   \n",
       "2  Health & Beauty > Medical Supplies > Medical Aids  800087BB-1438898332   \n",
       "3  Health & Beauty > Medical Supplies > Medical Aids  8000065E-1434298780   \n",
       "4  Health & Beauty > Medical Supplies > Medical Aids  80008B12-1438900627   \n",
       "\n",
       "   qb_edit_sequence  price_break_type  price_breaks  \\\n",
       "0      1.450325e+09               NaN           NaN   \n",
       "1      1.450322e+09               NaN           NaN   \n",
       "2      1.450321e+09               NaN           NaN   \n",
       "3      1.450323e+09               NaN           NaN   \n",
       "4      1.450323e+09               NaN           NaN   \n",
       "\n",
       "                          short_description  \\\n",
       "0             ROLLATOR,BASIC,STEEL,6\",GREEN   \n",
       "1   BAG,DRAINAGE,UROLOGY,2000ML,ANTI REFLUX   \n",
       "2  GLOVE,EXAM,NITRILE,BLUE,FINGRTIP,TXT,XXL   \n",
       "3           BASKET,WALKER,FOR 2 BUTTON WALK   \n",
       "4        DEVICE,TENS UNIT,TENS 1000,DUAL CH   \n",
       "\n",
       "                                    long_description  websites video  audio  \\\n",
       "0  <ul><li>  Classically designed, value priced</...       NaN   NaN    NaN   \n",
       "1  <ul><li>  Only Medline drain bags have a slide...       NaN   NaN    NaN   \n",
       "2  <ul><li> SensiCare&reg; nitrile exam gloves fe...       NaN   NaN    NaN   \n",
       "3  <ul><li> This wire basket attaches to almost a...       NaN   NaN    NaN   \n",
       "4  <ul><li> The TENS 3000<sup>TM</sup> analog uni...       NaN   NaN    NaN   \n",
       "\n",
       "                                           seo_title seo_description  \\\n",
       "0  Basic Lightweight Rollators For Adults, With S...             NaN   \n",
       "1           Urinary Drain Bags | MEDLINE - DYNC1674H             NaN   \n",
       "2  Nitrile Exam Gloves, Blue, XX-Large | MEDLINE ...             NaN   \n",
       "3  Basket for 2-Button Walkers | MEDLINE - MDS866...             NaN   \n",
       "4  TENS 3000 Analog Unit | ROSCOE MEDICAL INC - M...             NaN   \n",
       "\n",
       "  seo_keywords seo_header  seo_footer  \\\n",
       "0          NaN        NaN         NaN   \n",
       "1          NaN        NaN         NaN   \n",
       "2          NaN        NaN         NaN   \n",
       "3          NaN        NaN         NaN   \n",
       "4          NaN        NaN         NaN   \n",
       "\n",
       "                                             seo_url  seo_category unit  \\\n",
       "0  Basic-Rollators-For-Adults-With-Seat-Green-6-W...           0.0   EA   \n",
       "1                             Urinary-Drain-Bags0000           0.0   EA   \n",
       "2          SensiCare-Nitrile-Exam-GlovesBlueXX-Large           0.0   CS   \n",
       "3                      Basket-for-2-Button-Walkers-2           0.0   EA   \n",
       "4                                         Tens-Units           0.0   EA   \n",
       "\n",
       "         packaging display_packaging multiple  length  width  height   rx  \\\n",
       "0    1 Each / Each               NaN     1 EA     NaN    NaN     NaN  NaN   \n",
       "1    1 Each / Each               NaN     1 EA     NaN    NaN     NaN   Rx   \n",
       "2  800 Each / Case               NaN     1 CS     NaN    NaN     NaN  NaN   \n",
       "3    1 Each / Each               NaN     1 EA     NaN    NaN     NaN  NaN   \n",
       "4    1 Each / Each               NaN     1 EA     NaN    NaN     NaN   Rx   \n",
       "\n",
       "  latex           upc msds_link msds_label  \\\n",
       "0   NaN           NaN       NaN        NaN   \n",
       "1   Yes           NaN       NaN        NaN   \n",
       "2   NaN           NaN       NaN        NaN   \n",
       "3   Yes  8.019675e+10       NaN        NaN   \n",
       "4   NaN           NaN       NaN        NaN   \n",
       "\n",
       "                                            lit_link  \\\n",
       "0                                                NaN   \n",
       "1  https://medline360.medline.com:443/irj/servlet...   \n",
       "2                                                NaN   \n",
       "3                                                NaN   \n",
       "4                                                NaN   \n",
       "\n",
       "                              lit_label  \\\n",
       "0                                   NaN   \n",
       "1  508f2d75-582e-2e10-2eab-d83980a9b1d0   \n",
       "2                                   NaN   \n",
       "3                                   NaN   \n",
       "4                                   NaN   \n",
       "\n",
       "                                               hcpcs  case_qty  markup  \\\n",
       "0                                       E0149 +E0156       1.0     NaN   \n",
       "1                                              A4357       1.0     NaN   \n",
       "2  NO GOVERNMENT OR SUPPLIER HCPCS CODE VERIFICATION     800.0     NaN   \n",
       "3                                              A9270       1.0     NaN   \n",
       "4                                              E0730       1.0     NaN   \n",
       "\n",
       "   override_markup                            notes  import_flags  map_price  \\\n",
       "0              0.0                              NaN         136.0        NaN   \n",
       "1              0.0  OFF sale cause it is an RX item           0.0        NaN   \n",
       "2              0.0                              NaN           NaN        NaN   \n",
       "3              0.0                              NaN           NaN        NaN   \n",
       "4              0.0  OFF sale cause it is an RX item           NaN        NaN   \n",
       "\n",
       "  features_title warranty  hygienic  default_quantity user_size assembly  \\\n",
       "0            NaN      NaN       0.0               NaN       NaN      NaN   \n",
       "1            NaN      NaN       0.0               NaN       NaN      NaN   \n",
       "2            NaN      NaN       NaN               NaN       NaN      NaN   \n",
       "3            NaN      NaN       NaN               NaN       NaN      NaN   \n",
       "4            NaN      NaN       NaN               NaN       NaN      NaN   \n",
       "\n",
       "  installation  shipping_length  shipping_width  shipping_height  \\\n",
       "0          NaN            24.80            7.50            30.40   \n",
       "1          NaN             8.00            7.00             1.50   \n",
       "2          NaN            13.23           10.04            10.24   \n",
       "3          NaN            10.60            7.80            18.50   \n",
       "4          NaN             8.50            2.75            12.00   \n",
       "\n",
       "   shipping_weight handling_time rotation_link  google_shopping_label  \\\n",
       "0              NaN           NaN           NaN                    NaN   \n",
       "1              NaN           NaN           NaN                    NaN   \n",
       "2              NaN           NaN           NaN                    NaN   \n",
       "3              NaN           NaN           NaN                    NaN   \n",
       "4              NaN           NaN           NaN                    NaN   \n",
       "\n",
       "  product_option             size material arm_style  leg_style seat_size  \\\n",
       "0            NaN              NaN      NaN       NaN        NaN       NaN   \n",
       "1            NaN              NaN      NaN       NaN        NaN       NaN   \n",
       "2            NaN  2 x Extra large  Nitrile       NaN        NaN       NaN   \n",
       "3            NaN              NaN      NaN       NaN        NaN       NaN   \n",
       "4            NaN              NaN      NaN       NaN        NaN       NaN   \n",
       "\n",
       "  family_id  saved_status  freight_cost  \n",
       "0   PF61071           0.0           NaN  \n",
       "1   PF02132           NaN           NaN  \n",
       "2   PF00342           0.0           NaN  \n",
       "3   PF04970           NaN           NaN  \n",
       "4   PF03045           NaN           NaN  "
      ]
     },
     "execution_count": 465,
     "metadata": {},
     "output_type": "execute_result"
    }
   ],
   "source": [
    "products_df.head()"
   ]
  },
  {
   "cell_type": "code",
   "execution_count": 466,
   "metadata": {},
   "outputs": [],
   "source": [
    "products_df = products_df[['id','name','sale_price', 'shopping_brand']]"
   ]
  },
  {
   "cell_type": "code",
   "execution_count": 467,
   "metadata": {},
   "outputs": [
    {
     "data": {
      "text/html": [
       "<div>\n",
       "<style scoped>\n",
       "    .dataframe tbody tr th:only-of-type {\n",
       "        vertical-align: middle;\n",
       "    }\n",
       "\n",
       "    .dataframe tbody tr th {\n",
       "        vertical-align: top;\n",
       "    }\n",
       "\n",
       "    .dataframe thead th {\n",
       "        text-align: right;\n",
       "    }\n",
       "</style>\n",
       "<table border=\"1\" class=\"dataframe\">\n",
       "  <thead>\n",
       "    <tr style=\"text-align: right;\">\n",
       "      <th></th>\n",
       "      <th>id</th>\n",
       "      <th>fname</th>\n",
       "      <th>lname</th>\n",
       "      <th>company</th>\n",
       "    </tr>\n",
       "  </thead>\n",
       "  <tbody>\n",
       "    <tr>\n",
       "      <th>0</th>\n",
       "      <td>b</td>\n",
       "      <td>Christy</td>\n",
       "      <td>Dill</td>\n",
       "      <td>Company0</td>\n",
       "    </tr>\n",
       "    <tr>\n",
       "      <th>1</th>\n",
       "      <td>3</td>\n",
       "      <td>John</td>\n",
       "      <td>Smith</td>\n",
       "      <td>Company1</td>\n",
       "    </tr>\n",
       "    <tr>\n",
       "      <th>2</th>\n",
       "      <td>3</td>\n",
       "      <td>John</td>\n",
       "      <td>Smith</td>\n",
       "      <td>Company1</td>\n",
       "    </tr>\n",
       "    <tr>\n",
       "      <th>3</th>\n",
       "      <td>4</td>\n",
       "      <td>James</td>\n",
       "      <td>Anderson</td>\n",
       "      <td>NaN</td>\n",
       "    </tr>\n",
       "    <tr>\n",
       "      <th>4</th>\n",
       "      <td>5</td>\n",
       "      <td>Abraham</td>\n",
       "      <td>Pollak</td>\n",
       "      <td>Company3</td>\n",
       "    </tr>\n",
       "  </tbody>\n",
       "</table>\n",
       "</div>"
      ],
      "text/plain": [
       "  id    fname     lname   company\n",
       "0  b  Christy      Dill  Company0\n",
       "1  3     John     Smith  Company1\n",
       "2  3     John     Smith  Company1\n",
       "3  4    James  Anderson       NaN\n",
       "4  5  Abraham    Pollak  Company3"
      ]
     },
     "execution_count": 467,
     "metadata": {},
     "output_type": "execute_result"
    }
   ],
   "source": [
    "customers_df.head()"
   ]
  },
  {
   "cell_type": "code",
   "execution_count": 468,
   "metadata": {},
   "outputs": [
    {
     "data": {
      "text/plain": [
       "(4194, 4)"
      ]
     },
     "execution_count": 468,
     "metadata": {},
     "output_type": "execute_result"
    }
   ],
   "source": [
    "customers_df.shape"
   ]
  },
  {
   "cell_type": "code",
   "execution_count": 469,
   "metadata": {},
   "outputs": [
    {
     "data": {
      "text/plain": [
       "(3054, 4)"
      ]
     },
     "execution_count": 469,
     "metadata": {},
     "output_type": "execute_result"
    }
   ],
   "source": [
    "customers_df.drop_duplicates(inplace=True)\n",
    "customers_df.shape"
   ]
  },
  {
   "cell_type": "code",
   "execution_count": 470,
   "metadata": {},
   "outputs": [
    {
     "data": {
      "text/html": [
       "<div>\n",
       "<style scoped>\n",
       "    .dataframe tbody tr th:only-of-type {\n",
       "        vertical-align: middle;\n",
       "    }\n",
       "\n",
       "    .dataframe tbody tr th {\n",
       "        vertical-align: top;\n",
       "    }\n",
       "\n",
       "    .dataframe thead th {\n",
       "        text-align: right;\n",
       "    }\n",
       "</style>\n",
       "<table border=\"1\" class=\"dataframe\">\n",
       "  <thead>\n",
       "    <tr style=\"text-align: right;\">\n",
       "      <th></th>\n",
       "      <th>id</th>\n",
       "      <th>customer_id</th>\n",
       "      <th>currency</th>\n",
       "      <th>subtotal</th>\n",
       "    </tr>\n",
       "  </thead>\n",
       "  <tbody>\n",
       "    <tr>\n",
       "      <th>0</th>\n",
       "      <td>3758</td>\n",
       "      <td>797</td>\n",
       "      <td>USD</td>\n",
       "      <td>57.20</td>\n",
       "    </tr>\n",
       "    <tr>\n",
       "      <th>1</th>\n",
       "      <td>23</td>\n",
       "      <td>3</td>\n",
       "      <td>USD</td>\n",
       "      <td>20.00</td>\n",
       "    </tr>\n",
       "    <tr>\n",
       "      <th>2</th>\n",
       "      <td>9531</td>\n",
       "      <td>3</td>\n",
       "      <td>USD</td>\n",
       "      <td>68.78</td>\n",
       "    </tr>\n",
       "    <tr>\n",
       "      <th>3</th>\n",
       "      <td>29</td>\n",
       "      <td>4</td>\n",
       "      <td>USD</td>\n",
       "      <td>19.56</td>\n",
       "    </tr>\n",
       "    <tr>\n",
       "      <th>4</th>\n",
       "      <td>30</td>\n",
       "      <td>5</td>\n",
       "      <td>USD</td>\n",
       "      <td>36.05</td>\n",
       "    </tr>\n",
       "  </tbody>\n",
       "</table>\n",
       "</div>"
      ],
      "text/plain": [
       "     id  customer_id currency  subtotal\n",
       "0  3758          797      USD     57.20\n",
       "1    23            3      USD     20.00\n",
       "2  9531            3      USD     68.78\n",
       "3    29            4      USD     19.56\n",
       "4    30            5      USD     36.05"
      ]
     },
     "execution_count": 470,
     "metadata": {},
     "output_type": "execute_result"
    }
   ],
   "source": [
    "orders_df.head()"
   ]
  },
  {
   "cell_type": "code",
   "execution_count": 471,
   "metadata": {},
   "outputs": [
    {
     "data": {
      "text/plain": [
       "(4194, 4)"
      ]
     },
     "execution_count": 471,
     "metadata": {},
     "output_type": "execute_result"
    }
   ],
   "source": [
    "orders_df.shape"
   ]
  },
  {
   "cell_type": "code",
   "execution_count": 472,
   "metadata": {},
   "outputs": [
    {
     "data": {
      "text/html": [
       "<div>\n",
       "<style scoped>\n",
       "    .dataframe tbody tr th:only-of-type {\n",
       "        vertical-align: middle;\n",
       "    }\n",
       "\n",
       "    .dataframe tbody tr th {\n",
       "        vertical-align: top;\n",
       "    }\n",
       "\n",
       "    .dataframe thead th {\n",
       "        text-align: right;\n",
       "    }\n",
       "</style>\n",
       "<table border=\"1\" class=\"dataframe\">\n",
       "  <thead>\n",
       "    <tr style=\"text-align: right;\">\n",
       "      <th></th>\n",
       "      <th>id</th>\n",
       "      <th>parent</th>\n",
       "      <th>product_id</th>\n",
       "      <th>qty</th>\n",
       "      <th>price</th>\n",
       "      <th>product_name</th>\n",
       "    </tr>\n",
       "  </thead>\n",
       "  <tbody>\n",
       "    <tr>\n",
       "      <th>0</th>\n",
       "      <td>5284</td>\n",
       "      <td>3758</td>\n",
       "      <td>2310.0</td>\n",
       "      <td>1</td>\n",
       "      <td>57.20</td>\n",
       "      <td>Basic Rollators, Green</td>\n",
       "    </tr>\n",
       "    <tr>\n",
       "      <th>1</th>\n",
       "      <td>31</td>\n",
       "      <td>23</td>\n",
       "      <td>177.0</td>\n",
       "      <td>4</td>\n",
       "      <td>5.00</td>\n",
       "      <td>Urinary Drain Bags,0.000</td>\n",
       "    </tr>\n",
       "    <tr>\n",
       "      <th>2</th>\n",
       "      <td>11655</td>\n",
       "      <td>9531</td>\n",
       "      <td>1.0</td>\n",
       "      <td>1</td>\n",
       "      <td>68.78</td>\n",
       "      <td>SensiCare Nitrile Exam Gloves, Blue, XX-Large</td>\n",
       "    </tr>\n",
       "    <tr>\n",
       "      <th>3</th>\n",
       "      <td>1816</td>\n",
       "      <td>29</td>\n",
       "      <td>983.0</td>\n",
       "      <td>1</td>\n",
       "      <td>19.56</td>\n",
       "      <td>Basket for 2-Button Walkers</td>\n",
       "    </tr>\n",
       "    <tr>\n",
       "      <th>4</th>\n",
       "      <td>40</td>\n",
       "      <td>30</td>\n",
       "      <td>991.0</td>\n",
       "      <td>1</td>\n",
       "      <td>36.05</td>\n",
       "      <td>Tens Units</td>\n",
       "    </tr>\n",
       "  </tbody>\n",
       "</table>\n",
       "</div>"
      ],
      "text/plain": [
       "      id  parent  product_id  qty  price  \\\n",
       "0   5284    3758      2310.0    1  57.20   \n",
       "1     31      23       177.0    4   5.00   \n",
       "2  11655    9531         1.0    1  68.78   \n",
       "3   1816      29       983.0    1  19.56   \n",
       "4     40      30       991.0    1  36.05   \n",
       "\n",
       "                                    product_name  \n",
       "0                         Basic Rollators, Green  \n",
       "1                       Urinary Drain Bags,0.000  \n",
       "2  SensiCare Nitrile Exam Gloves, Blue, XX-Large  \n",
       "3                    Basket for 2-Button Walkers  \n",
       "4                                     Tens Units  "
      ]
     },
     "execution_count": 472,
     "metadata": {},
     "output_type": "execute_result"
    }
   ],
   "source": [
    "order_items_df.head()"
   ]
  },
  {
   "cell_type": "code",
   "execution_count": 473,
   "metadata": {},
   "outputs": [
    {
     "data": {
      "text/plain": [
       "(4194, 6)"
      ]
     },
     "execution_count": 473,
     "metadata": {},
     "output_type": "execute_result"
    }
   ],
   "source": [
    "order_items_df.shape"
   ]
  },
  {
   "cell_type": "code",
   "execution_count": 474,
   "metadata": {},
   "outputs": [
    {
     "data": {
      "text/html": [
       "<div>\n",
       "<style scoped>\n",
       "    .dataframe tbody tr th:only-of-type {\n",
       "        vertical-align: middle;\n",
       "    }\n",
       "\n",
       "    .dataframe tbody tr th {\n",
       "        vertical-align: top;\n",
       "    }\n",
       "\n",
       "    .dataframe thead th {\n",
       "        text-align: right;\n",
       "    }\n",
       "</style>\n",
       "<table border=\"1\" class=\"dataframe\">\n",
       "  <thead>\n",
       "    <tr style=\"text-align: right;\">\n",
       "      <th></th>\n",
       "      <th>id</th>\n",
       "      <th>name</th>\n",
       "      <th>sale_price</th>\n",
       "      <th>shopping_brand</th>\n",
       "    </tr>\n",
       "  </thead>\n",
       "  <tbody>\n",
       "    <tr>\n",
       "      <th>0</th>\n",
       "      <td>2310.0</td>\n",
       "      <td>Basic Steel Rollators,Green</td>\n",
       "      <td>NaN</td>\n",
       "      <td>MEDLINE</td>\n",
       "    </tr>\n",
       "    <tr>\n",
       "      <th>1</th>\n",
       "      <td>177.0</td>\n",
       "      <td>Urinary Drain Bags</td>\n",
       "      <td>5.0</td>\n",
       "      <td>MEDLINE</td>\n",
       "    </tr>\n",
       "    <tr>\n",
       "      <th>2</th>\n",
       "      <td>1.0</td>\n",
       "      <td>SensiCare Nitrile Exam Gloves,Blue,XX-Large</td>\n",
       "      <td>NaN</td>\n",
       "      <td>MEDLINE</td>\n",
       "    </tr>\n",
       "    <tr>\n",
       "      <th>3</th>\n",
       "      <td>983.0</td>\n",
       "      <td>Basket for 2-Button Walkers</td>\n",
       "      <td>NaN</td>\n",
       "      <td>MEDLINE</td>\n",
       "    </tr>\n",
       "    <tr>\n",
       "      <th>4</th>\n",
       "      <td>991.0</td>\n",
       "      <td>TENS 3000 Analog Unit</td>\n",
       "      <td>NaN</td>\n",
       "      <td>ROSCOE MEDICAL INC</td>\n",
       "    </tr>\n",
       "  </tbody>\n",
       "</table>\n",
       "</div>"
      ],
      "text/plain": [
       "       id                                         name  sale_price  \\\n",
       "0  2310.0                  Basic Steel Rollators,Green         NaN   \n",
       "1   177.0                           Urinary Drain Bags         5.0   \n",
       "2     1.0  SensiCare Nitrile Exam Gloves,Blue,XX-Large         NaN   \n",
       "3   983.0                  Basket for 2-Button Walkers         NaN   \n",
       "4   991.0                        TENS 3000 Analog Unit         NaN   \n",
       "\n",
       "       shopping_brand  \n",
       "0             MEDLINE  \n",
       "1             MEDLINE  \n",
       "2             MEDLINE  \n",
       "3             MEDLINE  \n",
       "4  ROSCOE MEDICAL INC  "
      ]
     },
     "execution_count": 474,
     "metadata": {},
     "output_type": "execute_result"
    }
   ],
   "source": [
    "products_df.head()"
   ]
  },
  {
   "cell_type": "code",
   "execution_count": 475,
   "metadata": {},
   "outputs": [
    {
     "data": {
      "text/plain": [
       "(4194, 4)"
      ]
     },
     "execution_count": 475,
     "metadata": {},
     "output_type": "execute_result"
    }
   ],
   "source": [
    "products_df.shape"
   ]
  },
  {
   "cell_type": "code",
   "execution_count": 476,
   "metadata": {},
   "outputs": [
    {
     "data": {
      "text/plain": [
       "(1711, 4)"
      ]
     },
     "execution_count": 476,
     "metadata": {},
     "output_type": "execute_result"
    }
   ],
   "source": [
    "products_df.drop_duplicates(inplace=True)\n",
    "products_df.shape"
   ]
  },
  {
   "cell_type": "markdown",
   "metadata": {},
   "source": [
    "## Sales DataFrame"
   ]
  },
  {
   "cell_type": "code",
   "execution_count": 477,
   "metadata": {},
   "outputs": [],
   "source": [
    "sales_df = df[['Orders.id', 'Customers.id', 'Customers.company', 'Orders.currency', 'Orders.subtotal', 'Order_Items.product_id', 'Order_Items.qty', 'Order_Items.price','Products.name', 'Products.shopping_brand']]"
   ]
  },
  {
   "cell_type": "code",
   "execution_count": 478,
   "metadata": {},
   "outputs": [
    {
     "data": {
      "text/html": [
       "<div>\n",
       "<style scoped>\n",
       "    .dataframe tbody tr th:only-of-type {\n",
       "        vertical-align: middle;\n",
       "    }\n",
       "\n",
       "    .dataframe tbody tr th {\n",
       "        vertical-align: top;\n",
       "    }\n",
       "\n",
       "    .dataframe thead th {\n",
       "        text-align: right;\n",
       "    }\n",
       "</style>\n",
       "<table border=\"1\" class=\"dataframe\">\n",
       "  <thead>\n",
       "    <tr style=\"text-align: right;\">\n",
       "      <th></th>\n",
       "      <th>Orders.id</th>\n",
       "      <th>Customers.id</th>\n",
       "      <th>Customers.company</th>\n",
       "      <th>Orders.currency</th>\n",
       "      <th>Orders.subtotal</th>\n",
       "      <th>Order_Items.product_id</th>\n",
       "      <th>Order_Items.qty</th>\n",
       "      <th>Order_Items.price</th>\n",
       "      <th>Products.name</th>\n",
       "      <th>Products.shopping_brand</th>\n",
       "    </tr>\n",
       "  </thead>\n",
       "  <tbody>\n",
       "    <tr>\n",
       "      <th>0</th>\n",
       "      <td>3758</td>\n",
       "      <td>b</td>\n",
       "      <td>Company0</td>\n",
       "      <td>USD</td>\n",
       "      <td>57.20</td>\n",
       "      <td>2310.0</td>\n",
       "      <td>1</td>\n",
       "      <td>57.20</td>\n",
       "      <td>Basic Steel Rollators,Green</td>\n",
       "      <td>MEDLINE</td>\n",
       "    </tr>\n",
       "    <tr>\n",
       "      <th>1</th>\n",
       "      <td>23</td>\n",
       "      <td>3</td>\n",
       "      <td>Company1</td>\n",
       "      <td>USD</td>\n",
       "      <td>20.00</td>\n",
       "      <td>177.0</td>\n",
       "      <td>4</td>\n",
       "      <td>5.00</td>\n",
       "      <td>Urinary Drain Bags</td>\n",
       "      <td>MEDLINE</td>\n",
       "    </tr>\n",
       "    <tr>\n",
       "      <th>2</th>\n",
       "      <td>9531</td>\n",
       "      <td>3</td>\n",
       "      <td>Company1</td>\n",
       "      <td>USD</td>\n",
       "      <td>68.78</td>\n",
       "      <td>1.0</td>\n",
       "      <td>1</td>\n",
       "      <td>68.78</td>\n",
       "      <td>SensiCare Nitrile Exam Gloves,Blue,XX-Large</td>\n",
       "      <td>MEDLINE</td>\n",
       "    </tr>\n",
       "    <tr>\n",
       "      <th>3</th>\n",
       "      <td>29</td>\n",
       "      <td>4</td>\n",
       "      <td>NaN</td>\n",
       "      <td>USD</td>\n",
       "      <td>19.56</td>\n",
       "      <td>983.0</td>\n",
       "      <td>1</td>\n",
       "      <td>19.56</td>\n",
       "      <td>Basket for 2-Button Walkers</td>\n",
       "      <td>MEDLINE</td>\n",
       "    </tr>\n",
       "    <tr>\n",
       "      <th>4</th>\n",
       "      <td>30</td>\n",
       "      <td>5</td>\n",
       "      <td>Company3</td>\n",
       "      <td>USD</td>\n",
       "      <td>36.05</td>\n",
       "      <td>991.0</td>\n",
       "      <td>1</td>\n",
       "      <td>36.05</td>\n",
       "      <td>TENS 3000 Analog Unit</td>\n",
       "      <td>ROSCOE MEDICAL INC</td>\n",
       "    </tr>\n",
       "  </tbody>\n",
       "</table>\n",
       "</div>"
      ],
      "text/plain": [
       "   Orders.id Customers.id Customers.company Orders.currency  Orders.subtotal  \\\n",
       "0       3758            b          Company0             USD            57.20   \n",
       "1         23            3          Company1             USD            20.00   \n",
       "2       9531            3          Company1             USD            68.78   \n",
       "3         29            4               NaN             USD            19.56   \n",
       "4         30            5          Company3             USD            36.05   \n",
       "\n",
       "   Order_Items.product_id  Order_Items.qty  Order_Items.price  \\\n",
       "0                  2310.0                1              57.20   \n",
       "1                   177.0                4               5.00   \n",
       "2                     1.0                1              68.78   \n",
       "3                   983.0                1              19.56   \n",
       "4                   991.0                1              36.05   \n",
       "\n",
       "                                 Products.name Products.shopping_brand  \n",
       "0                  Basic Steel Rollators,Green                 MEDLINE  \n",
       "1                           Urinary Drain Bags                 MEDLINE  \n",
       "2  SensiCare Nitrile Exam Gloves,Blue,XX-Large                 MEDLINE  \n",
       "3                  Basket for 2-Button Walkers                 MEDLINE  \n",
       "4                        TENS 3000 Analog Unit      ROSCOE MEDICAL INC  "
      ]
     },
     "execution_count": 478,
     "metadata": {},
     "output_type": "execute_result"
    }
   ],
   "source": [
    "sales_df.head()"
   ]
  },
  {
   "cell_type": "code",
   "execution_count": 479,
   "metadata": {},
   "outputs": [
    {
     "data": {
      "text/plain": [
       "Orders.id                     0\n",
       "Customers.id                  0\n",
       "Customers.company          3467\n",
       "Orders.currency               0\n",
       "Orders.subtotal               0\n",
       "Order_Items.product_id       43\n",
       "Order_Items.qty               0\n",
       "Order_Items.price             0\n",
       "Products.name               157\n",
       "Products.shopping_brand     162\n",
       "dtype: int64"
      ]
     },
     "execution_count": 479,
     "metadata": {},
     "output_type": "execute_result"
    }
   ],
   "source": [
    "sales_df.isnull().sum()"
   ]
  },
  {
   "cell_type": "code",
   "execution_count": 480,
   "metadata": {},
   "outputs": [],
   "source": [
    "sales_df = sales_df[sales_df['Order_Items.product_id'].notnull()]"
   ]
  },
  {
   "cell_type": "code",
   "execution_count": 481,
   "metadata": {},
   "outputs": [
    {
     "data": {
      "text/plain": [
       "Orders.id                     0\n",
       "Customers.id                  0\n",
       "Customers.company          3432\n",
       "Orders.currency               0\n",
       "Orders.subtotal               0\n",
       "Order_Items.product_id        0\n",
       "Order_Items.qty               0\n",
       "Order_Items.price             0\n",
       "Products.name               114\n",
       "Products.shopping_brand     119\n",
       "dtype: int64"
      ]
     },
     "execution_count": 481,
     "metadata": {},
     "output_type": "execute_result"
    }
   ],
   "source": [
    "sales_df.isnull().sum()    "
   ]
  },
  {
   "cell_type": "markdown",
   "metadata": {},
   "source": [
    "## Popularity Based Recommendation System"
   ]
  },
  {
   "cell_type": "code",
   "execution_count": 482,
   "metadata": {},
   "outputs": [],
   "source": [
    "popularity_df = sales_df.groupby('Order_Items.product_id').agg({\n",
    "    'Order_Items.qty': 'sum',\n",
    "    'Orders.subtotal': 'sum',\n",
    "    'Products.name' : 'first',\n",
    "}).reset_index()"
   ]
  },
  {
   "cell_type": "code",
   "execution_count": 483,
   "metadata": {},
   "outputs": [
    {
     "data": {
      "text/html": [
       "<div>\n",
       "<style scoped>\n",
       "    .dataframe tbody tr th:only-of-type {\n",
       "        vertical-align: middle;\n",
       "    }\n",
       "\n",
       "    .dataframe tbody tr th {\n",
       "        vertical-align: top;\n",
       "    }\n",
       "\n",
       "    .dataframe thead th {\n",
       "        text-align: right;\n",
       "    }\n",
       "</style>\n",
       "<table border=\"1\" class=\"dataframe\">\n",
       "  <thead>\n",
       "    <tr style=\"text-align: right;\">\n",
       "      <th></th>\n",
       "      <th>Order_Items.product_id</th>\n",
       "      <th>Order_Items.qty</th>\n",
       "      <th>Orders.subtotal</th>\n",
       "      <th>Products.name</th>\n",
       "    </tr>\n",
       "  </thead>\n",
       "  <tbody>\n",
       "    <tr>\n",
       "      <th>0</th>\n",
       "      <td>1.0</td>\n",
       "      <td>1</td>\n",
       "      <td>68.78</td>\n",
       "      <td>SensiCare Nitrile Exam Gloves,Blue,XX-Large</td>\n",
       "    </tr>\n",
       "    <tr>\n",
       "      <th>1</th>\n",
       "      <td>11.0</td>\n",
       "      <td>1</td>\n",
       "      <td>145.41</td>\n",
       "      <td>None</td>\n",
       "    </tr>\n",
       "    <tr>\n",
       "      <th>2</th>\n",
       "      <td>14.0</td>\n",
       "      <td>1</td>\n",
       "      <td>44.33</td>\n",
       "      <td>None</td>\n",
       "    </tr>\n",
       "    <tr>\n",
       "      <th>3</th>\n",
       "      <td>15.0</td>\n",
       "      <td>4</td>\n",
       "      <td>177.32</td>\n",
       "      <td>None</td>\n",
       "    </tr>\n",
       "    <tr>\n",
       "      <th>4</th>\n",
       "      <td>19.0</td>\n",
       "      <td>6</td>\n",
       "      <td>273.24</td>\n",
       "      <td>Disposable Forehead Thermometer</td>\n",
       "    </tr>\n",
       "    <tr>\n",
       "      <th>...</th>\n",
       "      <td>...</td>\n",
       "      <td>...</td>\n",
       "      <td>...</td>\n",
       "      <td>...</td>\n",
       "    </tr>\n",
       "    <tr>\n",
       "      <th>1748</th>\n",
       "      <td>25612.0</td>\n",
       "      <td>2</td>\n",
       "      <td>376.23</td>\n",
       "      <td>Dynarex 3672, Triangular Bandage 36x36x51 - 12/Bx</td>\n",
       "    </tr>\n",
       "    <tr>\n",
       "      <th>1749</th>\n",
       "      <td>25694.0</td>\n",
       "      <td>1</td>\n",
       "      <td>22.48</td>\n",
       "      <td>Dynarex 4234, Stool Container - Polystyrene   ...</td>\n",
       "    </tr>\n",
       "    <tr>\n",
       "      <th>1750</th>\n",
       "      <td>25908.0</td>\n",
       "      <td>1</td>\n",
       "      <td>52.40</td>\n",
       "      <td>Dynarex 1363, Green Soap - 1Gal, 4/cs</td>\n",
       "    </tr>\n",
       "    <tr>\n",
       "      <th>1751</th>\n",
       "      <td>25920.0</td>\n",
       "      <td>2</td>\n",
       "      <td>151.14</td>\n",
       "      <td>Dynarex 4250, Razors, Twin Blade - 6/50/Cs</td>\n",
       "    </tr>\n",
       "    <tr>\n",
       "      <th>1752</th>\n",
       "      <td>26175.0</td>\n",
       "      <td>4</td>\n",
       "      <td>298.68</td>\n",
       "      <td>Dynarex 6503, True Advantage Nitrile Exam Glov...</td>\n",
       "    </tr>\n",
       "  </tbody>\n",
       "</table>\n",
       "<p>1753 rows × 4 columns</p>\n",
       "</div>"
      ],
      "text/plain": [
       "      Order_Items.product_id  Order_Items.qty  Orders.subtotal  \\\n",
       "0                        1.0                1            68.78   \n",
       "1                       11.0                1           145.41   \n",
       "2                       14.0                1            44.33   \n",
       "3                       15.0                4           177.32   \n",
       "4                       19.0                6           273.24   \n",
       "...                      ...              ...              ...   \n",
       "1748                 25612.0                2           376.23   \n",
       "1749                 25694.0                1            22.48   \n",
       "1750                 25908.0                1            52.40   \n",
       "1751                 25920.0                2           151.14   \n",
       "1752                 26175.0                4           298.68   \n",
       "\n",
       "                                          Products.name  \n",
       "0           SensiCare Nitrile Exam Gloves,Blue,XX-Large  \n",
       "1                                                  None  \n",
       "2                                                  None  \n",
       "3                                                  None  \n",
       "4                       Disposable Forehead Thermometer  \n",
       "...                                                 ...  \n",
       "1748  Dynarex 3672, Triangular Bandage 36x36x51 - 12/Bx  \n",
       "1749  Dynarex 4234, Stool Container - Polystyrene   ...  \n",
       "1750              Dynarex 1363, Green Soap - 1Gal, 4/cs  \n",
       "1751         Dynarex 4250, Razors, Twin Blade - 6/50/Cs  \n",
       "1752  Dynarex 6503, True Advantage Nitrile Exam Glov...  \n",
       "\n",
       "[1753 rows x 4 columns]"
      ]
     },
     "execution_count": 483,
     "metadata": {},
     "output_type": "execute_result"
    }
   ],
   "source": [
    "popularity_df"
   ]
  },
  {
   "cell_type": "code",
   "execution_count": 484,
   "metadata": {},
   "outputs": [],
   "source": [
    "popularity_sum = popularity_df['Order_Items.qty'].sum()"
   ]
  },
  {
   "cell_type": "code",
   "execution_count": 485,
   "metadata": {},
   "outputs": [],
   "source": [
    "popularity_df['percentage_qty'] = popularity_df['Order_Items.qty'] / popularity_sum * 100"
   ]
  },
  {
   "cell_type": "code",
   "execution_count": 486,
   "metadata": {},
   "outputs": [],
   "source": [
    "popularity_df['rank'] = popularity_df['percentage_qty'].rank(ascending=False)"
   ]
  },
  {
   "cell_type": "code",
   "execution_count": 487,
   "metadata": {},
   "outputs": [],
   "source": [
    "popularity_df.sort_values('rank', ascending=True, inplace=True)"
   ]
  },
  {
   "cell_type": "code",
   "execution_count": 488,
   "metadata": {},
   "outputs": [
    {
     "data": {
      "text/html": [
       "<div>\n",
       "<style scoped>\n",
       "    .dataframe tbody tr th:only-of-type {\n",
       "        vertical-align: middle;\n",
       "    }\n",
       "\n",
       "    .dataframe tbody tr th {\n",
       "        vertical-align: top;\n",
       "    }\n",
       "\n",
       "    .dataframe thead th {\n",
       "        text-align: right;\n",
       "    }\n",
       "</style>\n",
       "<table border=\"1\" class=\"dataframe\">\n",
       "  <thead>\n",
       "    <tr style=\"text-align: right;\">\n",
       "      <th></th>\n",
       "      <th>Order_Items.product_id</th>\n",
       "      <th>Order_Items.qty</th>\n",
       "      <th>Orders.subtotal</th>\n",
       "      <th>Products.name</th>\n",
       "      <th>percentage_qty</th>\n",
       "      <th>rank</th>\n",
       "    </tr>\n",
       "  </thead>\n",
       "  <tbody>\n",
       "    <tr>\n",
       "      <th>623</th>\n",
       "      <td>1846.0</td>\n",
       "      <td>396</td>\n",
       "      <td>13781.12</td>\n",
       "      <td>Disposable Emergency Blanket,Not Applicable</td>\n",
       "      <td>5.508416</td>\n",
       "      <td>1.0</td>\n",
       "    </tr>\n",
       "    <tr>\n",
       "      <th>686</th>\n",
       "      <td>2107.0</td>\n",
       "      <td>228</td>\n",
       "      <td>12660.68</td>\n",
       "      <td>MoliCare Disposable Super Plus Briefs,27\"-47\"</td>\n",
       "      <td>3.171512</td>\n",
       "      <td>2.0</td>\n",
       "    </tr>\n",
       "    <tr>\n",
       "      <th>589</th>\n",
       "      <td>1672.0</td>\n",
       "      <td>220</td>\n",
       "      <td>5559.40</td>\n",
       "      <td>2-Ply Tissue/Poly Professional Towels,Not Appl...</td>\n",
       "      <td>3.060231</td>\n",
       "      <td>3.0</td>\n",
       "    </tr>\n",
       "    <tr>\n",
       "      <th>580</th>\n",
       "      <td>1648.0</td>\n",
       "      <td>133</td>\n",
       "      <td>5628.56</td>\n",
       "      <td>Sanitary Pads with Adhesive &amp; Wings</td>\n",
       "      <td>1.850049</td>\n",
       "      <td>4.0</td>\n",
       "    </tr>\n",
       "    <tr>\n",
       "      <th>622</th>\n",
       "      <td>1842.0</td>\n",
       "      <td>112</td>\n",
       "      <td>2040.43</td>\n",
       "      <td>Emesis Bags,Blue,36.000 OZ</td>\n",
       "      <td>1.557936</td>\n",
       "      <td>5.0</td>\n",
       "    </tr>\n",
       "  </tbody>\n",
       "</table>\n",
       "</div>"
      ],
      "text/plain": [
       "     Order_Items.product_id  Order_Items.qty  Orders.subtotal  \\\n",
       "623                  1846.0              396         13781.12   \n",
       "686                  2107.0              228         12660.68   \n",
       "589                  1672.0              220          5559.40   \n",
       "580                  1648.0              133          5628.56   \n",
       "622                  1842.0              112          2040.43   \n",
       "\n",
       "                                         Products.name  percentage_qty  rank  \n",
       "623        Disposable Emergency Blanket,Not Applicable        5.508416   1.0  \n",
       "686      MoliCare Disposable Super Plus Briefs,27\"-47\"        3.171512   2.0  \n",
       "589  2-Ply Tissue/Poly Professional Towels,Not Appl...        3.060231   3.0  \n",
       "580                Sanitary Pads with Adhesive & Wings        1.850049   4.0  \n",
       "622                         Emesis Bags,Blue,36.000 OZ        1.557936   5.0  "
      ]
     },
     "execution_count": 488,
     "metadata": {},
     "output_type": "execute_result"
    }
   ],
   "source": [
    "popularity_df.head()"
   ]
  },
  {
   "cell_type": "markdown",
   "metadata": {},
   "source": [
    "### Companies With the Maximum Purchases"
   ]
  },
  {
   "cell_type": "code",
   "execution_count": 489,
   "metadata": {},
   "outputs": [],
   "source": [
    "company_purchases = sales_df.groupby('Customers.company').agg({\n",
    "    'Orders.id': 'count', \n",
    "    'Orders.subtotal': 'sum' \n",
    "}).reset_index()\n",
    "company_purchases.sort_values(by='Orders.id', ascending=False, inplace=True)"
   ]
  },
  {
   "cell_type": "code",
   "execution_count": 511,
   "metadata": {},
   "outputs": [],
   "source": [
    "company_purchases.rename(columns={'Orders.id':'Order_sum'}, inplace=True)\n",
    "company_purchases.rename(columns={'Orders.subtotal':'Total_sum'}, inplace=True)"
   ]
  },
  {
   "cell_type": "code",
   "execution_count": 512,
   "metadata": {},
   "outputs": [
    {
     "data": {
      "text/html": [
       "<div>\n",
       "<style scoped>\n",
       "    .dataframe tbody tr th:only-of-type {\n",
       "        vertical-align: middle;\n",
       "    }\n",
       "\n",
       "    .dataframe tbody tr th {\n",
       "        vertical-align: top;\n",
       "    }\n",
       "\n",
       "    .dataframe thead th {\n",
       "        text-align: right;\n",
       "    }\n",
       "</style>\n",
       "<table border=\"1\" class=\"dataframe\">\n",
       "  <thead>\n",
       "    <tr style=\"text-align: right;\">\n",
       "      <th></th>\n",
       "      <th>Customers.company</th>\n",
       "      <th>Order_sum</th>\n",
       "      <th>Total_sum</th>\n",
       "    </tr>\n",
       "  </thead>\n",
       "  <tbody>\n",
       "    <tr>\n",
       "      <th>52</th>\n",
       "      <td>Company145</td>\n",
       "      <td>27</td>\n",
       "      <td>8291.48</td>\n",
       "    </tr>\n",
       "    <tr>\n",
       "      <th>36</th>\n",
       "      <td>Company130</td>\n",
       "      <td>17</td>\n",
       "      <td>7312.98</td>\n",
       "    </tr>\n",
       "    <tr>\n",
       "      <th>380</th>\n",
       "      <td>Company59</td>\n",
       "      <td>15</td>\n",
       "      <td>13186.41</td>\n",
       "    </tr>\n",
       "    <tr>\n",
       "      <th>81</th>\n",
       "      <td>Company171</td>\n",
       "      <td>12</td>\n",
       "      <td>3178.16</td>\n",
       "    </tr>\n",
       "    <tr>\n",
       "      <th>67</th>\n",
       "      <td>Company159</td>\n",
       "      <td>11</td>\n",
       "      <td>8452.78</td>\n",
       "    </tr>\n",
       "  </tbody>\n",
       "</table>\n",
       "</div>"
      ],
      "text/plain": [
       "    Customers.company  Order_sum  Total_sum\n",
       "52         Company145         27    8291.48\n",
       "36         Company130         17    7312.98\n",
       "380         Company59         15   13186.41\n",
       "81         Company171         12    3178.16\n",
       "67         Company159         11    8452.78"
      ]
     },
     "execution_count": 512,
     "metadata": {},
     "output_type": "execute_result"
    }
   ],
   "source": [
    "company_purchases.head()"
   ]
  },
  {
   "cell_type": "markdown",
   "metadata": {},
   "source": [
    "### Visualizations"
   ]
  },
  {
   "cell_type": "code",
   "execution_count": 491,
   "metadata": {},
   "outputs": [],
   "source": [
    "popularity_top_5 = popularity_df.head(5)"
   ]
  },
  {
   "cell_type": "code",
   "execution_count": 501,
   "metadata": {},
   "outputs": [],
   "source": [
    "popularity_by_total = popularity_df.sort_values('Orders.subtotal', ascending=False).head(5)"
   ]
  },
  {
   "cell_type": "code",
   "execution_count": 513,
   "metadata": {},
   "outputs": [],
   "source": [
    "company_purchases_top_5 = company_purchases.head(5)"
   ]
  },
  {
   "cell_type": "code",
   "execution_count": 504,
   "metadata": {},
   "outputs": [
    {
     "data": {
      "application/vnd.plotly.v1+json": {
       "config": {
        "plotlyServerURL": "https://plot.ly"
       },
       "data": [
        {
         "alignmentgroup": "True",
         "customdata": [
          [
           13781.119999999999
          ],
          [
           12660.68
          ],
          [
           5559.4
          ],
          [
           5628.5599999999995
          ],
          [
           2040.43
          ]
         ],
         "hovertemplate": "Products.name=%{x}<br>Quantity=%{y}<br>Total Sales Amount (USD)=%{customdata[0]}<extra></extra>",
         "legendgroup": "",
         "marker": {
          "color": "#636efa",
          "pattern": {
           "shape": ""
          }
         },
         "name": "",
         "offsetgroup": "",
         "orientation": "v",
         "showlegend": false,
         "textposition": "auto",
         "texttemplate": "%{y}",
         "type": "bar",
         "x": [
          "Disposable Emergency Blanket,Not Applicable",
          "MoliCare Disposable Super Plus Briefs,27\"-47\"",
          "2-Ply Tissue/Poly Professional Towels,Not Applicable",
          "Sanitary Pads with Adhesive & Wings",
          "Emesis Bags,Blue,36.000 OZ"
         ],
         "xaxis": "x",
         "y": [
          396,
          228,
          220,
          133,
          112
         ],
         "yaxis": "y"
        }
       ],
       "layout": {
        "barmode": "relative",
        "legend": {
         "tracegroupgap": 0
        },
        "template": {
         "data": {
          "bar": [
           {
            "error_x": {
             "color": "#2a3f5f"
            },
            "error_y": {
             "color": "#2a3f5f"
            },
            "marker": {
             "line": {
              "color": "#E5ECF6",
              "width": 0.5
             },
             "pattern": {
              "fillmode": "overlay",
              "size": 10,
              "solidity": 0.2
             }
            },
            "type": "bar"
           }
          ],
          "barpolar": [
           {
            "marker": {
             "line": {
              "color": "#E5ECF6",
              "width": 0.5
             },
             "pattern": {
              "fillmode": "overlay",
              "size": 10,
              "solidity": 0.2
             }
            },
            "type": "barpolar"
           }
          ],
          "carpet": [
           {
            "aaxis": {
             "endlinecolor": "#2a3f5f",
             "gridcolor": "white",
             "linecolor": "white",
             "minorgridcolor": "white",
             "startlinecolor": "#2a3f5f"
            },
            "baxis": {
             "endlinecolor": "#2a3f5f",
             "gridcolor": "white",
             "linecolor": "white",
             "minorgridcolor": "white",
             "startlinecolor": "#2a3f5f"
            },
            "type": "carpet"
           }
          ],
          "choropleth": [
           {
            "colorbar": {
             "outlinewidth": 0,
             "ticks": ""
            },
            "type": "choropleth"
           }
          ],
          "contour": [
           {
            "colorbar": {
             "outlinewidth": 0,
             "ticks": ""
            },
            "colorscale": [
             [
              0,
              "#0d0887"
             ],
             [
              0.1111111111111111,
              "#46039f"
             ],
             [
              0.2222222222222222,
              "#7201a8"
             ],
             [
              0.3333333333333333,
              "#9c179e"
             ],
             [
              0.4444444444444444,
              "#bd3786"
             ],
             [
              0.5555555555555556,
              "#d8576b"
             ],
             [
              0.6666666666666666,
              "#ed7953"
             ],
             [
              0.7777777777777778,
              "#fb9f3a"
             ],
             [
              0.8888888888888888,
              "#fdca26"
             ],
             [
              1,
              "#f0f921"
             ]
            ],
            "type": "contour"
           }
          ],
          "contourcarpet": [
           {
            "colorbar": {
             "outlinewidth": 0,
             "ticks": ""
            },
            "type": "contourcarpet"
           }
          ],
          "heatmap": [
           {
            "colorbar": {
             "outlinewidth": 0,
             "ticks": ""
            },
            "colorscale": [
             [
              0,
              "#0d0887"
             ],
             [
              0.1111111111111111,
              "#46039f"
             ],
             [
              0.2222222222222222,
              "#7201a8"
             ],
             [
              0.3333333333333333,
              "#9c179e"
             ],
             [
              0.4444444444444444,
              "#bd3786"
             ],
             [
              0.5555555555555556,
              "#d8576b"
             ],
             [
              0.6666666666666666,
              "#ed7953"
             ],
             [
              0.7777777777777778,
              "#fb9f3a"
             ],
             [
              0.8888888888888888,
              "#fdca26"
             ],
             [
              1,
              "#f0f921"
             ]
            ],
            "type": "heatmap"
           }
          ],
          "heatmapgl": [
           {
            "colorbar": {
             "outlinewidth": 0,
             "ticks": ""
            },
            "colorscale": [
             [
              0,
              "#0d0887"
             ],
             [
              0.1111111111111111,
              "#46039f"
             ],
             [
              0.2222222222222222,
              "#7201a8"
             ],
             [
              0.3333333333333333,
              "#9c179e"
             ],
             [
              0.4444444444444444,
              "#bd3786"
             ],
             [
              0.5555555555555556,
              "#d8576b"
             ],
             [
              0.6666666666666666,
              "#ed7953"
             ],
             [
              0.7777777777777778,
              "#fb9f3a"
             ],
             [
              0.8888888888888888,
              "#fdca26"
             ],
             [
              1,
              "#f0f921"
             ]
            ],
            "type": "heatmapgl"
           }
          ],
          "histogram": [
           {
            "marker": {
             "pattern": {
              "fillmode": "overlay",
              "size": 10,
              "solidity": 0.2
             }
            },
            "type": "histogram"
           }
          ],
          "histogram2d": [
           {
            "colorbar": {
             "outlinewidth": 0,
             "ticks": ""
            },
            "colorscale": [
             [
              0,
              "#0d0887"
             ],
             [
              0.1111111111111111,
              "#46039f"
             ],
             [
              0.2222222222222222,
              "#7201a8"
             ],
             [
              0.3333333333333333,
              "#9c179e"
             ],
             [
              0.4444444444444444,
              "#bd3786"
             ],
             [
              0.5555555555555556,
              "#d8576b"
             ],
             [
              0.6666666666666666,
              "#ed7953"
             ],
             [
              0.7777777777777778,
              "#fb9f3a"
             ],
             [
              0.8888888888888888,
              "#fdca26"
             ],
             [
              1,
              "#f0f921"
             ]
            ],
            "type": "histogram2d"
           }
          ],
          "histogram2dcontour": [
           {
            "colorbar": {
             "outlinewidth": 0,
             "ticks": ""
            },
            "colorscale": [
             [
              0,
              "#0d0887"
             ],
             [
              0.1111111111111111,
              "#46039f"
             ],
             [
              0.2222222222222222,
              "#7201a8"
             ],
             [
              0.3333333333333333,
              "#9c179e"
             ],
             [
              0.4444444444444444,
              "#bd3786"
             ],
             [
              0.5555555555555556,
              "#d8576b"
             ],
             [
              0.6666666666666666,
              "#ed7953"
             ],
             [
              0.7777777777777778,
              "#fb9f3a"
             ],
             [
              0.8888888888888888,
              "#fdca26"
             ],
             [
              1,
              "#f0f921"
             ]
            ],
            "type": "histogram2dcontour"
           }
          ],
          "mesh3d": [
           {
            "colorbar": {
             "outlinewidth": 0,
             "ticks": ""
            },
            "type": "mesh3d"
           }
          ],
          "parcoords": [
           {
            "line": {
             "colorbar": {
              "outlinewidth": 0,
              "ticks": ""
             }
            },
            "type": "parcoords"
           }
          ],
          "pie": [
           {
            "automargin": true,
            "type": "pie"
           }
          ],
          "scatter": [
           {
            "fillpattern": {
             "fillmode": "overlay",
             "size": 10,
             "solidity": 0.2
            },
            "type": "scatter"
           }
          ],
          "scatter3d": [
           {
            "line": {
             "colorbar": {
              "outlinewidth": 0,
              "ticks": ""
             }
            },
            "marker": {
             "colorbar": {
              "outlinewidth": 0,
              "ticks": ""
             }
            },
            "type": "scatter3d"
           }
          ],
          "scattercarpet": [
           {
            "marker": {
             "colorbar": {
              "outlinewidth": 0,
              "ticks": ""
             }
            },
            "type": "scattercarpet"
           }
          ],
          "scattergeo": [
           {
            "marker": {
             "colorbar": {
              "outlinewidth": 0,
              "ticks": ""
             }
            },
            "type": "scattergeo"
           }
          ],
          "scattergl": [
           {
            "marker": {
             "colorbar": {
              "outlinewidth": 0,
              "ticks": ""
             }
            },
            "type": "scattergl"
           }
          ],
          "scattermapbox": [
           {
            "marker": {
             "colorbar": {
              "outlinewidth": 0,
              "ticks": ""
             }
            },
            "type": "scattermapbox"
           }
          ],
          "scatterpolar": [
           {
            "marker": {
             "colorbar": {
              "outlinewidth": 0,
              "ticks": ""
             }
            },
            "type": "scatterpolar"
           }
          ],
          "scatterpolargl": [
           {
            "marker": {
             "colorbar": {
              "outlinewidth": 0,
              "ticks": ""
             }
            },
            "type": "scatterpolargl"
           }
          ],
          "scatterternary": [
           {
            "marker": {
             "colorbar": {
              "outlinewidth": 0,
              "ticks": ""
             }
            },
            "type": "scatterternary"
           }
          ],
          "surface": [
           {
            "colorbar": {
             "outlinewidth": 0,
             "ticks": ""
            },
            "colorscale": [
             [
              0,
              "#0d0887"
             ],
             [
              0.1111111111111111,
              "#46039f"
             ],
             [
              0.2222222222222222,
              "#7201a8"
             ],
             [
              0.3333333333333333,
              "#9c179e"
             ],
             [
              0.4444444444444444,
              "#bd3786"
             ],
             [
              0.5555555555555556,
              "#d8576b"
             ],
             [
              0.6666666666666666,
              "#ed7953"
             ],
             [
              0.7777777777777778,
              "#fb9f3a"
             ],
             [
              0.8888888888888888,
              "#fdca26"
             ],
             [
              1,
              "#f0f921"
             ]
            ],
            "type": "surface"
           }
          ],
          "table": [
           {
            "cells": {
             "fill": {
              "color": "#EBF0F8"
             },
             "line": {
              "color": "white"
             }
            },
            "header": {
             "fill": {
              "color": "#C8D4E3"
             },
             "line": {
              "color": "white"
             }
            },
            "type": "table"
           }
          ]
         },
         "layout": {
          "annotationdefaults": {
           "arrowcolor": "#2a3f5f",
           "arrowhead": 0,
           "arrowwidth": 1
          },
          "autotypenumbers": "strict",
          "coloraxis": {
           "colorbar": {
            "outlinewidth": 0,
            "ticks": ""
           }
          },
          "colorscale": {
           "diverging": [
            [
             0,
             "#8e0152"
            ],
            [
             0.1,
             "#c51b7d"
            ],
            [
             0.2,
             "#de77ae"
            ],
            [
             0.3,
             "#f1b6da"
            ],
            [
             0.4,
             "#fde0ef"
            ],
            [
             0.5,
             "#f7f7f7"
            ],
            [
             0.6,
             "#e6f5d0"
            ],
            [
             0.7,
             "#b8e186"
            ],
            [
             0.8,
             "#7fbc41"
            ],
            [
             0.9,
             "#4d9221"
            ],
            [
             1,
             "#276419"
            ]
           ],
           "sequential": [
            [
             0,
             "#0d0887"
            ],
            [
             0.1111111111111111,
             "#46039f"
            ],
            [
             0.2222222222222222,
             "#7201a8"
            ],
            [
             0.3333333333333333,
             "#9c179e"
            ],
            [
             0.4444444444444444,
             "#bd3786"
            ],
            [
             0.5555555555555556,
             "#d8576b"
            ],
            [
             0.6666666666666666,
             "#ed7953"
            ],
            [
             0.7777777777777778,
             "#fb9f3a"
            ],
            [
             0.8888888888888888,
             "#fdca26"
            ],
            [
             1,
             "#f0f921"
            ]
           ],
           "sequentialminus": [
            [
             0,
             "#0d0887"
            ],
            [
             0.1111111111111111,
             "#46039f"
            ],
            [
             0.2222222222222222,
             "#7201a8"
            ],
            [
             0.3333333333333333,
             "#9c179e"
            ],
            [
             0.4444444444444444,
             "#bd3786"
            ],
            [
             0.5555555555555556,
             "#d8576b"
            ],
            [
             0.6666666666666666,
             "#ed7953"
            ],
            [
             0.7777777777777778,
             "#fb9f3a"
            ],
            [
             0.8888888888888888,
             "#fdca26"
            ],
            [
             1,
             "#f0f921"
            ]
           ]
          },
          "colorway": [
           "#636efa",
           "#EF553B",
           "#00cc96",
           "#ab63fa",
           "#FFA15A",
           "#19d3f3",
           "#FF6692",
           "#B6E880",
           "#FF97FF",
           "#FECB52"
          ],
          "font": {
           "color": "#2a3f5f"
          },
          "geo": {
           "bgcolor": "white",
           "lakecolor": "white",
           "landcolor": "#E5ECF6",
           "showlakes": true,
           "showland": true,
           "subunitcolor": "white"
          },
          "hoverlabel": {
           "align": "left"
          },
          "hovermode": "closest",
          "mapbox": {
           "style": "light"
          },
          "paper_bgcolor": "white",
          "plot_bgcolor": "#E5ECF6",
          "polar": {
           "angularaxis": {
            "gridcolor": "white",
            "linecolor": "white",
            "ticks": ""
           },
           "bgcolor": "#E5ECF6",
           "radialaxis": {
            "gridcolor": "white",
            "linecolor": "white",
            "ticks": ""
           }
          },
          "scene": {
           "xaxis": {
            "backgroundcolor": "#E5ECF6",
            "gridcolor": "white",
            "gridwidth": 2,
            "linecolor": "white",
            "showbackground": true,
            "ticks": "",
            "zerolinecolor": "white"
           },
           "yaxis": {
            "backgroundcolor": "#E5ECF6",
            "gridcolor": "white",
            "gridwidth": 2,
            "linecolor": "white",
            "showbackground": true,
            "ticks": "",
            "zerolinecolor": "white"
           },
           "zaxis": {
            "backgroundcolor": "#E5ECF6",
            "gridcolor": "white",
            "gridwidth": 2,
            "linecolor": "white",
            "showbackground": true,
            "ticks": "",
            "zerolinecolor": "white"
           }
          },
          "shapedefaults": {
           "line": {
            "color": "#2a3f5f"
           }
          },
          "ternary": {
           "aaxis": {
            "gridcolor": "white",
            "linecolor": "white",
            "ticks": ""
           },
           "baxis": {
            "gridcolor": "white",
            "linecolor": "white",
            "ticks": ""
           },
           "bgcolor": "#E5ECF6",
           "caxis": {
            "gridcolor": "white",
            "linecolor": "white",
            "ticks": ""
           }
          },
          "title": {
           "x": 0.05
          },
          "xaxis": {
           "automargin": true,
           "gridcolor": "white",
           "linecolor": "white",
           "ticks": "",
           "title": {
            "standoff": 15
           },
           "zerolinecolor": "white",
           "zerolinewidth": 2
          },
          "yaxis": {
           "automargin": true,
           "gridcolor": "white",
           "linecolor": "white",
           "ticks": "",
           "title": {
            "standoff": 15
           },
           "zerolinecolor": "white",
           "zerolinewidth": 2
          }
         }
        },
        "title": {
         "text": "Most Popular 10 Products by Quantity"
        },
        "xaxis": {
         "anchor": "y",
         "domain": [
          0,
          1
         ],
         "tickangle": -10,
         "title": {
          "text": "Product Name"
         }
        },
        "yaxis": {
         "anchor": "x",
         "domain": [
          0,
          1
         ],
         "title": {
          "text": "Quantity"
         }
        }
       }
      }
     },
     "metadata": {},
     "output_type": "display_data"
    }
   ],
   "source": [
    "fig = px.bar(popularity_top_5, \n",
    "             x='Products.name', \n",
    "             y='Order_Items.qty',\n",
    "             hover_data=['Orders.subtotal'], \n",
    "             title='Most Popular 5 Products by Quantity',\n",
    "             labels={'Order_Items.qty': 'Quantity', 'Orders.subtotal': 'Total Sales Amount (USD)'},\n",
    "             text_auto=True)\n",
    "\n",
    "fig.update_layout(xaxis_title='Product Name', yaxis_title='Quantity', xaxis_tickangle=-10)\n",
    "fig.show()"
   ]
  },
  {
   "cell_type": "code",
   "execution_count": 521,
   "metadata": {},
   "outputs": [
    {
     "data": {
      "application/vnd.plotly.v1+json": {
       "config": {
        "plotlyServerURL": "https://plot.ly"
       },
       "data": [
        {
         "alignmentgroup": "True",
         "customdata": [
          [
           396
          ],
          [
           228
          ],
          [
           68
          ],
          [
           68
          ],
          [
           56
          ]
         ],
         "hovertemplate": "Product Name=%{x}<br>Total Sales Amount (USD)=%{y}<br>Quantity=%{customdata[0]}<extra></extra>",
         "legendgroup": "",
         "marker": {
          "color": "#636efa",
          "pattern": {
           "shape": ""
          }
         },
         "name": "",
         "offsetgroup": "",
         "orientation": "v",
         "showlegend": false,
         "textposition": "auto",
         "texttemplate": "%{y}",
         "type": "bar",
         "x": [
          "Disposable Emergency Blanket,Not Applicable",
          "MoliCare Disposable Super Plus Briefs,27\"-47\"",
          "Aluminum Transport Chair with 12\" Wheels,Red,F: 8   R: 12",
          "Aluminum Transport Chair with 12\" Wheels,Blue,F: 8   R: 12",
          "K1 Basic Extra-Wide Wheelchairs"
         ],
         "xaxis": "x",
         "y": [
          13781.119999999999,
          12660.68,
          8781.76,
          8667.58,
          6861.15
         ],
         "yaxis": "y"
        }
       ],
       "layout": {
        "barmode": "relative",
        "legend": {
         "tracegroupgap": 0
        },
        "template": {
         "data": {
          "bar": [
           {
            "error_x": {
             "color": "#2a3f5f"
            },
            "error_y": {
             "color": "#2a3f5f"
            },
            "marker": {
             "line": {
              "color": "#E5ECF6",
              "width": 0.5
             },
             "pattern": {
              "fillmode": "overlay",
              "size": 10,
              "solidity": 0.2
             }
            },
            "type": "bar"
           }
          ],
          "barpolar": [
           {
            "marker": {
             "line": {
              "color": "#E5ECF6",
              "width": 0.5
             },
             "pattern": {
              "fillmode": "overlay",
              "size": 10,
              "solidity": 0.2
             }
            },
            "type": "barpolar"
           }
          ],
          "carpet": [
           {
            "aaxis": {
             "endlinecolor": "#2a3f5f",
             "gridcolor": "white",
             "linecolor": "white",
             "minorgridcolor": "white",
             "startlinecolor": "#2a3f5f"
            },
            "baxis": {
             "endlinecolor": "#2a3f5f",
             "gridcolor": "white",
             "linecolor": "white",
             "minorgridcolor": "white",
             "startlinecolor": "#2a3f5f"
            },
            "type": "carpet"
           }
          ],
          "choropleth": [
           {
            "colorbar": {
             "outlinewidth": 0,
             "ticks": ""
            },
            "type": "choropleth"
           }
          ],
          "contour": [
           {
            "colorbar": {
             "outlinewidth": 0,
             "ticks": ""
            },
            "colorscale": [
             [
              0,
              "#0d0887"
             ],
             [
              0.1111111111111111,
              "#46039f"
             ],
             [
              0.2222222222222222,
              "#7201a8"
             ],
             [
              0.3333333333333333,
              "#9c179e"
             ],
             [
              0.4444444444444444,
              "#bd3786"
             ],
             [
              0.5555555555555556,
              "#d8576b"
             ],
             [
              0.6666666666666666,
              "#ed7953"
             ],
             [
              0.7777777777777778,
              "#fb9f3a"
             ],
             [
              0.8888888888888888,
              "#fdca26"
             ],
             [
              1,
              "#f0f921"
             ]
            ],
            "type": "contour"
           }
          ],
          "contourcarpet": [
           {
            "colorbar": {
             "outlinewidth": 0,
             "ticks": ""
            },
            "type": "contourcarpet"
           }
          ],
          "heatmap": [
           {
            "colorbar": {
             "outlinewidth": 0,
             "ticks": ""
            },
            "colorscale": [
             [
              0,
              "#0d0887"
             ],
             [
              0.1111111111111111,
              "#46039f"
             ],
             [
              0.2222222222222222,
              "#7201a8"
             ],
             [
              0.3333333333333333,
              "#9c179e"
             ],
             [
              0.4444444444444444,
              "#bd3786"
             ],
             [
              0.5555555555555556,
              "#d8576b"
             ],
             [
              0.6666666666666666,
              "#ed7953"
             ],
             [
              0.7777777777777778,
              "#fb9f3a"
             ],
             [
              0.8888888888888888,
              "#fdca26"
             ],
             [
              1,
              "#f0f921"
             ]
            ],
            "type": "heatmap"
           }
          ],
          "heatmapgl": [
           {
            "colorbar": {
             "outlinewidth": 0,
             "ticks": ""
            },
            "colorscale": [
             [
              0,
              "#0d0887"
             ],
             [
              0.1111111111111111,
              "#46039f"
             ],
             [
              0.2222222222222222,
              "#7201a8"
             ],
             [
              0.3333333333333333,
              "#9c179e"
             ],
             [
              0.4444444444444444,
              "#bd3786"
             ],
             [
              0.5555555555555556,
              "#d8576b"
             ],
             [
              0.6666666666666666,
              "#ed7953"
             ],
             [
              0.7777777777777778,
              "#fb9f3a"
             ],
             [
              0.8888888888888888,
              "#fdca26"
             ],
             [
              1,
              "#f0f921"
             ]
            ],
            "type": "heatmapgl"
           }
          ],
          "histogram": [
           {
            "marker": {
             "pattern": {
              "fillmode": "overlay",
              "size": 10,
              "solidity": 0.2
             }
            },
            "type": "histogram"
           }
          ],
          "histogram2d": [
           {
            "colorbar": {
             "outlinewidth": 0,
             "ticks": ""
            },
            "colorscale": [
             [
              0,
              "#0d0887"
             ],
             [
              0.1111111111111111,
              "#46039f"
             ],
             [
              0.2222222222222222,
              "#7201a8"
             ],
             [
              0.3333333333333333,
              "#9c179e"
             ],
             [
              0.4444444444444444,
              "#bd3786"
             ],
             [
              0.5555555555555556,
              "#d8576b"
             ],
             [
              0.6666666666666666,
              "#ed7953"
             ],
             [
              0.7777777777777778,
              "#fb9f3a"
             ],
             [
              0.8888888888888888,
              "#fdca26"
             ],
             [
              1,
              "#f0f921"
             ]
            ],
            "type": "histogram2d"
           }
          ],
          "histogram2dcontour": [
           {
            "colorbar": {
             "outlinewidth": 0,
             "ticks": ""
            },
            "colorscale": [
             [
              0,
              "#0d0887"
             ],
             [
              0.1111111111111111,
              "#46039f"
             ],
             [
              0.2222222222222222,
              "#7201a8"
             ],
             [
              0.3333333333333333,
              "#9c179e"
             ],
             [
              0.4444444444444444,
              "#bd3786"
             ],
             [
              0.5555555555555556,
              "#d8576b"
             ],
             [
              0.6666666666666666,
              "#ed7953"
             ],
             [
              0.7777777777777778,
              "#fb9f3a"
             ],
             [
              0.8888888888888888,
              "#fdca26"
             ],
             [
              1,
              "#f0f921"
             ]
            ],
            "type": "histogram2dcontour"
           }
          ],
          "mesh3d": [
           {
            "colorbar": {
             "outlinewidth": 0,
             "ticks": ""
            },
            "type": "mesh3d"
           }
          ],
          "parcoords": [
           {
            "line": {
             "colorbar": {
              "outlinewidth": 0,
              "ticks": ""
             }
            },
            "type": "parcoords"
           }
          ],
          "pie": [
           {
            "automargin": true,
            "type": "pie"
           }
          ],
          "scatter": [
           {
            "fillpattern": {
             "fillmode": "overlay",
             "size": 10,
             "solidity": 0.2
            },
            "type": "scatter"
           }
          ],
          "scatter3d": [
           {
            "line": {
             "colorbar": {
              "outlinewidth": 0,
              "ticks": ""
             }
            },
            "marker": {
             "colorbar": {
              "outlinewidth": 0,
              "ticks": ""
             }
            },
            "type": "scatter3d"
           }
          ],
          "scattercarpet": [
           {
            "marker": {
             "colorbar": {
              "outlinewidth": 0,
              "ticks": ""
             }
            },
            "type": "scattercarpet"
           }
          ],
          "scattergeo": [
           {
            "marker": {
             "colorbar": {
              "outlinewidth": 0,
              "ticks": ""
             }
            },
            "type": "scattergeo"
           }
          ],
          "scattergl": [
           {
            "marker": {
             "colorbar": {
              "outlinewidth": 0,
              "ticks": ""
             }
            },
            "type": "scattergl"
           }
          ],
          "scattermapbox": [
           {
            "marker": {
             "colorbar": {
              "outlinewidth": 0,
              "ticks": ""
             }
            },
            "type": "scattermapbox"
           }
          ],
          "scatterpolar": [
           {
            "marker": {
             "colorbar": {
              "outlinewidth": 0,
              "ticks": ""
             }
            },
            "type": "scatterpolar"
           }
          ],
          "scatterpolargl": [
           {
            "marker": {
             "colorbar": {
              "outlinewidth": 0,
              "ticks": ""
             }
            },
            "type": "scatterpolargl"
           }
          ],
          "scatterternary": [
           {
            "marker": {
             "colorbar": {
              "outlinewidth": 0,
              "ticks": ""
             }
            },
            "type": "scatterternary"
           }
          ],
          "surface": [
           {
            "colorbar": {
             "outlinewidth": 0,
             "ticks": ""
            },
            "colorscale": [
             [
              0,
              "#0d0887"
             ],
             [
              0.1111111111111111,
              "#46039f"
             ],
             [
              0.2222222222222222,
              "#7201a8"
             ],
             [
              0.3333333333333333,
              "#9c179e"
             ],
             [
              0.4444444444444444,
              "#bd3786"
             ],
             [
              0.5555555555555556,
              "#d8576b"
             ],
             [
              0.6666666666666666,
              "#ed7953"
             ],
             [
              0.7777777777777778,
              "#fb9f3a"
             ],
             [
              0.8888888888888888,
              "#fdca26"
             ],
             [
              1,
              "#f0f921"
             ]
            ],
            "type": "surface"
           }
          ],
          "table": [
           {
            "cells": {
             "fill": {
              "color": "#EBF0F8"
             },
             "line": {
              "color": "white"
             }
            },
            "header": {
             "fill": {
              "color": "#C8D4E3"
             },
             "line": {
              "color": "white"
             }
            },
            "type": "table"
           }
          ]
         },
         "layout": {
          "annotationdefaults": {
           "arrowcolor": "#2a3f5f",
           "arrowhead": 0,
           "arrowwidth": 1
          },
          "autotypenumbers": "strict",
          "coloraxis": {
           "colorbar": {
            "outlinewidth": 0,
            "ticks": ""
           }
          },
          "colorscale": {
           "diverging": [
            [
             0,
             "#8e0152"
            ],
            [
             0.1,
             "#c51b7d"
            ],
            [
             0.2,
             "#de77ae"
            ],
            [
             0.3,
             "#f1b6da"
            ],
            [
             0.4,
             "#fde0ef"
            ],
            [
             0.5,
             "#f7f7f7"
            ],
            [
             0.6,
             "#e6f5d0"
            ],
            [
             0.7,
             "#b8e186"
            ],
            [
             0.8,
             "#7fbc41"
            ],
            [
             0.9,
             "#4d9221"
            ],
            [
             1,
             "#276419"
            ]
           ],
           "sequential": [
            [
             0,
             "#0d0887"
            ],
            [
             0.1111111111111111,
             "#46039f"
            ],
            [
             0.2222222222222222,
             "#7201a8"
            ],
            [
             0.3333333333333333,
             "#9c179e"
            ],
            [
             0.4444444444444444,
             "#bd3786"
            ],
            [
             0.5555555555555556,
             "#d8576b"
            ],
            [
             0.6666666666666666,
             "#ed7953"
            ],
            [
             0.7777777777777778,
             "#fb9f3a"
            ],
            [
             0.8888888888888888,
             "#fdca26"
            ],
            [
             1,
             "#f0f921"
            ]
           ],
           "sequentialminus": [
            [
             0,
             "#0d0887"
            ],
            [
             0.1111111111111111,
             "#46039f"
            ],
            [
             0.2222222222222222,
             "#7201a8"
            ],
            [
             0.3333333333333333,
             "#9c179e"
            ],
            [
             0.4444444444444444,
             "#bd3786"
            ],
            [
             0.5555555555555556,
             "#d8576b"
            ],
            [
             0.6666666666666666,
             "#ed7953"
            ],
            [
             0.7777777777777778,
             "#fb9f3a"
            ],
            [
             0.8888888888888888,
             "#fdca26"
            ],
            [
             1,
             "#f0f921"
            ]
           ]
          },
          "colorway": [
           "#636efa",
           "#EF553B",
           "#00cc96",
           "#ab63fa",
           "#FFA15A",
           "#19d3f3",
           "#FF6692",
           "#B6E880",
           "#FF97FF",
           "#FECB52"
          ],
          "font": {
           "color": "#2a3f5f"
          },
          "geo": {
           "bgcolor": "white",
           "lakecolor": "white",
           "landcolor": "#E5ECF6",
           "showlakes": true,
           "showland": true,
           "subunitcolor": "white"
          },
          "hoverlabel": {
           "align": "left"
          },
          "hovermode": "closest",
          "mapbox": {
           "style": "light"
          },
          "paper_bgcolor": "white",
          "plot_bgcolor": "#E5ECF6",
          "polar": {
           "angularaxis": {
            "gridcolor": "white",
            "linecolor": "white",
            "ticks": ""
           },
           "bgcolor": "#E5ECF6",
           "radialaxis": {
            "gridcolor": "white",
            "linecolor": "white",
            "ticks": ""
           }
          },
          "scene": {
           "xaxis": {
            "backgroundcolor": "#E5ECF6",
            "gridcolor": "white",
            "gridwidth": 2,
            "linecolor": "white",
            "showbackground": true,
            "ticks": "",
            "zerolinecolor": "white"
           },
           "yaxis": {
            "backgroundcolor": "#E5ECF6",
            "gridcolor": "white",
            "gridwidth": 2,
            "linecolor": "white",
            "showbackground": true,
            "ticks": "",
            "zerolinecolor": "white"
           },
           "zaxis": {
            "backgroundcolor": "#E5ECF6",
            "gridcolor": "white",
            "gridwidth": 2,
            "linecolor": "white",
            "showbackground": true,
            "ticks": "",
            "zerolinecolor": "white"
           }
          },
          "shapedefaults": {
           "line": {
            "color": "#2a3f5f"
           }
          },
          "ternary": {
           "aaxis": {
            "gridcolor": "white",
            "linecolor": "white",
            "ticks": ""
           },
           "baxis": {
            "gridcolor": "white",
            "linecolor": "white",
            "ticks": ""
           },
           "bgcolor": "#E5ECF6",
           "caxis": {
            "gridcolor": "white",
            "linecolor": "white",
            "ticks": ""
           }
          },
          "title": {
           "x": 0.05
          },
          "xaxis": {
           "automargin": true,
           "gridcolor": "white",
           "linecolor": "white",
           "ticks": "",
           "title": {
            "standoff": 15
           },
           "zerolinecolor": "white",
           "zerolinewidth": 2
          },
          "yaxis": {
           "automargin": true,
           "gridcolor": "white",
           "linecolor": "white",
           "ticks": "",
           "title": {
            "standoff": 15
           },
           "zerolinecolor": "white",
           "zerolinewidth": 2
          }
         }
        },
        "title": {
         "text": "Most Popular 5 Products by Subtotal"
        },
        "xaxis": {
         "anchor": "y",
         "domain": [
          0,
          1
         ],
         "tickangle": -10,
         "title": {
          "text": "Product Name"
         }
        },
        "yaxis": {
         "anchor": "x",
         "domain": [
          0,
          1
         ],
         "title": {
          "text": "Subtotal"
         }
        }
       }
      }
     },
     "metadata": {},
     "output_type": "display_data"
    }
   ],
   "source": [
    "fig = px.bar(popularity_by_total, \n",
    "             x='Products.name', \n",
    "             y='Orders.subtotal',\n",
    "             hover_data=['Order_Items.qty'], \n",
    "             title='Most Popular 5 Products by Subtotal',\n",
    "             labels={'Order_Items.qty': 'Quantity', 'Orders.subtotal': 'Total Sales Amount (USD)', 'Products.name': 'Product Name'},\n",
    "             text_auto=True)\n",
    "\n",
    "fig.update_layout(xaxis_title='Product Name', yaxis_title='Subtotal', xaxis_tickangle=-10)\n",
    "fig.show()"
   ]
  },
  {
   "cell_type": "code",
   "execution_count": 522,
   "metadata": {},
   "outputs": [
    {
     "data": {
      "application/vnd.plotly.v1+json": {
       "config": {
        "plotlyServerURL": "https://plot.ly"
       },
       "data": [
        {
         "alignmentgroup": "True",
         "customdata": [
          [
           8291.48
          ],
          [
           7312.9800000000005
          ],
          [
           13186.41
          ],
          [
           3178.16
          ],
          [
           8452.779999999999
          ]
         ],
         "hovertemplate": "Company Name=%{x}<br>Order Count=%{y}<br>Total Sales Amount (USD)=%{customdata[0]}<extra></extra>",
         "legendgroup": "",
         "marker": {
          "color": "#636efa",
          "pattern": {
           "shape": ""
          }
         },
         "name": "",
         "offsetgroup": "",
         "orientation": "v",
         "showlegend": false,
         "textposition": "auto",
         "texttemplate": "%{y}",
         "type": "bar",
         "x": [
          "Company145",
          "Company130",
          "Company59",
          "Company171",
          "Company159"
         ],
         "xaxis": "x",
         "y": [
          27,
          17,
          15,
          12,
          11
         ],
         "yaxis": "y"
        }
       ],
       "layout": {
        "barmode": "relative",
        "legend": {
         "tracegroupgap": 0
        },
        "template": {
         "data": {
          "bar": [
           {
            "error_x": {
             "color": "#2a3f5f"
            },
            "error_y": {
             "color": "#2a3f5f"
            },
            "marker": {
             "line": {
              "color": "#E5ECF6",
              "width": 0.5
             },
             "pattern": {
              "fillmode": "overlay",
              "size": 10,
              "solidity": 0.2
             }
            },
            "type": "bar"
           }
          ],
          "barpolar": [
           {
            "marker": {
             "line": {
              "color": "#E5ECF6",
              "width": 0.5
             },
             "pattern": {
              "fillmode": "overlay",
              "size": 10,
              "solidity": 0.2
             }
            },
            "type": "barpolar"
           }
          ],
          "carpet": [
           {
            "aaxis": {
             "endlinecolor": "#2a3f5f",
             "gridcolor": "white",
             "linecolor": "white",
             "minorgridcolor": "white",
             "startlinecolor": "#2a3f5f"
            },
            "baxis": {
             "endlinecolor": "#2a3f5f",
             "gridcolor": "white",
             "linecolor": "white",
             "minorgridcolor": "white",
             "startlinecolor": "#2a3f5f"
            },
            "type": "carpet"
           }
          ],
          "choropleth": [
           {
            "colorbar": {
             "outlinewidth": 0,
             "ticks": ""
            },
            "type": "choropleth"
           }
          ],
          "contour": [
           {
            "colorbar": {
             "outlinewidth": 0,
             "ticks": ""
            },
            "colorscale": [
             [
              0,
              "#0d0887"
             ],
             [
              0.1111111111111111,
              "#46039f"
             ],
             [
              0.2222222222222222,
              "#7201a8"
             ],
             [
              0.3333333333333333,
              "#9c179e"
             ],
             [
              0.4444444444444444,
              "#bd3786"
             ],
             [
              0.5555555555555556,
              "#d8576b"
             ],
             [
              0.6666666666666666,
              "#ed7953"
             ],
             [
              0.7777777777777778,
              "#fb9f3a"
             ],
             [
              0.8888888888888888,
              "#fdca26"
             ],
             [
              1,
              "#f0f921"
             ]
            ],
            "type": "contour"
           }
          ],
          "contourcarpet": [
           {
            "colorbar": {
             "outlinewidth": 0,
             "ticks": ""
            },
            "type": "contourcarpet"
           }
          ],
          "heatmap": [
           {
            "colorbar": {
             "outlinewidth": 0,
             "ticks": ""
            },
            "colorscale": [
             [
              0,
              "#0d0887"
             ],
             [
              0.1111111111111111,
              "#46039f"
             ],
             [
              0.2222222222222222,
              "#7201a8"
             ],
             [
              0.3333333333333333,
              "#9c179e"
             ],
             [
              0.4444444444444444,
              "#bd3786"
             ],
             [
              0.5555555555555556,
              "#d8576b"
             ],
             [
              0.6666666666666666,
              "#ed7953"
             ],
             [
              0.7777777777777778,
              "#fb9f3a"
             ],
             [
              0.8888888888888888,
              "#fdca26"
             ],
             [
              1,
              "#f0f921"
             ]
            ],
            "type": "heatmap"
           }
          ],
          "heatmapgl": [
           {
            "colorbar": {
             "outlinewidth": 0,
             "ticks": ""
            },
            "colorscale": [
             [
              0,
              "#0d0887"
             ],
             [
              0.1111111111111111,
              "#46039f"
             ],
             [
              0.2222222222222222,
              "#7201a8"
             ],
             [
              0.3333333333333333,
              "#9c179e"
             ],
             [
              0.4444444444444444,
              "#bd3786"
             ],
             [
              0.5555555555555556,
              "#d8576b"
             ],
             [
              0.6666666666666666,
              "#ed7953"
             ],
             [
              0.7777777777777778,
              "#fb9f3a"
             ],
             [
              0.8888888888888888,
              "#fdca26"
             ],
             [
              1,
              "#f0f921"
             ]
            ],
            "type": "heatmapgl"
           }
          ],
          "histogram": [
           {
            "marker": {
             "pattern": {
              "fillmode": "overlay",
              "size": 10,
              "solidity": 0.2
             }
            },
            "type": "histogram"
           }
          ],
          "histogram2d": [
           {
            "colorbar": {
             "outlinewidth": 0,
             "ticks": ""
            },
            "colorscale": [
             [
              0,
              "#0d0887"
             ],
             [
              0.1111111111111111,
              "#46039f"
             ],
             [
              0.2222222222222222,
              "#7201a8"
             ],
             [
              0.3333333333333333,
              "#9c179e"
             ],
             [
              0.4444444444444444,
              "#bd3786"
             ],
             [
              0.5555555555555556,
              "#d8576b"
             ],
             [
              0.6666666666666666,
              "#ed7953"
             ],
             [
              0.7777777777777778,
              "#fb9f3a"
             ],
             [
              0.8888888888888888,
              "#fdca26"
             ],
             [
              1,
              "#f0f921"
             ]
            ],
            "type": "histogram2d"
           }
          ],
          "histogram2dcontour": [
           {
            "colorbar": {
             "outlinewidth": 0,
             "ticks": ""
            },
            "colorscale": [
             [
              0,
              "#0d0887"
             ],
             [
              0.1111111111111111,
              "#46039f"
             ],
             [
              0.2222222222222222,
              "#7201a8"
             ],
             [
              0.3333333333333333,
              "#9c179e"
             ],
             [
              0.4444444444444444,
              "#bd3786"
             ],
             [
              0.5555555555555556,
              "#d8576b"
             ],
             [
              0.6666666666666666,
              "#ed7953"
             ],
             [
              0.7777777777777778,
              "#fb9f3a"
             ],
             [
              0.8888888888888888,
              "#fdca26"
             ],
             [
              1,
              "#f0f921"
             ]
            ],
            "type": "histogram2dcontour"
           }
          ],
          "mesh3d": [
           {
            "colorbar": {
             "outlinewidth": 0,
             "ticks": ""
            },
            "type": "mesh3d"
           }
          ],
          "parcoords": [
           {
            "line": {
             "colorbar": {
              "outlinewidth": 0,
              "ticks": ""
             }
            },
            "type": "parcoords"
           }
          ],
          "pie": [
           {
            "automargin": true,
            "type": "pie"
           }
          ],
          "scatter": [
           {
            "fillpattern": {
             "fillmode": "overlay",
             "size": 10,
             "solidity": 0.2
            },
            "type": "scatter"
           }
          ],
          "scatter3d": [
           {
            "line": {
             "colorbar": {
              "outlinewidth": 0,
              "ticks": ""
             }
            },
            "marker": {
             "colorbar": {
              "outlinewidth": 0,
              "ticks": ""
             }
            },
            "type": "scatter3d"
           }
          ],
          "scattercarpet": [
           {
            "marker": {
             "colorbar": {
              "outlinewidth": 0,
              "ticks": ""
             }
            },
            "type": "scattercarpet"
           }
          ],
          "scattergeo": [
           {
            "marker": {
             "colorbar": {
              "outlinewidth": 0,
              "ticks": ""
             }
            },
            "type": "scattergeo"
           }
          ],
          "scattergl": [
           {
            "marker": {
             "colorbar": {
              "outlinewidth": 0,
              "ticks": ""
             }
            },
            "type": "scattergl"
           }
          ],
          "scattermapbox": [
           {
            "marker": {
             "colorbar": {
              "outlinewidth": 0,
              "ticks": ""
             }
            },
            "type": "scattermapbox"
           }
          ],
          "scatterpolar": [
           {
            "marker": {
             "colorbar": {
              "outlinewidth": 0,
              "ticks": ""
             }
            },
            "type": "scatterpolar"
           }
          ],
          "scatterpolargl": [
           {
            "marker": {
             "colorbar": {
              "outlinewidth": 0,
              "ticks": ""
             }
            },
            "type": "scatterpolargl"
           }
          ],
          "scatterternary": [
           {
            "marker": {
             "colorbar": {
              "outlinewidth": 0,
              "ticks": ""
             }
            },
            "type": "scatterternary"
           }
          ],
          "surface": [
           {
            "colorbar": {
             "outlinewidth": 0,
             "ticks": ""
            },
            "colorscale": [
             [
              0,
              "#0d0887"
             ],
             [
              0.1111111111111111,
              "#46039f"
             ],
             [
              0.2222222222222222,
              "#7201a8"
             ],
             [
              0.3333333333333333,
              "#9c179e"
             ],
             [
              0.4444444444444444,
              "#bd3786"
             ],
             [
              0.5555555555555556,
              "#d8576b"
             ],
             [
              0.6666666666666666,
              "#ed7953"
             ],
             [
              0.7777777777777778,
              "#fb9f3a"
             ],
             [
              0.8888888888888888,
              "#fdca26"
             ],
             [
              1,
              "#f0f921"
             ]
            ],
            "type": "surface"
           }
          ],
          "table": [
           {
            "cells": {
             "fill": {
              "color": "#EBF0F8"
             },
             "line": {
              "color": "white"
             }
            },
            "header": {
             "fill": {
              "color": "#C8D4E3"
             },
             "line": {
              "color": "white"
             }
            },
            "type": "table"
           }
          ]
         },
         "layout": {
          "annotationdefaults": {
           "arrowcolor": "#2a3f5f",
           "arrowhead": 0,
           "arrowwidth": 1
          },
          "autotypenumbers": "strict",
          "coloraxis": {
           "colorbar": {
            "outlinewidth": 0,
            "ticks": ""
           }
          },
          "colorscale": {
           "diverging": [
            [
             0,
             "#8e0152"
            ],
            [
             0.1,
             "#c51b7d"
            ],
            [
             0.2,
             "#de77ae"
            ],
            [
             0.3,
             "#f1b6da"
            ],
            [
             0.4,
             "#fde0ef"
            ],
            [
             0.5,
             "#f7f7f7"
            ],
            [
             0.6,
             "#e6f5d0"
            ],
            [
             0.7,
             "#b8e186"
            ],
            [
             0.8,
             "#7fbc41"
            ],
            [
             0.9,
             "#4d9221"
            ],
            [
             1,
             "#276419"
            ]
           ],
           "sequential": [
            [
             0,
             "#0d0887"
            ],
            [
             0.1111111111111111,
             "#46039f"
            ],
            [
             0.2222222222222222,
             "#7201a8"
            ],
            [
             0.3333333333333333,
             "#9c179e"
            ],
            [
             0.4444444444444444,
             "#bd3786"
            ],
            [
             0.5555555555555556,
             "#d8576b"
            ],
            [
             0.6666666666666666,
             "#ed7953"
            ],
            [
             0.7777777777777778,
             "#fb9f3a"
            ],
            [
             0.8888888888888888,
             "#fdca26"
            ],
            [
             1,
             "#f0f921"
            ]
           ],
           "sequentialminus": [
            [
             0,
             "#0d0887"
            ],
            [
             0.1111111111111111,
             "#46039f"
            ],
            [
             0.2222222222222222,
             "#7201a8"
            ],
            [
             0.3333333333333333,
             "#9c179e"
            ],
            [
             0.4444444444444444,
             "#bd3786"
            ],
            [
             0.5555555555555556,
             "#d8576b"
            ],
            [
             0.6666666666666666,
             "#ed7953"
            ],
            [
             0.7777777777777778,
             "#fb9f3a"
            ],
            [
             0.8888888888888888,
             "#fdca26"
            ],
            [
             1,
             "#f0f921"
            ]
           ]
          },
          "colorway": [
           "#636efa",
           "#EF553B",
           "#00cc96",
           "#ab63fa",
           "#FFA15A",
           "#19d3f3",
           "#FF6692",
           "#B6E880",
           "#FF97FF",
           "#FECB52"
          ],
          "font": {
           "color": "#2a3f5f"
          },
          "geo": {
           "bgcolor": "white",
           "lakecolor": "white",
           "landcolor": "#E5ECF6",
           "showlakes": true,
           "showland": true,
           "subunitcolor": "white"
          },
          "hoverlabel": {
           "align": "left"
          },
          "hovermode": "closest",
          "mapbox": {
           "style": "light"
          },
          "paper_bgcolor": "white",
          "plot_bgcolor": "#E5ECF6",
          "polar": {
           "angularaxis": {
            "gridcolor": "white",
            "linecolor": "white",
            "ticks": ""
           },
           "bgcolor": "#E5ECF6",
           "radialaxis": {
            "gridcolor": "white",
            "linecolor": "white",
            "ticks": ""
           }
          },
          "scene": {
           "xaxis": {
            "backgroundcolor": "#E5ECF6",
            "gridcolor": "white",
            "gridwidth": 2,
            "linecolor": "white",
            "showbackground": true,
            "ticks": "",
            "zerolinecolor": "white"
           },
           "yaxis": {
            "backgroundcolor": "#E5ECF6",
            "gridcolor": "white",
            "gridwidth": 2,
            "linecolor": "white",
            "showbackground": true,
            "ticks": "",
            "zerolinecolor": "white"
           },
           "zaxis": {
            "backgroundcolor": "#E5ECF6",
            "gridcolor": "white",
            "gridwidth": 2,
            "linecolor": "white",
            "showbackground": true,
            "ticks": "",
            "zerolinecolor": "white"
           }
          },
          "shapedefaults": {
           "line": {
            "color": "#2a3f5f"
           }
          },
          "ternary": {
           "aaxis": {
            "gridcolor": "white",
            "linecolor": "white",
            "ticks": ""
           },
           "baxis": {
            "gridcolor": "white",
            "linecolor": "white",
            "ticks": ""
           },
           "bgcolor": "#E5ECF6",
           "caxis": {
            "gridcolor": "white",
            "linecolor": "white",
            "ticks": ""
           }
          },
          "title": {
           "x": 0.05
          },
          "xaxis": {
           "automargin": true,
           "gridcolor": "white",
           "linecolor": "white",
           "ticks": "",
           "title": {
            "standoff": 15
           },
           "zerolinecolor": "white",
           "zerolinewidth": 2
          },
          "yaxis": {
           "automargin": true,
           "gridcolor": "white",
           "linecolor": "white",
           "ticks": "",
           "title": {
            "standoff": 15
           },
           "zerolinecolor": "white",
           "zerolinewidth": 2
          }
         }
        },
        "title": {
         "text": "Companies with the Most Orders"
        },
        "xaxis": {
         "anchor": "y",
         "domain": [
          0,
          1
         ],
         "tickangle": -10,
         "title": {
          "text": "Company Name"
         }
        },
        "yaxis": {
         "anchor": "x",
         "domain": [
          0,
          1
         ],
         "title": {
          "text": "Order Count"
         }
        }
       }
      }
     },
     "metadata": {},
     "output_type": "display_data"
    }
   ],
   "source": [
    "fig = px.bar(company_purchases_top_5, \n",
    "             x='Customers.company', \n",
    "             y='Order_sum',\n",
    "             hover_data=['Total_sum'], \n",
    "             title='Companies with the Most Orders',\n",
    "             labels={'Total_sum': 'Total Sales Amount (USD)', 'Order_sum': 'Order Count', 'Customers.company': 'Company Name'},\n",
    "             text_auto=True)\n",
    "\n",
    "fig.update_layout(xaxis_title='Company Name', yaxis_title='Order Count', xaxis_tickangle=-10)\n",
    "fig.show()"
   ]
  },
  {
   "cell_type": "code",
   "execution_count": null,
   "metadata": {},
   "outputs": [],
   "source": []
  }
 ],
 "metadata": {
  "kernelspec": {
   "display_name": "Python 3",
   "language": "python",
   "name": "python3"
  },
  "language_info": {
   "codemirror_mode": {
    "name": "ipython",
    "version": 3
   },
   "file_extension": ".py",
   "mimetype": "text/x-python",
   "name": "python",
   "nbconvert_exporter": "python",
   "pygments_lexer": "ipython3",
   "version": "3.11.7"
  }
 },
 "nbformat": 4,
 "nbformat_minor": 2
}

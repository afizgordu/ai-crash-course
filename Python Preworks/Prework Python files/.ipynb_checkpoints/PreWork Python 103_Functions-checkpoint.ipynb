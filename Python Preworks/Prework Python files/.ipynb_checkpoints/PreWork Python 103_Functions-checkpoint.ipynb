{
 "cells": [
  {
   "cell_type": "markdown",
   "metadata": {},
   "source": [
    "# PreWork<br> Python 103: Functions"
   ]
  },
  {
   "cell_type": "markdown",
   "metadata": {},
   "source": [
    " PreWork, Python 103, Functions"
   ]
  },
  {
   "cell_type": "markdown",
   "metadata": {},
   "source": [
    "# <font color=\"blue\">Table of Contents</font>\n",
    "\n",
    "## Introduction to Functions in Python\n",
    "\n",
    "## User-Defined Functions\n",
    "* Define a Function\n",
    "* Call a Python function\n",
    "* Function parameters\n",
    "* Return statement\n",
    "* Scope and Lifetime of a Variable in Python\n",
    "\n",
    "## Lambda Expressions\n",
    "* Exercises\n",
    "\n",
    "## Built-in Functions\n",
    "* Filter\n",
    "* Map\n",
    "* Reduce"
   ]
  },
  {
   "cell_type": "markdown",
   "metadata": {},
   "source": [
    "# <font color=\"red\">I. Introduction to Functions in Python </font>"
   ]
  },
  {
   "cell_type": "markdown",
   "metadata": {},
   "source": [
    "**Python: Crash Course, Chapter 8**\n",
    "\n",
    "Functions are reusable blocks of statements with a name, allowing you to run that block anywhere within your program any number of times.\n",
    "\n",
    "When called, those statements are executed. So we don’t have to write the code again and again for each type of data that we want to apply it to. This is called code re-usability."
   ]
  },
  {
   "cell_type": "markdown",
   "metadata": {},
   "source": [
    "# <font color=\"red\">II. User-Defined Functions </font>"
   ]
  },
  {
   "cell_type": "markdown",
   "metadata": {},
   "source": [
    "## 2.1 Define a Function\n",
    "To define your own Python function, you use the ‘def’ keyword before its name. And its name is to be followed by parentheses, before a colon(:).\n",
    "\n",
    "__`def function_name(arguments):\n",
    "    block of code`__\n",
    "    \n",
    "The contents inside the body of the function must be equally indented. **Code for a function should be indented with 4 spaces.** <br>\n",
    "\n",
    "Code that isn't indented will not be run as part of that function.\n",
    "\n",
    "* __Rules for naming a Python function:__\n",
    "    * It can begin with either of the following: A-Z, a-z, and underscore(_).\n",
    "    * The rest of it can contain either of the following: A-Z, a-z, digits(0-9), and underscore(_).\n",
    "    * A reserved keyword may not be chosen as an identifier."
   ]
  },
  {
   "cell_type": "code",
   "execution_count": null,
   "metadata": {},
   "outputs": [],
   "source": [
    "def hello():\n",
    "    print('Hello Data Scientist!')"
   ]
  },
  {
   "cell_type": "markdown",
   "metadata": {},
   "source": [
    "## 2.2 Call a Python Function\n",
    "To use a function you need to call it. To call a Python function at a place in your code, you simply need to name it, and pass arguments, if any.\n",
    "\n",
    "The syntax is: \n",
    "\n",
    "__`function_name(arguments)`__"
   ]
  },
  {
   "cell_type": "code",
   "execution_count": null,
   "metadata": {},
   "outputs": [],
   "source": [
    "hello()"
   ]
  },
  {
   "cell_type": "markdown",
   "metadata": {},
   "source": [
    "## 2.3 Function Parameters / Arguments\n",
    "Sometimes, you may want a function to operate on some variables, and produce a result. Such a function may take any number of parameters. \n",
    "\n",
    "We can also make default values for function arguments, in case you want a parameter to be optional. <br>\n",
    "\n",
    "For example: \n",
    "\n",
    "__`def my_print(to_print = 'Hello data scientist'):\n",
    "    print(to_print)`__\n",
    "    \n",
    "Now if we call the function without an argument it will automatically print \"Hello data scientist\". Or we can pass in a parameter to override the default. \n",
    "\n",
    "__`my_print()`__ \n",
    "This will print 'Hello data scientist'\n",
    "\n",
    "__`my_print('Hello again!')`__ \n",
    "This will print 'Hello again!"
   ]
  },
  {
   "cell_type": "code",
   "execution_count": 1,
   "metadata": {},
   "outputs": [
    {
     "name": "stdout",
     "output_type": "stream",
     "text": [
      "Our new message\n"
     ]
    }
   ],
   "source": [
    "def my_print(to_print):\n",
    "    print(to_print)\n",
    "    \n",
    "message = 'Our new message'\n",
    "my_print(message)"
   ]
  },
  {
   "cell_type": "code",
   "execution_count": 2,
   "metadata": {},
   "outputs": [
    {
     "name": "stdout",
     "output_type": "stream",
     "text": [
      "Hello data scientis\n",
      "Hello again!\n"
     ]
    }
   ],
   "source": [
    "def my_print(to_print = 'Hello data scientis'):\n",
    "    print(to_print)\n",
    "    \n",
    "my_print()\n",
    "my_print('Hello again!')"
   ]
  },
  {
   "cell_type": "markdown",
   "metadata": {},
   "source": [
    "## 2.4 Return Statement\n",
    "A Python function may optionally return a value. This value can be a result that it produced on its execution. Or it can be something you specify- an expression or a value.\n",
    "\n",
    "As soon as a return statement is reached in a function, the function stops executing. Then, the next statement after the function call is executed."
   ]
  },
  {
   "cell_type": "code",
   "execution_count": 3,
   "metadata": {},
   "outputs": [
    {
     "name": "stdout",
     "output_type": "stream",
     "text": [
      "9\n"
     ]
    }
   ],
   "source": [
    "def sum_it(a, b):\n",
    "    return a + b\n",
    "the_answer = sum_it(4, 5)\n",
    "print(the_answer)"
   ]
  },
  {
   "cell_type": "markdown",
   "metadata": {},
   "source": [
    "## 2.5 Scope and Lifetime of a Variable in Python\n",
    "A variable isn’t visible everywhere and alive every time. We study this in functions because the scope and lifetime for a variable depend on whether it is inside a function.\n",
    "\n",
    "* A variable’s scope tells us where in the program it is visible. A variable may have local or global scope.\n",
    "* A variable’s lifetime is the period of time for which it resides in the memory."
   ]
  },
  {
   "cell_type": "code",
   "execution_count": 4,
   "metadata": {},
   "outputs": [
    {
     "name": "stdout",
     "output_type": "stream",
     "text": [
      "I'm from the outside!\n",
      "I'm from the inside!\n",
      "I'm from the outside!\n"
     ]
    },
    {
     "ename": "NameError",
     "evalue": "name 'message2' is not defined",
     "output_type": "error",
     "traceback": [
      "\u001b[0;31m---------------------------------------------------------------------------\u001b[0m",
      "\u001b[0;31mNameError\u001b[0m                                 Traceback (most recent call last)",
      "Cell \u001b[0;32mIn[4], line 12\u001b[0m\n\u001b[1;32m     10\u001b[0m print_message()\n\u001b[1;32m     11\u001b[0m \u001b[38;5;28mprint\u001b[39m(message1)\n\u001b[0;32m---> 12\u001b[0m \u001b[38;5;28mprint\u001b[39m(message2)\n",
      "\u001b[0;31mNameError\u001b[0m: name 'message2' is not defined"
     ]
    }
   ],
   "source": [
    "# This is the outermost space for our code statements. This is the global space. \n",
    "# So any variable defined here would be available to any nested statements. \n",
    "message1 = \"I'm from the outside!\"\n",
    "\n",
    "def print_message():\n",
    "    message2 = \"I'm from the inside!\"\n",
    "    print(message1)\n",
    "    print(message2)\n",
    "    \n",
    "print_message()\n",
    "print(message1)\n",
    "print(message2)"
   ]
  },
  {
   "cell_type": "markdown",
   "metadata": {},
   "source": [
    "As we can see, there is an error when we run the above cell.<br>\n",
    "\n",
    "This is because the variable message2 was local to the function, so we couldn't access it when we tried to print it out of the function. <br>\n",
    "\n",
    "When working with functions, loops, and if/else statements you need to keep this scope in mind. \n",
    "\n",
    "We can give a variable global scope so that it can be accessed anywhere in the program using the syntax: \n",
    "\n",
    "__`\n",
    "message1 = \"I'm from the outside!\"\n",
    "def print_message():\n",
    "    global message2\n",
    "    message2 = \"I'm from the inside!\"\n",
    "    print(message1)\n",
    "    print(message2)`__\n",
    "    \n",
    "__`print_message()\n",
    "print(message1)\n",
    "print(message2)`__\n",
    "\n",
    "Now when we run these print statements we don't get an error. "
   ]
  },
  {
   "cell_type": "code",
   "execution_count": 5,
   "metadata": {},
   "outputs": [
    {
     "name": "stdout",
     "output_type": "stream",
     "text": [
      "I'm from the outside!\n",
      "I'm from the inside!\n",
      "I'm from the outside!\n",
      "I'm from the inside!\n"
     ]
    }
   ],
   "source": [
    "message1 = \"I'm from the outside!\"\n",
    "def print_message():\n",
    "    global message2\n",
    "    message2 = \"I'm from the inside!\"\n",
    "    print(message1)\n",
    "    print(message2)\n",
    "\n",
    "print_message()\n",
    "print(message1)\n",
    "print(message2)"
   ]
  },
  {
   "cell_type": "markdown",
   "metadata": {},
   "source": [
    "__Note__: Using global statements is not considered best practice because it's harder to find where a variable is defined. <br>\n",
    "This example is just to help you learn about scope."
   ]
  },
  {
   "cell_type": "markdown",
   "metadata": {},
   "source": [
    "## Let's practice with functions!\n",
    "### <font color=\"green\"> Exercise 1: Reverse it! </font>\n",
    "Write a function that asks for a string with multiple words. In other words, **print the same string, but with the words in backwards order.** \n",
    "\n",
    "For example, if the string is \"I am a data scientist\" should print \"scientist data a am I\".\n",
    "\n",
    "You can split a string based on a given set of characters. For example: \n",
    "\n",
    "__`test_string = 'I am a data scientist'\n",
    "result = test_string.split('a')`__\n",
    "\n",
    "Would output: __`['I ', 'm ', ' d', 't', ' scientist']`__\n",
    "\n",
    "You can split on any character you like (including space). \n",
    "\n",
    "You can also join a list of strings together: \n",
    "__`'a'.join(result)`__ \n",
    "would output: \"I am a data scientist\""
   ]
  },
  {
   "cell_type": "markdown",
   "metadata": {},
   "source": [
    "Before you dive in, write a pseudo-code for your code."
   ]
  },
  {
   "cell_type": "markdown",
   "metadata": {},
   "source": [
    "* Ask the user word\n",
    "* call reverse_word function\n",
    "* reverse_word Func:\n",
    "    * split the word by spaces and save list\n",
    "    * reverse the splitted words\n",
    "    * create a empty string value (reversed word)\n",
    "    * start for loop in splitted words:\n",
    "        * append item to reversed word with spaces\n",
    "      \n"
   ]
  },
  {
   "cell_type": "markdown",
   "metadata": {},
   "source": [
    "Follow your pseudo-code!"
   ]
  },
  {
   "cell_type": "code",
   "execution_count": 23,
   "metadata": {},
   "outputs": [
    {
     "name": "stdin",
     "output_type": "stream",
     "text": [
      "Enter Word:  benim adım zafer mesut bilen\n"
     ]
    },
    {
     "name": "stdout",
     "output_type": "stream",
     "text": [
      "bilen mesut zafer adım benim \n"
     ]
    }
   ],
   "source": [
    "def reverse_word(word):\n",
    "    splitted_words = word.split(' ')\n",
    "    splitted_words.reverse()\n",
    "    reversed_word = \"\"\n",
    "    for c in splitted_words:\n",
    "        reversed_word += c + ' '\n",
    "    print(reversed_word)\n",
    "    \n",
    "input_word = input(\"Enter Word: \")\n",
    "reverse_word(input_word)"
   ]
  },
  {
   "cell_type": "markdown",
   "metadata": {},
   "source": [
    "### <font color=\"green\"> Exercise 2: Determining Divisors </font>\n",
    "Create a function that asks the user for a number and then prints out a list of all the divisors of that number. \n",
    "\n",
    "A divisor is a number that divides evenly into another number. <br>\n",
    "\n",
    "For example, 3 is a divisor of 9 because 9 / 3 has no remainder. "
   ]
  },
  {
   "cell_type": "markdown",
   "metadata": {},
   "source": [
    "Before you dive in, write a pseudo-code for your code."
   ]
  },
  {
   "cell_type": "markdown",
   "metadata": {},
   "source": [
    "*  Ask the user number\n",
    "*  call determine_divisors:\n",
    "    * start For loop from 1 to inputted number plus one:\n",
    "        * check the remainder when dividing the entered number by the number of iterations\n",
    "            * if remainder is 0 -> append iteraiton number in divisors list\n",
    "            * else -> continue\n",
    "        * Return divisors list "
   ]
  },
  {
   "cell_type": "markdown",
   "metadata": {},
   "source": [
    "Follow your pseudo-code!"
   ]
  },
  {
   "cell_type": "code",
   "execution_count": 28,
   "metadata": {},
   "outputs": [
    {
     "name": "stdin",
     "output_type": "stream",
     "text": [
      "Enter a number:  15\n"
     ]
    },
    {
     "name": "stdout",
     "output_type": "stream",
     "text": [
      "[1, 3, 5, 15]\n"
     ]
    }
   ],
   "source": [
    "def determine_divisors(number):\n",
    "    divisors = []\n",
    "    for i in range(1,number+1):\n",
    "        if number % i == 0 :\n",
    "            divisors.append(i)\n",
    "        else:\n",
    "            continue\n",
    "    return divisors\n",
    "\n",
    "input_number = input('Enter a number: ')\n",
    "divisors = determine_divisors(int(input_number))\n",
    "print(divisors)\n"
   ]
  },
  {
   "cell_type": "markdown",
   "metadata": {},
   "source": [
    "### <font color=\"green\"> Exercise 3: Picking Primes </font>\n",
    "Ask the user for a number and determine whether the number is prime or not. \n",
    "\n",
    "(For those who have forgotten, a prime number is a number that has no divisors.)"
   ]
  },
  {
   "cell_type": "markdown",
   "metadata": {},
   "source": [
    "Before you dive in, write a pseudo-code for your code."
   ]
  },
  {
   "cell_type": "markdown",
   "metadata": {},
   "source": [
    "* Ask the user number\n",
    "* call is_prime function:\n",
    "    * check the number is prime:\n",
    "        * if the number is prime -> \"Prime Number\"\n",
    "        * else -> \"Not Prime Number\""
   ]
  },
  {
   "cell_type": "markdown",
   "metadata": {},
   "source": [
    "Follow your pseudo-code!"
   ]
  },
  {
   "cell_type": "code",
   "execution_count": 33,
   "metadata": {},
   "outputs": [
    {
     "name": "stdin",
     "output_type": "stream",
     "text": [
      "Enter Number:  13\n"
     ]
    },
    {
     "name": "stdout",
     "output_type": "stream",
     "text": [
      "Prime Number!\n"
     ]
    }
   ],
   "source": [
    "def is_prime(number):\n",
    "    divisors = []\n",
    "    for i in range(1,number+1):\n",
    "        if number % i == 0 :\n",
    "            divisors.append(i)\n",
    "        else:\n",
    "            continue\n",
    "    if divisors == [1, number] : \n",
    "        print(\"Prime Number!\")\n",
    "    else: \n",
    "        print(\"Not Prime Number\")\n",
    "        \n",
    "input_number =  input('Enter Number: ')\n",
    "is_prime(int(input_number))"
   ]
  },
  {
   "cell_type": "markdown",
   "metadata": {},
   "source": [
    "### <font color=\"green\"> Exercise 4: Guessing Game </font>\n",
    "Generate a random integer from 1 to 9 (inclusive). <br>\n",
    "**Phase 1**: Ask the user to guess the number, and tell them whether their guess was too low, too high, or correct. <br>\n",
    "**Phase 2**: Keep the game going until the user gets the correct number. <br>\n",
    "**Bonus:** Keep track of how many guesses the user has taken, and when the game ends print this out. \n",
    "\n",
    "You'll need to use the random module for this question. See here for more info on random: [Python 3](https://docs.python.org/3/library/random.html)"
   ]
  },
  {
   "cell_type": "markdown",
   "metadata": {},
   "source": [
    "Before you dive in, write a pseudo-code for your code."
   ]
  },
  {
   "cell_type": "markdown",
   "metadata": {},
   "source": [
    "* import random lib\n",
    "* start game function:\n",
    "    * generate a random integer between 1-9\n",
    "    * start while loop , while inputted number is not equal to random number:\n",
    "        * define a counter variable (0)\n",
    "        * Ask the user guess\n",
    "        * inc the counter\n",
    "        * check the guess number:\n",
    "            * if the guess number equal to random number -> you guessed it!, counter -> Break\n",
    "            * if the guess number greater than random number -> you are high\n",
    "            * else -> you are low"
   ]
  },
  {
   "cell_type": "markdown",
   "metadata": {},
   "source": [
    "Follow your pseudo-code!"
   ]
  },
  {
   "cell_type": "code",
   "execution_count": 45,
   "metadata": {},
   "outputs": [
    {
     "name": "stdin",
     "output_type": "stream",
     "text": [
      "Enter your guess:  3\n"
     ]
    },
    {
     "name": "stdout",
     "output_type": "stream",
     "text": [
      "you are low\n"
     ]
    },
    {
     "name": "stdin",
     "output_type": "stream",
     "text": [
      "Enter your guess:  5\n"
     ]
    },
    {
     "name": "stdout",
     "output_type": "stream",
     "text": [
      "you are low\n"
     ]
    },
    {
     "name": "stdin",
     "output_type": "stream",
     "text": [
      "Enter your guess:  8\n"
     ]
    },
    {
     "name": "stdout",
     "output_type": "stream",
     "text": [
      "you are low\n"
     ]
    },
    {
     "name": "stdin",
     "output_type": "stream",
     "text": [
      "Enter your guess:  9\n"
     ]
    },
    {
     "name": "stdout",
     "output_type": "stream",
     "text": [
      "you guessed it in 4 tries\n"
     ]
    }
   ],
   "source": [
    "import random\n",
    "def game():\n",
    "    random_number = random.randint(1,9)\n",
    "    counter = 0\n",
    "    guess = 0\n",
    "    while guess != random_number:\n",
    "        guess = int(input('Enter your guess: '))\n",
    "        counter +=1\n",
    "        if guess == random_number:\n",
    "            print('you guessed it in {} tries'.format(counter))\n",
    "            break\n",
    "        if guess > random_number:\n",
    "            print('you are high')\n",
    "        else:\n",
    "            print('you are low')\n",
    "game()"
   ]
  },
  {
   "cell_type": "markdown",
   "metadata": {},
   "source": [
    "### <font color=\"green\"> Exercise 5: Rock-Paper-Scissors </font>\n",
    "Create a function to make a two-player Rock-Paper-Scissors game. <br>\n",
    "\n",
    "Ask for moves using input, compare them, print out a congratuations message to the winner, and ask if the players would like to start a new game. \n",
    "\n",
    "Remember the rules:\n",
    "* Rock beats scissors\n",
    "* Scissors beats paper\n",
    "* Paper beats rock"
   ]
  },
  {
   "cell_type": "markdown",
   "metadata": {},
   "source": [
    "Before you dive in, write a pseudo-code for your code."
   ]
  },
  {
   "cell_type": "markdown",
   "metadata": {},
   "source": [
    "* call game function:\n",
    "    * define is_keep = 1\n",
    "    * start a while loop , while is_keep equal to 1:\n",
    "        * Ask the user_1 move\n",
    "        * Ask the user_2 move\n",
    "        * check the moves:\n",
    "            * if user_1 move equal to user_2 move -> draw\n",
    "            * if user_1 move is rock:\n",
    "                * if user_2 move is scissors -> user_1 Win!\n",
    "                * else -> user_2 Win!\n",
    "            * elif user_1 move is scissors:\n",
    "                * if user_2 move is paper -> user_1 Win!\n",
    "                * else -> user_2 win!\n",
    "            * elif user_1 move is paper:\n",
    "                * if user_2 mnove is rock -> user_1 Win!\n",
    "                * else -> user_2 win!\n",
    "        * Ask the users keep play game\n",
    "        * check answer :\n",
    "            * if answer is 1 -> continue\n",
    "            * else -> break"
   ]
  },
  {
   "cell_type": "markdown",
   "metadata": {},
   "source": [
    "Follow your pseudo-code!"
   ]
  },
  {
   "cell_type": "code",
   "execution_count": 51,
   "metadata": {},
   "outputs": [
    {
     "name": "stdin",
     "output_type": "stream",
     "text": [
      "user_1 Enter your move:  rock\n",
      "user_2 Enter your move:  rock\n"
     ]
    },
    {
     "name": "stdout",
     "output_type": "stream",
     "text": [
      "Draw!\n"
     ]
    },
    {
     "name": "stdin",
     "output_type": "stream",
     "text": [
      "do you wan to keep play 2\n"
     ]
    }
   ],
   "source": [
    "def game():\n",
    "    is_keep = 1 \n",
    "    while is_keep == 1:\n",
    "        user_1 = input('user_1 Enter your move: ')\n",
    "        user_2 = input('user_2 Enter your move: ')\n",
    "        win_1 = 'User 1 Win!'\n",
    "        win_2 ='User 2 Win!'\n",
    "        draw = 'Draw!'\n",
    "\n",
    "        if user_1 == user_2:\n",
    "            print(draw)\n",
    "        elif user_1 == 'rock':\n",
    "            if user_2 == 'scissors':\n",
    "                print(win_1)\n",
    "            else:\n",
    "                print(win_2)\n",
    "        elif user_1 == 'scissors':\n",
    "            if user_2 == 'paper':\n",
    "                print(win_1)\n",
    "            else:\n",
    "                print(win_2)\n",
    "        elif user_1 == 'paper':\n",
    "            if user_2 == 'rock':\n",
    "                print(win_1)\n",
    "            else:\n",
    "                print(win_2)\n",
    "\n",
    "        is_keep = int(input('do you wan to keep play'))\n",
    "        if is_keep == 1:\n",
    "            continue\n",
    "        else:\n",
    "            break\n",
    "\n",
    "game()"
   ]
  },
  {
   "cell_type": "markdown",
   "metadata": {},
   "source": [
    "### <font color=\"green\"> Exercise 6: Guessing Game v2 </font>\n",
    "Update your guessing game function to make sure the user is guessing integers (not strings or floats!), and use **try & except** statements here!"
   ]
  },
  {
   "cell_type": "code",
   "execution_count": 54,
   "metadata": {},
   "outputs": [
    {
     "name": "stdin",
     "output_type": "stream",
     "text": [
      "Enter your guess:  a\n"
     ]
    },
    {
     "name": "stdout",
     "output_type": "stream",
     "text": [
      "please enter integer !!\n"
     ]
    },
    {
     "name": "stdin",
     "output_type": "stream",
     "text": [
      "Enter your guess:  12\n"
     ]
    },
    {
     "name": "stdout",
     "output_type": "stream",
     "text": [
      "you are high\n"
     ]
    },
    {
     "name": "stdin",
     "output_type": "stream",
     "text": [
      "Enter your guess:  12\n"
     ]
    },
    {
     "name": "stdout",
     "output_type": "stream",
     "text": [
      "you are high\n"
     ]
    },
    {
     "name": "stdin",
     "output_type": "stream",
     "text": [
      "Enter your guess:  1\n"
     ]
    },
    {
     "name": "stdout",
     "output_type": "stream",
     "text": [
      "you are low\n"
     ]
    },
    {
     "name": "stdin",
     "output_type": "stream",
     "text": [
      "Enter your guess:  5\n"
     ]
    },
    {
     "name": "stdout",
     "output_type": "stream",
     "text": [
      "you are high\n"
     ]
    },
    {
     "name": "stdin",
     "output_type": "stream",
     "text": [
      "Enter your guess:  4\n"
     ]
    },
    {
     "name": "stdout",
     "output_type": "stream",
     "text": [
      "you guessed it in 5 tries\n"
     ]
    }
   ],
   "source": [
    "import random\n",
    "def game():\n",
    "    random_number = random.randint(1,9)\n",
    "    counter = 0\n",
    "    guess = 0\n",
    "    while guess != random_number:\n",
    "        guess = input('Enter your guess: ')\n",
    "        try:\n",
    "            guess = int(guess)\n",
    "        except ValueError:\n",
    "            print('please enter integer !!')\n",
    "            continue\n",
    "        counter +=1\n",
    "        if guess == random_number:\n",
    "            print('you guessed it in {} tries'.format(counter))\n",
    "            break\n",
    "        if guess > random_number:\n",
    "            print('you are high')\n",
    "        else:\n",
    "            print('you are low')\n",
    "game()"
   ]
  },
  {
   "cell_type": "markdown",
   "metadata": {},
   "source": [
    "# <font color=\"red\">III. Lambda Expressions </font>"
   ]
  },
  {
   "cell_type": "markdown",
   "metadata": {},
   "source": [
    "A __lambda expression__ is the anonymous equivalent of a normal function whose body is a single return statement. <br>\n",
    "\n",
    "You can use a Lambda in situations where we would need a function that is going to be used only once. \n",
    "\n",
    "The syntax is: \n",
    "__`lambda parameters:expression`__\n",
    "\n",
    "For example:"
   ]
  },
  {
   "cell_type": "code",
   "execution_count": 55,
   "metadata": {},
   "outputs": [
    {
     "data": {
      "text/plain": [
       "7"
      ]
     },
     "execution_count": 55,
     "metadata": {},
     "output_type": "execute_result"
    }
   ],
   "source": [
    "f = lambda x,y: x + y\n",
    "f(3,4)"
   ]
  },
  {
   "cell_type": "code",
   "execution_count": 56,
   "metadata": {},
   "outputs": [
    {
     "name": "stdout",
     "output_type": "stream",
     "text": [
      "22\n",
      "33\n"
     ]
    }
   ],
   "source": [
    "def myfunc(n):\n",
    "    return lambda a : a * n\n",
    "\n",
    "mydoubler = myfunc(2)\n",
    "mytripler = myfunc(3)\n",
    "\n",
    "print(mydoubler(11)) \n",
    "print(mytripler(11))"
   ]
  },
  {
   "cell_type": "markdown",
   "metadata": {},
   "source": [
    "# <font color=\"red\">IV. Built-in Functions </font>"
   ]
  },
  {
   "cell_type": "markdown",
   "metadata": {},
   "source": [
    "The __filter(), map(), and reduce()__ functions are built-in methods that treat an entire sequence of elements as a unit, so that you don't have to name it and work with the elements individually. This way, control statements like __for__ loops, __if__ statements, and __return__ statements are not necessary. <br>\n",
    "\n",
    "These functions are very versatile. They frequently used in Python language to keep the code more readable and better. <br>\n",
    "\n",
    "They are usually used in conjunction with __lambda expressions__ and __list comprehensions__."
   ]
  },
  {
   "cell_type": "markdown",
   "metadata": {},
   "source": [
    "## 4.1 filter()\n",
    "Filter takes a sequence and returns a list of elements from the sequence for which an __expression__ or __function__ is true. \n",
    "\n",
    "Syntax: \n",
    "\n",
    "__`filter(function, sequence)`__\n",
    "\n",
    "For example:"
   ]
  },
  {
   "cell_type": "code",
   "execution_count": 57,
   "metadata": {},
   "outputs": [
    {
     "name": "stdout",
     "output_type": "stream",
     "text": [
      "[6, 7, 8, 9, 10]\n"
     ]
    }
   ],
   "source": [
    "my_list = [1,2,3,4,5,6,7,8,9,10]\n",
    "filtered_list = list(filter(lambda x: x>5, my_list))\n",
    "print(filtered_list)"
   ]
  },
  {
   "cell_type": "markdown",
   "metadata": {},
   "source": [
    "Use a lambda function with filter() to filter out the odd numbers from my_list so that only even numbers remain. <br>\n",
    "**Save the list to the variable evens.**"
   ]
  },
  {
   "cell_type": "code",
   "execution_count": null,
   "metadata": {},
   "outputs": [],
   "source": []
  },
  {
   "cell_type": "markdown",
   "metadata": {},
   "source": [
    "Use a lambda function with filter() to create a list of negative numbers from new_list. <br>\n",
    "**Save the list to the variable negatives.**"
   ]
  },
  {
   "cell_type": "code",
   "execution_count": null,
   "metadata": {},
   "outputs": [],
   "source": [
    "new_list = [-1,2,-3,4,-5]"
   ]
  },
  {
   "cell_type": "code",
   "execution_count": null,
   "metadata": {},
   "outputs": [],
   "source": []
  },
  {
   "cell_type": "markdown",
   "metadata": {},
   "source": [
    "## 4.2 map()\n",
    "The map() function applies an expression or function to each element in a sequence and returns a list of the results. \n",
    "\n",
    "Syntax: \n",
    "\n",
    "__`map(function, sequence)`__\n",
    "\n",
    "For example:"
   ]
  },
  {
   "cell_type": "code",
   "execution_count": null,
   "metadata": {},
   "outputs": [],
   "source": [
    "my_list = [1,2,3,4,5,6,7,8,9,10]\n",
    "mapped_list = list(map(lambda x: x+1, my_list))\n",
    "print(mapped_list)"
   ]
  },
  {
   "cell_type": "markdown",
   "metadata": {},
   "source": [
    "Use a lambda function with map() to divide all numbers in my_list by two. <br>\n",
    "**Save the list to the variable by_two.**"
   ]
  },
  {
   "cell_type": "code",
   "execution_count": null,
   "metadata": {},
   "outputs": [],
   "source": []
  },
  {
   "cell_type": "markdown",
   "metadata": {},
   "source": [
    "Use a lambda function with map() to square all numbers in my_list. <br> \n",
    "**Save the list to the variable squared.**"
   ]
  },
  {
   "cell_type": "code",
   "execution_count": null,
   "metadata": {},
   "outputs": [],
   "source": []
  },
  {
   "cell_type": "markdown",
   "metadata": {},
   "source": [
    "## 4.3 reduce()\n",
    "The reduce() function applies an expression or a function from left to right, to reduce the sequence to a single value. <br>\n",
    "The __function__ must be called with 2 arguments, which are the first 2 items of the sequence. <br>\n",
    "reduce() then uses the result of the first call as one of the arguments and the third item as <br>\n",
    "the second and so on until it iterates through the whole list. \n",
    "\n",
    "Syntax: \n",
    "\n",
    "__`reduce(function, sequence, [, init])`__\n",
    "The init portion is optional. \n",
    "\n",
    "For example:"
   ]
  },
  {
   "cell_type": "code",
   "execution_count": 1,
   "metadata": {},
   "outputs": [],
   "source": [
    "from functools import reduce"
   ]
  },
  {
   "cell_type": "code",
   "execution_count": 2,
   "metadata": {},
   "outputs": [
    {
     "name": "stdout",
     "output_type": "stream",
     "text": [
      "55\n"
     ]
    }
   ],
   "source": [
    "my_list = [1,2,3,4,5,6,7,8,9,10]\n",
    "reduced_list = reduce(lambda x,y: x+y, my_list)\n",
    "print(reduced_list)"
   ]
  },
  {
   "cell_type": "markdown",
   "metadata": {},
   "source": [
    "We can use the optional __init__ item for reduce to include that element as well. <br>\n",
    "For example, this function will be 100 more than our above example: \n",
    "\n",
    "__`my_list = [1,2,3,4,5,6,7,8,9,10]\n",
    "reduced_plus = reduce(lambda x,y: x+y, my_list, 100)\n",
    "print(reduced_plus)`__"
   ]
  },
  {
   "cell_type": "code",
   "execution_count": null,
   "metadata": {},
   "outputs": [],
   "source": []
  },
  {
   "cell_type": "markdown",
   "metadata": {},
   "source": [
    "<img src='http://www.thedevmasters.com/wp-content/uploads/2015/12/cropped-pp.png' width = '50' height = '50' align = 'right'>"
   ]
  }
 ],
 "metadata": {
  "anaconda-cloud": {},
  "kernelspec": {
   "display_name": "Python 3 (ipykernel)",
   "language": "python",
   "name": "python3"
  },
  "language_info": {
   "codemirror_mode": {
    "name": "ipython",
    "version": 3
   },
   "file_extension": ".py",
   "mimetype": "text/x-python",
   "name": "python",
   "nbconvert_exporter": "python",
   "pygments_lexer": "ipython3",
   "version": "3.11.7"
  }
 },
 "nbformat": 4,
 "nbformat_minor": 4
}

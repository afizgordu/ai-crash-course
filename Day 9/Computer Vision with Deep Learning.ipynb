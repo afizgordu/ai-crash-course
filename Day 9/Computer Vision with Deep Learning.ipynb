{
 "cells": [
  {
   "cell_type": "markdown",
   "metadata": {},
   "source": [
    "# Computer Vision With Deep Learning"
   ]
  },
  {
   "cell_type": "code",
   "execution_count": 2,
   "metadata": {},
   "outputs": [],
   "source": [
    "from bing_image_downloader import downloader"
   ]
  },
  {
   "cell_type": "code",
   "execution_count": 5,
   "metadata": {},
   "outputs": [
    {
     "name": "stdout",
     "output_type": "stream",
     "text": [
      "[%] Downloading Images to /Users/zafer/Documents/GitHub/ai-crash-course/Day 9/dataset/bird\n",
      "\n",
      "\n",
      "[!!]Indexing page: 1\n",
      "\n",
      "[%] Indexed 95 Images on Page 1.\n",
      "\n",
      "===============================================\n",
      "\n",
      "[%] Downloading Image #1 from https://2.bp.blogspot.com/-g9STQqFQ9Ik/UScse2IifqI/AAAAAAAAA08/mh1immEtVZo/s1600/bluebird.jpg\n",
      "[%] File Downloaded !\n",
      "\n",
      "[%] Downloading Image #2 from https://res.cloudinary.com/dk-find-out/image/upload/q_80,w_960,f_auto/DCTM_Penguin_UK_DK_AL526630_wkmzns.jpg\n",
      "[%] File Downloaded !\n",
      "\n",
      "[%] Downloading Image #3 from http://hdqwalls.com/download/1/colorful-parrot-bird.jpg\n",
      "[%] File Downloaded !\n",
      "\n",
      "[%] Downloading Image #4 from http://upload.wikimedia.org/wikipedia/commons/e/e6/Masked_Lovebird_(Agapornis_personata)_-Auckland_Zoo.jpg\n",
      "[%] File Downloaded !\n",
      "\n",
      "[%] Downloading Image #5 from http://2.bp.blogspot.com/_LDF9z4ZzZHo/TQZI-CUPl2I/AAAAAAAAAfc/--DuSZRxywM/s1600/bird_1008.jpg\n",
      "[%] File Downloaded !\n",
      "\n",
      "[%] Downloading Image #6 from https://www.thesprucepets.com/thmb/Agf-EFUEF6Qh1YhgQ66hXqDoT1E=/2121x1414/filters:no_upscale():max_bytes(150000):strip_icc()/RainbowLorikeets-GettyImages-739246151-59ba9529b501e800140d7cfe.jpg\n",
      "[%] File Downloaded !\n",
      "\n",
      "[%] Downloading Image #7 from http://4.bp.blogspot.com/_LDF9z4ZzZHo/TQZPzB2h_TI/AAAAAAAAAkA/tMyV8AJvBGI/s1600/Webshots_59014.jpg\n",
      "[%] File Downloaded !\n",
      "\n",
      "[%] Downloading Image #8 from https://www.hdwallpapers.in/download/saffron_finch_yellow_bird_is_sitting_on_purple_flower_4k_hd_birds-HD.jpg\n",
      "[%] File Downloaded !\n",
      "\n",
      "[%] Downloading Image #9 from https://carolinabirds.org/People/Morffew_LG/Bluebird,_Eastern_Andy_Morffew.jpg\n",
      "[%] File Downloaded !\n",
      "\n",
      "[%] Downloading Image #10 from https://static.scientificamerican.com/sciam/cache/file/7A715AD8-449D-4B5A-ABA2C5D92D9B5A21_source.png\n",
      "[%] File Downloaded !\n",
      "\n",
      "[%] Downloading Image #11 from https://images.pexels.com/photos/110812/pexels-photo-110812.jpeg?cs=srgb&amp;dl=birds-macro-branch-110812.jpg&amp;fm=jpg\n",
      "[%] File Downloaded !\n",
      "\n",
      "[%] Downloading Image #12 from http://www.australianwildlifejourneys.com/files/504_rainbowlorikeetvic.large.jpg\n",
      "[%] File Downloaded !\n",
      "\n",
      "[%] Downloading Image #13 from https://www.australiangeographic.com.au/wp-content/uploads/2020/12/E1R8HC-scaled.jpg\n",
      "[%] File Downloaded !\n",
      "\n",
      "[%] Downloading Image #14 from http://trevorsbirding.com/wp-content/uploads/2013/07/IMG_0870-1600x1200.jpg\n",
      "[%] File Downloaded !\n",
      "\n",
      "[%] Downloading Image #15 from https://4.bp.blogspot.com/-ZHtv88LI3xY/V8AcRofrX2I/AAAAAAAAAIQ/6NXulcRccdk_dq_qtsKPp9Yinn5YgRU8wCLcB/s1600/Pet+Birds+Australia+-+An+Introduction+to+Rosellas.jpg\n",
      "[%] File Downloaded !\n",
      "\n",
      "[%] Downloading Image #16 from https://www.australiananimallearningzone.com/wp-content/uploads/2012/03/Rainbow-Lorikeet.jpg\n",
      "[%] File Downloaded !\n",
      "\n",
      "[%] Downloading Image #17 from https://i.ytimg.com/vi/JY2E1R6jo6k/maxresdefault.jpg\n",
      "[%] File Downloaded !\n",
      "\n",
      "[%] Downloading Image #18 from https://www.trevorsbirding.com/wp-content/uploads/2017/02/Cleland-Wildlife-Park_20060908_091.jpg\n",
      "[%] File Downloaded !\n",
      "\n",
      "[%] Downloading Image #19 from https://c.pxhere.com/photos/93/5f/kookaburra_australia_australianbirds_flickrsbestcreatures_publicdomaindedicationcc0-174963.jpg!d\n",
      "[%] File Downloaded !\n",
      "\n",
      "[%] Downloading Image #20 from https://images.squarespace-cdn.com/content/v1/587d6250d482e9eee8c47666/1609628325004-BQ6DGQL8QNGD7GNJJOK9/1D3F5673.jpg\n",
      "[%] File Downloaded !\n",
      "\n",
      "[%] Downloading Image #21 from https://www.nespthreatenedspecies.edu.au/media/avjlnbqz/eastern_yellow_robin_graham-winterflood-cc-by-sa-2-0_w.jpg\n",
      "[%] File Downloaded !\n",
      "\n",
      "[%] Downloading Image #22 from https://upload.wikimedia.org/wikipedia/commons/thumb/1/10/Cracticus_tibicen_hypoleuca_male_domain.jpg/1200px-Cracticus_tibicen_hypoleuca_male_domain.jpg\n",
      "[Error]Invalid image, not saving https://upload.wikimedia.org/wikipedia/commons/thumb/1/10/Cracticus_tibicen_hypoleuca_male_domain.jpg/1200px-Cracticus_tibicen_hypoleuca_male_domain.jpg\n",
      "\n",
      "[!] Issue getting: https://upload.wikimedia.org/wikipedia/commons/thumb/1/10/Cracticus_tibicen_hypoleuca_male_domain.jpg/1200px-Cracticus_tibicen_hypoleuca_male_domain.jpg\n",
      "[!] Error:: Invalid image, not saving https://upload.wikimedia.org/wikipedia/commons/thumb/1/10/Cracticus_tibicen_hypoleuca_male_domain.jpg/1200px-Cracticus_tibicen_hypoleuca_male_domain.jpg\n",
      "\n",
      "[%] Downloading Image #22 from http://www.survival.org.au/images/birds/masked_lapwing_big.jpg\n",
      "[%] File Downloaded !\n",
      "\n",
      "[%] Downloading Image #23 from http://livingjunglepetshop.com.au/wp-content/uploads/2014/11/Eastern-Rosella-Parrot-Parakeet.jpg\n",
      "[%] File Downloaded !\n",
      "\n",
      "[%] Downloading Image #24 from https://3.bp.blogspot.com/-Tpems8FwuFM/U5ARanN5hwI/AAAAAAAAPFE/WOdabjBKVoM/s1600/Eastern+Rosella+2014-05-22-0188+Jells+Park+Vic.jpg\n",
      "[%] File Downloaded !\n",
      "\n",
      "[%] Downloading Image #25 from https://i.pinimg.com/736x/b0/a1/e8/b0a1e8b11f103b93033c50262f891c5f.jpg\n",
      "[%] File Downloaded !\n",
      "\n",
      "[%] Downloading Image #26 from https://www.animalspot.net/wp-content/uploads/2023/08/Birds-of-Australia.jpg\n",
      "[%] File Downloaded !\n",
      "\n",
      "[%] Downloading Image #27 from http://3.bp.blogspot.com/-FVHQUyic75o/TyES0hU6maI/AAAAAAAADBg/678xEz13qeA/s1600/Yellow-throated+Miner.jpg\n",
      "[%] File Downloaded !\n",
      "\n",
      "[%] Downloading Image #28 from https://birdcount.in/wp-content/uploads/2019/04/WB-Treepie-Sneashish-Sinha-S53815057.jpg\n",
      "[%] File Downloaded !\n",
      "\n",
      "[%] Downloading Image #29 from https://get.pxhere.com/photo/bird-white-wildlife-wild-beak-black-fauna-close-up-australia-vertebrate-queensland-brambling-perching-bird-emberizidae-cinclidae-pied-butcherbird-butcherbird-781915.jpg\n",
      "[%] File Downloaded !\n",
      "\n",
      "[%] Downloading Image #30 from https://images.squarespace-cdn.com/content/v1/587d6250d482e9eee8c47666/1609557580378-SM6G65VOV8P1B425ESM3/1D3F1580.jpg\n",
      "[%] File Downloaded !\n",
      "\n",
      "[%] Downloading Image #31 from https://mikelentzphotography.com/wp-content/uploads/2017/04/Ferruginous-Hawk-SLIDESHOW.jpg\n",
      "[%] File Downloaded !\n",
      "\n",
      "[%] Downloading Image #32 from http://www.zastavki.com/pictures/1920x1200/2011/Animals_Birds_Birds_of_Prey_029766_.jpg\n",
      "[%] File Downloaded !\n",
      "\n",
      "[%] Downloading Image #33 from http://countryasides.files.wordpress.com/2010/07/birds-of-prey.jpg\n",
      "[Error]Invalid image, not saving http://countryasides.files.wordpress.com/2010/07/birds-of-prey.jpg\n",
      "\n",
      "[!] Issue getting: http://countryasides.files.wordpress.com/2010/07/birds-of-prey.jpg\n",
      "[!] Error:: Invalid image, not saving http://countryasides.files.wordpress.com/2010/07/birds-of-prey.jpg\n",
      "\n",
      "[%] Downloading Image #33 from https://www.ncbp.co.uk/wp-content/uploads/2016/12/Birds-of-Prey-5427-e1480720847915.jpg\n",
      "[%] File Downloaded !\n",
      "\n",
      "[%] Downloading Image #34 from http://www.aboutbritain.com/images/attraction/big/international-centre-for-birds-of-prey-0832.jpg\n",
      "[%] File Downloaded !\n",
      "\n",
      "[%] Downloading Image #35 from https://upload.wikimedia.org/wikipedia/commons/thumb/d/df/Birds_of_Prey_Diversity.jpg/1200px-Birds_of_Prey_Diversity.jpg\n",
      "[%] File Downloaded !\n",
      "\n",
      "[%] Downloading Image #36 from https://i0.wp.com/birdwatchinghq.com/wp-content/uploads/2021/02/common-birds-of-prey-scaled.jpg\n",
      "[!] Issue getting: https://i0.wp.com/birdwatchinghq.com/wp-content/uploads/2021/02/common-birds-of-prey-scaled.jpg\n",
      "[!] Error:: HTTP Error 404: Not Found\n",
      "[%] Downloading Image #36 from http://1.bp.blogspot.com/-i3jd4sSDlo4/ToVT_x2SLeI/AAAAAAAAA88/5JMl7PB8ldg/s1600/birdsofprey4.jpg\n",
      "[%] File Downloaded !\n",
      "\n",
      "[%] Downloading Image #37 from https://cdn.naturettl.com/wp-content/uploads/2019/07/27062027/photograph-birds-of-prey-7.jpg\n",
      "[%] File Downloaded !\n",
      "\n",
      "[%] Downloading Image #38 from https://wallpapercave.com/wp/ANHG6ss.jpg\n",
      "[%] File Downloaded !\n",
      "\n",
      "[%] Downloading Image #39 from https://www.publicdomainpictures.net/pictures/10000/velka/947-1264707128oSD4.jpg\n",
      "[%] File Downloaded !\n",
      "\n",
      "[%] Downloading Image #40 from https://preview.redd.it/w6yogn2mgbmz.jpg?auto=webp&amp;s=2363c5b17e6952ecd1c16caf7d30796028359d21\n",
      "[Error]Invalid image, not saving https://preview.redd.it/w6yogn2mgbmz.jpg?auto=webp&amp;s=2363c5b17e6952ecd1c16caf7d30796028359d21\n",
      "\n",
      "[!] Issue getting: https://preview.redd.it/w6yogn2mgbmz.jpg?auto=webp&amp;s=2363c5b17e6952ecd1c16caf7d30796028359d21\n",
      "[!] Error:: Invalid image, not saving https://preview.redd.it/w6yogn2mgbmz.jpg?auto=webp&amp;s=2363c5b17e6952ecd1c16caf7d30796028359d21\n",
      "\n",
      "[%] Downloading Image #40 from http://www.funchap.com/wp-content/uploads/2014/02/bird-of-prey-amazing.jpg\n",
      "[!] Issue getting: http://www.funchap.com/wp-content/uploads/2014/02/bird-of-prey-amazing.jpg\n",
      "[!] Error:: HTTP Error 404: Not Found\n",
      "[%] Downloading Image #40 from http://1.bp.blogspot.com/-h5dfqvpfEAY/ThjhWnlRvTI/AAAAAAAAAGY/7hLgveXpE8w/s1600/bird-of-prey.jpg\n",
      "[%] File Downloaded !\n",
      "\n",
      "[%] Downloading Image #41 from https://4.bp.blogspot.com/-7aDSgAUyGH4/U0LAqXiQk8I/AAAAAAAADfg/8qyrYx2GYS4/s1600/sc+ch+18.jpg\n",
      "[%] File Downloaded !\n",
      "\n",
      "[%] Downloading Image #42 from http://getwallpapers.com/wallpaper/full/f/9/f/861528-gorgerous-birds-of-prey-wallpaper-3840x2160-full-hd.jpg\n",
      "[%] File Downloaded !\n",
      "\n",
      "[%] Downloading Image #43 from https://www.lovethegarden.com/sites/default/files/content/articles/UK_birds-of-prey-sparrowhawk.jpg\n",
      "[%] File Downloaded !\n",
      "\n",
      "[%] Downloading Image #44 from https://www.southernliving.com/thmb/r0UJ_Z0Vx7gWzgndWJFjcNL2Y8c=/1500x0/filters:no_upscale():max_bytes(150000):strip_icc()/gettyimages-582179417-2000-bc657558a4aa4360a80c2743a5a459fd.jpg\n",
      "[%] File Downloaded !\n",
      "\n",
      "[%] Downloading Image #45 from http://www.nonicayphotography.com/wp-content/uploads/2014/11/IMG_5206Red-shoulderedHawk.jpg\n",
      "[%] File Downloaded !\n",
      "\n",
      "[%] Downloading Image #46 from https://res.cloudinary.com/dk-find-out/image/upload/q_80,w_960,f_auto/DCTM_Penguin_UK_DK_AL509900_x6xrny.jpg\n",
      "[%] File Downloaded !\n",
      "\n",
      "[%] Downloading Image #47 from https://4.bp.blogspot.com/-QqsOeTyT9o8/T_6O9_yNYWI/AAAAAAAAAJQ/ievh0G-uSPg/s1600/2.jpg\n",
      "[%] File Downloaded !\n",
      "\n",
      "[%] Downloading Image #48 from http://www.wildnest.in/wp-content/uploads/2015/06/red-headed-trogaon.jpg\n",
      "[Error]Invalid image, not saving http://www.wildnest.in/wp-content/uploads/2015/06/red-headed-trogaon.jpg\n",
      "\n",
      "[!] Issue getting: http://www.wildnest.in/wp-content/uploads/2015/06/red-headed-trogaon.jpg\n",
      "[!] Error:: Invalid image, not saving http://www.wildnest.in/wp-content/uploads/2015/06/red-headed-trogaon.jpg\n",
      "\n",
      "[%] Downloading Image #48 from http://4.bp.blogspot.com/_rDtcVgvGrqs/S_P2QWyJtaI/AAAAAAAAGpY/4oF7V1tawbA/s1600/5715+Indian+Roller+Jan+23,+2010+WP-789896.jpg\n",
      "[%] File Downloaded !\n",
      "\n",
      "[%] Downloading Image #49 from https://webneel.com/daily/sites/default/files/images/daily/12-2013/48-bird-incredible-india.jpg\n",
      "[%] File Downloaded !\n",
      "\n",
      "[%] Downloading Image #50 from https://3.bp.blogspot.com/-xI5viDwKYSU/ToGjAHWhhbI/AAAAAAAAAPs/1ia_a8PIdBE/s1600/National+Bird+of+India.jpg\n",
      "[%] File Downloaded !\n",
      "\n",
      "[%] Downloading Image #51 from https://a-z-animals.com/media/2023/01/shutterstock_1147396844.jpg\n",
      "[%] File Downloaded !\n",
      "\n",
      "[%] Downloading Image #52 from https://i.pinimg.com/originals/33/6b/f3/336bf3141c0164c22ffca1c3035a91ff.jpg\n",
      "[%] File Downloaded !\n",
      "\n",
      "[%] Downloading Image #53 from http://i2.wp.com/wildnest.in/wp-content/uploads/2015/06/top-most-beautiful-birds-india.jpg?fit=1024%2C768\n",
      "[!] Issue getting: http://i2.wp.com/wildnest.in/wp-content/uploads/2015/06/top-most-beautiful-birds-india.jpg?fit=1024%2C768\n",
      "[!] Error:: HTTP Error 400: Bad Request\n",
      "[%] Downloading Image #53 from https://jeevoka.com/story-images/180-67046921-9fd7-4247-993c-607c38f50eeb.jpg\n",
      "[%] File Downloaded !\n",
      "\n",
      "[%] Downloading Image #54 from https://i.ytimg.com/vi/CXa7XvFQriA/maxresdefault.jpg\n",
      "[%] File Downloaded !\n",
      "\n",
      "[%] Downloading Image #55 from https://www.animalspot.net/wp-content/uploads/2023/08/Birds-of-India.jpg\n",
      "[%] File Downloaded !\n",
      "\n",
      "[%] Downloading Image #56 from https://www.worldatlas.com/r/w1200/upload/95/0a/a0/nilgir-pipit.jpg\n",
      "[%] File Downloaded !\n",
      "\n",
      "[%] Downloading Image #57 from http://farm3.staticflickr.com/2454/3677391728_be5824a9a5_o.jpg\n",
      "[%] File Downloaded !\n",
      "\n",
      "[%] Downloading Image #58 from https://preview.redd.it/8puk5e8uect31.jpg?auto=webp&amp;s=9c13152f3fcde639ac65dfc2ad9dfd5df2a409ed\n",
      "[Error]Invalid image, not saving https://preview.redd.it/8puk5e8uect31.jpg?auto=webp&amp;s=9c13152f3fcde639ac65dfc2ad9dfd5df2a409ed\n",
      "\n",
      "[!] Issue getting: https://preview.redd.it/8puk5e8uect31.jpg?auto=webp&amp;s=9c13152f3fcde639ac65dfc2ad9dfd5df2a409ed\n",
      "[!] Error:: Invalid image, not saving https://preview.redd.it/8puk5e8uect31.jpg?auto=webp&amp;s=9c13152f3fcde639ac65dfc2ad9dfd5df2a409ed\n",
      "\n",
      "[%] Downloading Image #58 from https://i.ytimg.com/vi/MqfVjwjg-Ws/maxresdefault.jpg\n",
      "[%] File Downloaded !\n",
      "\n",
      "[%] Downloading Image #59 from https://lelow.online/wp-content/uploads/2022/11/types-of-birds-in-india-with-names.jpg\n",
      "[%] File Downloaded !\n",
      "\n",
      "[%] Downloading Image #60 from https://2.bp.blogspot.com/-yjFvXaL3FBY/UCYK1q_0NpI/AAAAAAAAAgw/NLHYuVmeD6s/s1600/IndianRoller_AngadAchappa_Portrait_IMG_2357.jpg\n",
      "[%] File Downloaded !\n",
      "\n",
      "[%] Downloading Image #61 from https://www.responsiblevacation.com/ImagesClient/dtg-cr3485-birdwatching-india-woodpidgeon.jpg\n",
      "[%] File Downloaded !\n",
      "\n",
      "[%] Downloading Image #62 from http://3.bp.blogspot.com/-bE6E0tcoECU/VdKJDaIcnbI/AAAAAAAAPCE/mXfdD3W-UKA/s1600/indian-birds-golden-eagle-aquila-chrysaetos.jpg\n",
      "[%] File Downloaded !\n",
      "\n",
      "[%] Downloading Image #63 from https://i.pinimg.com/originals/64/b8/60/64b860081ceb2394af56a0d1d562b004.jpg\n",
      "[%] File Downloaded !\n",
      "\n",
      "[%] Downloading Image #64 from https://www.publicdomainpictures.net/pictures/310000/velka/image-1572431031UTZ.jpg\n",
      "[%] File Downloaded !\n",
      "\n",
      "[%] Downloading Image #65 from https://www.woodlandtrust.org.uk/media/1319/blackbird-male-wtml-1084426-nature-photographers-ltd.jpg\n",
      "[!] Issue getting: https://www.woodlandtrust.org.uk/media/1319/blackbird-male-wtml-1084426-nature-photographers-ltd.jpg\n",
      "[!] Error:: HTTP Error 403: Forbidden\n",
      "[%] Downloading Image #65 from http://www.zastavki.com/pictures/originals/2015/Animals___Birds_Flying_colorful_bird_093472_.jpg\n",
      "[%] File Downloaded !\n",
      "\n",
      "[%] Downloading Image #66 from http://upload.wikimedia.org/wikipedia/commons/c/ce/Raggiana_Bird-of-Paradise_wild_5.jpg\n",
      "[%] File Downloaded !\n",
      "\n",
      "[%] Downloading Image #67 from https://dickstannard.com/wp-content/uploads/2013/07/Beautiful-Birds-Wallpapers-Birds-Flying-Birds-Pictures-Woodland-Kingfisher-Cute-Birds-Blue-Birds.jpg\n",
      "[%] File Downloaded !\n",
      "\n",
      "[%] Downloading Image #68 from http://upload.wikimedia.org/wikipedia/commons/2/24/Yellow_bird.JPG\n",
      "[%] File Downloaded !\n",
      "\n",
      "[%] Downloading Image #69 from http://upload.wikimedia.org/wikipedia/commons/8/8f/Costa-Rica-colibri-humming-bird.jpg\n",
      "[%] File Downloaded !\n",
      "\n",
      "[%] Downloading Image #70 from http://avise-birds.bio.uci.edu/passeriformes/oriolidae/oriolus_chinensis/images/1bnor.jpg\n",
      "[%] File Downloaded !\n",
      "\n",
      "[%] Downloading Image #71 from https://www.thesprucepets.com/thmb/IwZVp3PLB9M99LZJa2Qhpb9LIys=/2121x1414/filters:fill(auto,1)/GettyImages-494789683-5830bb3f3df78c6f6ab34cec.jpg\n",
      "[%] File Downloaded !\n",
      "\n",
      "[%] Downloading Image #72 from http://upload.wikimedia.org/wikipedia/commons/9/9d/Bird_in_flight_wings_spread.jpg\n",
      "[%] File Downloaded !\n",
      "\n",
      "[%] Downloading Image #73 from https://www.sonyaz.net/images/galeri/2021/05/1621624182_bird_1_cover.png\n",
      "[%] File Downloaded !\n",
      "\n",
      "[%] Downloading Image #74 from https://3.bp.blogspot.com/-28LBrKztvfg/V6HFlO1P6HI/AAAAAAAAACc/mVU8-dSt85cI7O7P-9REbmCBlHNgotB1QCEw/s1600/IMG_4984-Edit.jpg\n",
      "[%] File Downloaded !\n",
      "\n",
      "[%] Downloading Image #75 from https://i.ytimg.com/vi/jgkSWb8JpDM/maxresdefault.jpg\n",
      "[%] File Downloaded !\n",
      "\n",
      "[%] Downloading Image #76 from https://i.pinimg.com/originals/65/5a/8f/655a8f14e9220e7c9f0e44ec77415844.jpg\n",
      "[%] File Downloaded !\n",
      "\n",
      "[%] Downloading Image #77 from https://i.pinimg.com/originals/cb/13/cc/cb13ccae547a8a5519acf9578ba6f0bd.jpg\n",
      "[%] File Downloaded !\n",
      "\n",
      "[%] Downloading Image #78 from https://static01.nyt.com/images/2023/07/05/science/sibley-7-real/sibley-7-real-superJumbo-v2.jpg\n",
      "[%] File Downloaded !\n",
      "\n",
      "[%] Downloading Image #79 from https://i.ytimg.com/vi/L0-JgcckxxM/maxresdefault.jpg\n",
      "[%] File Downloaded !\n",
      "\n",
      "[%] Downloading Image #80 from https://iheartcraftythings.com/wp-content/uploads/2021/05/How-to-draw-bird-8.jpg\n",
      "[%] File Downloaded !\n",
      "\n",
      "[%] Downloading Image #81 from https://www.wallpaperflare.com/static/449/793/226/bird-animal-nature-wildlife-wallpaper.jpg\n",
      "[%] File Downloaded !\n",
      "\n",
      "[%] Downloading Image #82 from https://img.freepik.com/free-photo/bird-with-blue-head-red-head-sits-pink-flower_1340-22892.jpg\n",
      "[%] File Downloaded !\n",
      "\n",
      "[%] Downloading Image #83 from https://i.pinimg.com/originals/30/f4/6e/30f46edc8c2566349578eab1e7448e33.jpg\n",
      "[%] File Downloaded !\n",
      "\n",
      "[%] Downloading Image #84 from https://www.gannett-cdn.com/-mm-/4196d306438633f1803b8d6ba43c921e9b1758e4/c=0-150-3004-1847/local/-/media/2016/03/22/RenoGroup/RGJ/635942728853106592-ThinkstockPhotos-502554164.jpg?width=3004&amp;height=1697&amp;fit=crop&amp;format=pjpg&amp;auto=webp\n",
      "[%] File Downloaded !\n",
      "\n",
      "[%] Downloading Image #85 from https://www.washingtonpost.com/rf/image_1484w/2010-2019/WashingtonPost/2012/11/10/Style/Images/002_birds_of_paradise_p.046_BOP_101123_204.jpeg?t=20170517\n",
      "[%] File Downloaded !\n",
      "\n",
      "[%] Downloading Image #86 from https://img.freepik.com/free-vector/hand-drawn-bird-outline-illustration_23-2149286008.jpg\n",
      "[%] File Downloaded !\n",
      "\n",
      "\n",
      "\n",
      "[!!]Indexing page: 2\n",
      "\n",
      "[%] Indexed 95 Images on Page 2.\n",
      "\n",
      "===============================================\n",
      "\n",
      "[%] Downloading Image #87 from https://2.bp.blogspot.com/-xvZ-e0Ox_P8/Ufi0YZkTUGI/AAAAAAAABeo/fm8fH9TQalg/s1600/IMG_0870.JPG\n",
      "[%] File Downloaded !\n",
      "\n",
      "[%] Downloading Image #88 from http://faunazoo.ru/wp-content/uploads/2018/12/Радужный-или-многоцветный-лорикет.jpg\n",
      "[!] Issue getting: http://faunazoo.ru/wp-content/uploads/2018/12/Радужный-или-многоцветный-лорикет.jpg\n",
      "[!] Error:: 'ascii' codec can't encode characters in position 32-39: ordinal not in range(128)\n",
      "[%] Downloading Image #88 from http://4.bp.blogspot.com/-u1m508tL0wk/TksvN-p_6xI/AAAAAAAABIw/76Dq2y8eQhs/s1600/508b+-+Western+Spinebill.jpg\n",
      "[%] File Downloaded !\n",
      "\n",
      "[%] Downloading Image #89 from http://www.bhmpics.com/wallpapers/birds_of_prey-1920x1080.jpg\n",
      "[%] File Downloaded !\n",
      "\n",
      "[%] Downloading Image #90 from http://www.lovethegarden.com/sites/default/files/content/articles/UK_birds-of-prey-marsh-harrier.jpg\n",
      "[%] File Downloaded !\n",
      "\n",
      "[%] Downloading Image #91 from http://1.bp.blogspot.com/-flq9HR41PNo/TgnpFnLFilI/AAAAAAAABak/76rGKuef2nM/s1600/Birds+Of+Prey.jpg\n",
      "[%] File Downloaded !\n",
      "\n",
      "[%] Downloading Image #92 from https://1.bp.blogspot.com/-jTlbMiPEf5c/TdZv78r9WaI/AAAAAAAAGaQ/5I0Z_xNro60/s1600/Indian-blue-peacock-7.jpg\n",
      "[%] File Downloaded !\n",
      "\n",
      "[%] Downloading Image #93 from https://bonjournature.fr/wp-content/uploads/oiseaux-costa-rica-guide-1-682x1024.jpg\n",
      "[%] File Downloaded !\n",
      "\n",
      "[%] Downloading Image #94 from https://rukminim1.flixcart.com/image/1664/1664/book/0/4/0/birds-of-india-om-field-guides-original-imadh6zxyqudbshr.jpeg?q=90\n",
      "[%] File Downloaded !\n",
      "\n",
      "\n",
      "\n",
      "[!!]Indexing page: 3\n",
      "\n",
      "[%] Indexed 35 Images on Page 3.\n",
      "\n",
      "===============================================\n",
      "\n",
      "[%] Downloading Image #95 from http://animalstime.com/wp-content/uploads/2016/02/eastern-bluebird-2.jpg\n",
      "[%] File Downloaded !\n",
      "\n",
      "[%] Downloading Image #96 from https://2.bp.blogspot.com/-kJjyZCBY9C4/TdVWQB4KVrI/AAAAAAAAARA/wG0OlWgxYOQ/s1600/bird_wallpaper_desktop_wallpapers_beautiful-bird-for-free-wallpaper-of-desktop.jpg\n",
      "[%] File Downloaded !\n",
      "\n",
      "[%] Downloading Image #97 from https://d.newsweek.com/en/full/1321869/robin-getty-stock.jpg\n",
      "[%] File Downloaded !\n",
      "\n",
      "[%] Downloading Image #98 from https://cdn.wallpapersafari.com/24/15/hiwZ7Q.jpg\n",
      "[%] File Downloaded !\n",
      "\n",
      "[%] Downloading Image #99 from http://upload.wikimedia.org/wikipedia/commons/c/c1/Willet_bird.jpg\n",
      "[%] File Downloaded !\n",
      "\n",
      "[%] Downloading Image #100 from https://cdn.wallpapersafari.com/46/15/0BvLwt.jpg\n",
      "[%] File Downloaded !\n",
      "\n",
      "\n",
      "\n",
      "[%] Done. Downloaded 100 images.\n"
     ]
    }
   ],
   "source": [
    "downloader.download(\"bird\", limit=100, adult_filter_off=False)"
   ]
  },
  {
   "cell_type": "code",
   "execution_count": 1,
   "metadata": {},
   "outputs": [],
   "source": [
    "import tensorflow as tf"
   ]
  },
  {
   "cell_type": "code",
   "execution_count": 5,
   "metadata": {},
   "outputs": [],
   "source": [
    "mnist = tf.keras.datasets.mnist"
   ]
  },
  {
   "cell_type": "code",
   "execution_count": 6,
   "metadata": {},
   "outputs": [],
   "source": [
    "(train_images, train_labels), (test_images, test_labels) = mnist.load_data()"
   ]
  },
  {
   "cell_type": "code",
   "execution_count": 8,
   "metadata": {},
   "outputs": [
    {
     "data": {
      "text/plain": [
       "(60000, 28, 28)"
      ]
     },
     "execution_count": 8,
     "metadata": {},
     "output_type": "execute_result"
    }
   ],
   "source": [
    "train_images.shape"
   ]
  },
  {
   "cell_type": "code",
   "execution_count": 7,
   "metadata": {},
   "outputs": [],
   "source": [
    "import matplotlib.pyplot as plt"
   ]
  },
  {
   "cell_type": "code",
   "execution_count": 9,
   "metadata": {},
   "outputs": [
    {
     "data": {
      "text/plain": [
       "<matplotlib.image.AxesImage at 0x30712cad0>"
      ]
     },
     "execution_count": 9,
     "metadata": {},
     "output_type": "execute_result"
    },
    {
     "data": {
      "image/png": "[encoded data removed]",
      "text/plain": [
       "<Figure size 640x480 with 1 Axes>"
      ]
     },
     "metadata": {},
     "output_type": "display_data"
    }
   ],
   "source": [
    "plt.imshow(train_images[0], cmap='gray')"
   ]
  },
  {
   "cell_type": "code",
   "execution_count": 10,
   "metadata": {},
   "outputs": [
    {
     "data": {
      "text/plain": [
       "<matplotlib.image.AxesImage at 0x307e79b10>"
      ]
     },
     "execution_count": 10,
     "metadata": {},
     "output_type": "execute_result"
    },
    {
     "data": {
      "image/png": "[encoded data removed]",
      "text/plain": [
       "<Figure size 640x480 with 1 Axes>"
      ]
     },
     "metadata": {},
     "output_type": "display_data"
    }
   ],
   "source": [
    "plt.imshow(train_images[15000], cmap='gray')\n"
   ]
  },
  {
   "cell_type": "code",
   "execution_count": 11,
   "metadata": {},
   "outputs": [
    {
     "data": {
      "text/plain": [
       "<matplotlib.image.AxesImage at 0x307e52710>"
      ]
     },
     "execution_count": 11,
     "metadata": {},
     "output_type": "execute_result"
    },
    {
     "data": {
      "image/png": "[encoded data removed]",
      "text/plain": [
       "<Figure size 640x480 with 1 Axes>"
      ]
     },
     "metadata": {},
     "output_type": "display_data"
    }
   ],
   "source": [
    "plt.imshow(train_images[14], cmap='gray')\n"
   ]
  },
  {
   "cell_type": "code",
   "execution_count": 12,
   "metadata": {},
   "outputs": [
    {
     "data": {
      "text/plain": [
       "(10000, 28, 28)"
      ]
     },
     "execution_count": 12,
     "metadata": {},
     "output_type": "execute_result"
    }
   ],
   "source": [
    "test_images.shape"
   ]
  },
  {
   "cell_type": "code",
   "execution_count": 13,
   "metadata": {},
   "outputs": [
    {
     "data": {
      "text/plain": [
       "array([[  0,   0,   0,   0,   0,   0,   0,   0,   0,   0,   0,   0,   0,\n",
       "          0,   0,   0,   0,   0,   0,   0,   0,   0,   0,   0,   0,   0,\n",
       "          0,   0],\n",
       "       [  0,   0,   0,   0,   0,   0,   0,   0,   0,   0,   0,   0,   0,\n",
       "          0,   0,   0,   0,   0,   0,   0,   0,   0,   0,   0,   0,   0,\n",
       "          0,   0],\n",
       "       [  0,   0,   0,   0,   0,   0,   0,   0,   0,   0,   0,   0,   0,\n",
       "          0,   0,   0,   0,   0,   0,   0,   0,   0,   0,   0,   0,   0,\n",
       "          0,   0],\n",
       "       [  0,   0,   0,   0,   0,   0,   0,   0,   0,   0,   0,   0,   0,\n",
       "          0,   0,   0,   0,   0,   0,   0,   0,   0,   0,   0,   0,   0,\n",
       "          0,   0],\n",
       "       [  0,   0,   0,   0,   0,   0,   0,   0,   0,   0,   0,   0,   0,\n",
       "          0,   0,   0,   0,   0,   0,   0,   0,   0,   0,   0,   0,   0,\n",
       "          0,   0],\n",
       "       [  0,   0,   0,   0,   0,   0,   0,   0,   0,   0,   0,   0,   0,\n",
       "          0,   0,   0,   0,   0,   0,   0,   0,   0,   0,   0,   0,   0,\n",
       "          0,   0],\n",
       "       [  0,   0,   0,   0,   0,   0,   0,   0,   0,   0,   0,   0,   0,\n",
       "          0,   0,   0,   0,   0,   0,   0,   0,   0,   0,   0,   0,   0,\n",
       "          0,   0],\n",
       "       [  0,   0,   0,   0,   0,   0,   0,   0,   0,  49, 125, 235, 255,\n",
       "        254, 122,   0,   0,   0,   0,   0,  13, 134, 180,  57,   0,   0,\n",
       "          0,   0],\n",
       "       [  0,   0,   0,   0,   0,   0,   0,   0, 163, 250, 253, 253, 253,\n",
       "        253, 252,  63,   0,   0,   0,  16, 199, 253, 253, 117,   0,   0,\n",
       "          0,   0],\n",
       "       [  0,   0,   0,   0,   0,   0,  52, 168, 252, 253, 213,  32,  12,\n",
       "         49, 109,   3,   0,   0,   0, 157, 253, 253, 183,   6,   0,   0,\n",
       "          0,   0],\n",
       "       [  0,   0,   0,   0,   0,   0, 171, 253, 103,  19,  12,   0,   0,\n",
       "          0,   0,   0,   0,   0,  91, 247, 253, 235,   8,   0,   0,   0,\n",
       "          0,   0],\n",
       "       [  0,   0,   0,   0,   0,   0, 248, 253,  19,   0,   0,   0,   0,\n",
       "          0,   0,   0,  21, 189, 245, 253, 243,  77,   0,   0,   0,   0,\n",
       "          0,   0],\n",
       "       [  0,   0,   0,   0,   0,   0, 201, 253, 104,   9,   0,   0,   0,\n",
       "          0,  71, 122, 228, 253, 253, 253, 113,   0,   0,   0,   0,   0,\n",
       "          0,   0],\n",
       "       [  0,   0,   0,   0,   0,   0,  18, 199, 253, 219, 215, 215, 215,\n",
       "        215, 245, 253, 253, 253, 253, 182,  15,   0,   0,   0,   0,   0,\n",
       "          0,   0],\n",
       "       [  0,   0,   0,   0,   0,   0,   0,  20, 165, 205, 253, 253, 253,\n",
       "        191, 175, 193, 253, 253, 221,  16,   0,   0,   0,   0,   0,   0,\n",
       "          0,   0],\n",
       "       [  0,   0,   0,   0,   0,   0,   0,   0,   0,  20,  51,  51,  51,\n",
       "         11,   0,  59, 253, 253, 110,   0,   0,   0,   0,   0,   0,   0,\n",
       "          0,   0],\n",
       "       [  0,   0,   0,   0,   0,   0,   0,   0,   0,   0,   0,   0,   0,\n",
       "          0,   0,  93, 253, 218,  19,   0,   0,   0,   0,   0,   0,   0,\n",
       "          0,   0],\n",
       "       [  0,   0,   0,   0,   0,   0,   0,   0,   0,   0,   0,   0,   0,\n",
       "          0,  80, 237, 253, 111,   0,   0,   0,   0,   0,   0,   0,   0,\n",
       "          0,   0],\n",
       "       [  0,   0,   0,   0,   0,   0,   0,   0,   0,   0,   0,   0,   0,\n",
       "          0, 196, 253, 215,  22,   0,   0,   0,   0,   0,   0,   0,   0,\n",
       "          0,   0],\n",
       "       [  0,   0,   0,   0,   0,   0,   0,   0,   0,   0,   0,   0,   0,\n",
       "         13, 206, 243,  98,   0,   0,   0,   0,   0,   0,   0,   0,   0,\n",
       "          0,   0],\n",
       "       [  0,   0,   0,   0,   0,   0,   0,   0,   0,   0,   0,   0,   0,\n",
       "         93, 253, 194,   0,   0,   0,   0,   0,   0,   0,   0,   0,   0,\n",
       "          0,   0],\n",
       "       [  0,   0,   0,   0,   0,   0,   0,   0,   0,   0,   0,   0,  51,\n",
       "        235, 253, 111,   0,   0,   0,   0,   0,   0,   0,   0,   0,   0,\n",
       "          0,   0],\n",
       "       [  0,   0,   0,   0,   0,   0,   0,   0,   0,   0,   0,   0,  79,\n",
       "        253, 246,  58,   0,   0,   0,   0,   0,   0,   0,   0,   0,   0,\n",
       "          0,   0],\n",
       "       [  0,   0,   0,   0,   0,   0,   0,   0,   0,   0,   0,   0, 155,\n",
       "        253, 178,   0,   0,   0,   0,   0,   0,   0,   0,   0,   0,   0,\n",
       "          0,   0],\n",
       "       [  0,   0,   0,   0,   0,   0,   0,   0,   0,   0,   0,   0, 135,\n",
       "        253,  68,   4,   0,   0,   0,   0,   0,   0,   0,   0,   0,   0,\n",
       "          0,   0],\n",
       "       [  0,   0,   0,   0,   0,   0,   0,   0,   0,   0,   0,   0,  79,\n",
       "        253, 253, 131,   0,   0,   0,   0,   0,   0,   0,   0,   0,   0,\n",
       "          0,   0],\n",
       "       [  0,   0,   0,   0,   0,   0,   0,   0,   0,   0,   0,   0,  39,\n",
       "        159, 152,  32,   0,   0,   0,   0,   0,   0,   0,   0,   0,   0,\n",
       "          0,   0],\n",
       "       [  0,   0,   0,   0,   0,   0,   0,   0,   0,   0,   0,   0,   0,\n",
       "          0,   0,   0,   0,   0,   0,   0,   0,   0,   0,   0,   0,   0,\n",
       "          0,   0]], dtype=uint8)"
      ]
     },
     "execution_count": 13,
     "metadata": {},
     "output_type": "execute_result"
    }
   ],
   "source": [
    "train_images[54]"
   ]
  },
  {
   "cell_type": "markdown",
   "metadata": {},
   "source": [
    "### Normalie Data"
   ]
  },
  {
   "cell_type": "code",
   "execution_count": 14,
   "metadata": {},
   "outputs": [],
   "source": [
    "train_images = train_images / 255.0\n",
    "test_images = test_images / 255.0"
   ]
  },
  {
   "cell_type": "markdown",
   "metadata": {},
   "source": [
    "<img src=\"https://media.licdn.com/dms/image/C4E12AQFwgCS444bQUA/article-cover_image-shrink_720_1280/0/1622199152107?e=1727308800&v=beta&t=CNlfIqz-WB5ttyYCZWCPjM7Ea34Xr886-UkNBsrzuhk\">"
   ]
  },
  {
   "cell_type": "code",
   "execution_count": 15,
   "metadata": {},
   "outputs": [
    {
     "data": {
      "text/plain": [
       "<matplotlib.image.AxesImage at 0x30813c250>"
      ]
     },
     "execution_count": 15,
     "metadata": {},
     "output_type": "execute_result"
    },
    {
     "data": {
      "image/png": "[encoded data removed]",
      "text/plain": [
       "<Figure size 640x480 with 1 Axes>"
      ]
     },
     "metadata": {},
     "output_type": "display_data"
    }
   ],
   "source": [
    "plt.imshow(train_images[14], cmap='gray')\n"
   ]
  },
  {
   "cell_type": "markdown",
   "metadata": {},
   "source": [
    "## Convolutional Neural Network - CNNs - Image Classification"
   ]
  },
  {
   "cell_type": "code",
   "execution_count": 31,
   "metadata": {},
   "outputs": [],
   "source": [
    "from tensorflow.keras.models import Sequential\n",
    "from tensorflow.keras.layers import Dense, Conv2D, InputLayer, Reshape, MaxPooling2D, Flatten, BatchNormalization, Dropout"
   ]
  },
  {
   "cell_type": "code",
   "execution_count": 20,
   "metadata": {},
   "outputs": [],
   "source": [
    "model = Sequential()\n",
    "model.add(InputLayer(shape=(28, 28)))\n",
    "model.add(Reshape(target_shape=(28, 28, 1)))\n",
    "model.add(Conv2D(filters=12,kernel_size=(3,3), activation='relu'))\n",
    "model.add(MaxPooling2D(pool_size=(2,2)))\n",
    "model.add(Flatten())\n",
    "model.add(Dense(10)) # 10 differant classes\n",
    "model.compile(optimizer='adam', loss=tf.keras.losses.SparseCategoricalCrossentropy(from_logits=True), metrics=['accuracy'])"
   ]
  },
  {
   "cell_type": "code",
   "execution_count": 22,
   "metadata": {},
   "outputs": [
    {
     "name": "stdout",
     "output_type": "stream",
     "text": [
      "Epoch 1/10\n",
      "\u001b[1m1688/1688\u001b[0m \u001b[32m━━━━━━━━━━━━━━━━━━━━\u001b[0m\u001b[37m\u001b[0m \u001b[1m3s\u001b[0m 2ms/step - accuracy: 0.9850 - loss: 0.0508 - val_accuracy: 0.9827 - val_loss: 0.0623\n",
      "Epoch 2/10\n",
      "\u001b[1m1688/1688\u001b[0m \u001b[32m━━━━━━━━━━━━━━━━━━━━\u001b[0m\u001b[37m\u001b[0m \u001b[1m3s\u001b[0m 2ms/step - accuracy: 0.9874 - loss: 0.0423 - val_accuracy: 0.9838 - val_loss: 0.0598\n",
      "Epoch 3/10\n",
      "\u001b[1m1688/1688\u001b[0m \u001b[32m━━━━━━━━━━━━━━━━━━━━\u001b[0m\u001b[37m\u001b[0m \u001b[1m3s\u001b[0m 2ms/step - accuracy: 0.9888 - loss: 0.0379 - val_accuracy: 0.9850 - val_loss: 0.0595\n",
      "Epoch 4/10\n",
      "\u001b[1m1688/1688\u001b[0m \u001b[32m━━━━━━━━━━━━━━━━━━━━\u001b[0m\u001b[37m\u001b[0m \u001b[1m3s\u001b[0m 2ms/step - accuracy: 0.9894 - loss: 0.0357 - val_accuracy: 0.9860 - val_loss: 0.0581\n",
      "Epoch 5/10\n",
      "\u001b[1m1688/1688\u001b[0m \u001b[32m━━━━━━━━━━━━━━━━━━━━\u001b[0m\u001b[37m\u001b[0m \u001b[1m3s\u001b[0m 2ms/step - accuracy: 0.9910 - loss: 0.0312 - val_accuracy: 0.9857 - val_loss: 0.0600\n",
      "Epoch 6/10\n",
      "\u001b[1m1688/1688\u001b[0m \u001b[32m━━━━━━━━━━━━━━━━━━━━\u001b[0m\u001b[37m\u001b[0m \u001b[1m3s\u001b[0m 2ms/step - accuracy: 0.9906 - loss: 0.0310 - val_accuracy: 0.9847 - val_loss: 0.0614\n",
      "Epoch 7/10\n",
      "\u001b[1m1688/1688\u001b[0m \u001b[32m━━━━━━━━━━━━━━━━━━━━\u001b[0m\u001b[37m\u001b[0m \u001b[1m3s\u001b[0m 2ms/step - accuracy: 0.9922 - loss: 0.0271 - val_accuracy: 0.9848 - val_loss: 0.0622\n",
      "Epoch 8/10\n",
      "\u001b[1m1688/1688\u001b[0m \u001b[32m━━━━━━━━━━━━━━━━━━━━\u001b[0m\u001b[37m\u001b[0m \u001b[1m3s\u001b[0m 2ms/step - accuracy: 0.9933 - loss: 0.0236 - val_accuracy: 0.9853 - val_loss: 0.0601\n",
      "Epoch 9/10\n",
      "\u001b[1m1688/1688\u001b[0m \u001b[32m━━━━━━━━━━━━━━━━━━━━\u001b[0m\u001b[37m\u001b[0m \u001b[1m3s\u001b[0m 2ms/step - accuracy: 0.9937 - loss: 0.0218 - val_accuracy: 0.9852 - val_loss: 0.0625\n",
      "Epoch 10/10\n",
      "\u001b[1m1688/1688\u001b[0m \u001b[32m━━━━━━━━━━━━━━━━━━━━\u001b[0m\u001b[37m\u001b[0m \u001b[1m3s\u001b[0m 2ms/step - accuracy: 0.9944 - loss: 0.0201 - val_accuracy: 0.9857 - val_loss: 0.0645\n"
     ]
    },
    {
     "data": {
      "text/plain": [
       "<keras.src.callbacks.history.History at 0x307bd43d0>"
      ]
     },
     "execution_count": 22,
     "metadata": {},
     "output_type": "execute_result"
    }
   ],
   "source": [
    "model.fit(train_images, train_labels, validation_split=0.10, epochs=10)"
   ]
  },
  {
   "cell_type": "code",
   "execution_count": 23,
   "metadata": {},
   "outputs": [
    {
     "name": "stdout",
     "output_type": "stream",
     "text": [
      "\u001b[1m313/313\u001b[0m \u001b[32m━━━━━━━━━━━━━━━━━━━━\u001b[0m\u001b[37m\u001b[0m \u001b[1m0s\u001b[0m 651us/step - accuracy: 0.9783 - loss: 0.0735\n"
     ]
    }
   ],
   "source": [
    "loss, acc = model.evaluate(test_images, test_labels)"
   ]
  },
  {
   "cell_type": "code",
   "execution_count": 24,
   "metadata": {},
   "outputs": [
    {
     "data": {
      "text/plain": [
       "0.9829000234603882"
      ]
     },
     "execution_count": 24,
     "metadata": {},
     "output_type": "execute_result"
    }
   ],
   "source": [
    "acc"
   ]
  },
  {
   "cell_type": "code",
   "execution_count": 26,
   "metadata": {},
   "outputs": [
    {
     "name": "stderr",
     "output_type": "stream",
     "text": [
      "WARNING:absl:You are saving your model as an HDF5 file via `model.save()` or `keras.saving.save_model(model)`. This file format is considered legacy. We recommend using instead the native Keras format, e.g. `model.save('my_model.keras')` or `keras.saving.save_model(model, 'my_model.keras')`. \n"
     ]
    }
   ],
   "source": [
    "model.save('mnist_model.h5')"
   ]
  },
  {
   "cell_type": "code",
   "execution_count": 30,
   "metadata": {},
   "outputs": [],
   "source": [
    "#data = tf.keras.utils.image_dataset_from_directory('dataset')"
   ]
  },
  {
   "cell_type": "code",
   "execution_count": 32,
   "metadata": {},
   "outputs": [],
   "source": [
    "model = Sequential()\n",
    "model.add(InputLayer(shape=(28, 28)))\n",
    "model.add(Reshape(target_shape=(28, 28, 1)))\n",
    "model.add(Conv2D(filters=12,kernel_size=(3,3), activation='relu'))\n",
    "model.add(MaxPooling2D(pool_size=(2,2)))\n",
    "model.add(Flatten())\n",
    "model.add(BatchNormalization())\n",
    "model.add(Dense(60))\n",
    "model.add(Dropout(0.25))\n",
    "model.add(BatchNormalization())\n",
    "model.add(Dense(10)) # 10 differant classes\n",
    "model.compile(optimizer='adam', loss=tf.keras.losses.SparseCategoricalCrossentropy(from_logits=True), metrics=['accuracy'])"
   ]
  },
  {
   "cell_type": "markdown",
   "metadata": {},
   "source": [
    "#### Techniques to increase the success rate of Deep Learning\n",
    "\n",
    "1-> Increase the number of layers\n",
    "\n",
    "2-> Increase the number of neurons in each layer\n",
    "\n",
    "3-> Dropout: Prevents Ovetfitting, Enables Better Learning\n"
   ]
  },
  {
   "cell_type": "markdown",
   "metadata": {},
   "source": []
  }
 ],
 "metadata": {
  "kernelspec": {
   "display_name": "base",
   "language": "python",
   "name": "python3"
  },
  "language_info": {
   "codemirror_mode": {
    "name": "ipython",
    "version": 3
   },
   "file_extension": ".py",
   "mimetype": "text/x-python",
   "name": "python",
   "nbconvert_exporter": "python",
   "pygments_lexer": "ipython3",
   "version": "3.11.7"
  }
 },
 "nbformat": 4,
 "nbformat_minor": 2
}
